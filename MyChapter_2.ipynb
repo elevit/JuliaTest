{
  "nbformat": 4,
  "nbformat_minor": 0,
  "metadata": {
    "kernelspec": {
      "display_name": "Julia",
      "language": "julia",
      "name": "julia"
    },
    "language_info": {
      "file_extension": ".jl",
      "mimetype": "application/julia",
      "name": "julia",
      "version": "1.0.2"
    },
    "colab": {
      "name": "MyChapter 2.ipynb",
      "provenance": [],
      "collapsed_sections": [],
      "include_colab_link": true
    }
  },
  "cells": [
    {
      "cell_type": "markdown",
      "metadata": {
        "id": "view-in-github",
        "colab_type": "text"
      },
      "source": [
        "<a href=\"https://colab.research.google.com/github/elevit/JuliaTest/blob/main/MyChapter_2.ipynb\" target=\"_parent\"><img src=\"https://colab.research.google.com/assets/colab-badge.svg\" alt=\"Open In Colab\"/></a>"
      ]
    },
    {
      "cell_type": "code",
      "metadata": {
        "colab": {
          "base_uri": "https://localhost:8080/"
        },
        "id": "_NGm76rKOz8q",
        "outputId": "f78fd240-e0ff-4826-f01c-13640fe22d3a"
      },
      "source": [
        "%%shell\r\n",
        "set -e\r\n",
        "\r\n",
        "#---------------------------------------------------#\r\n",
        "JULIA_VERSION=\"1.5.3\" # any version ≥ 0.7.0\r\n",
        "JULIA_PACKAGES=\"IJulia BenchmarkTools PyCall PyPlot\"\r\n",
        "JULIA_PACKAGES_IF_GPU=\"CUDA\"\r\n",
        "JULIA_NUM_THREADS=4\r\n",
        "#---------------------------------------------------#\r\n",
        "\r\n",
        "if [ -n \"$COLAB_GPU\" ] && [ -z `which julia` ]; then\r\n",
        "  # Install Julia\r\n",
        "  JULIA_VER=`cut -d '.' -f -2 <<< \"$JULIA_VERSION\"`\r\n",
        "  echo \"Installing Julia $JULIA_VERSION on the current Colab Runtime...\"\r\n",
        "  BASE_URL=\"https://julialang-s3.julialang.org/bin/linux/x64\"\r\n",
        "  URL=\"$BASE_URL/$JULIA_VER/julia-$JULIA_VERSION-linux-x86_64.tar.gz\"\r\n",
        "  wget -nv $URL -O /tmp/julia.tar.gz # -nv means \"not verbose\"\r\n",
        "  tar -x -f /tmp/julia.tar.gz -C /usr/local --strip-components 1\r\n",
        "  rm /tmp/julia.tar.gz\r\n",
        "\r\n",
        "  # Install Packages\r\n",
        "  if [ \"$COLAB_GPU\" = \"1\" ]; then\r\n",
        "      JULIA_PACKAGES=\"$JULIA_PACKAGES $JULIA_PACKAGES_IF_GPU\"\r\n",
        "  fi\r\n",
        "  for PKG in `echo $JULIA_PACKAGES`; do\r\n",
        "    echo \"Installing Julia package $PKG...\"\r\n",
        "    julia -e 'using Pkg; pkg\"add '$PKG'; precompile;\"'\r\n",
        "  done\r\n",
        "\r\n",
        "  # Install kernel and rename it to \"julia\"\r\n",
        "  echo \"Installing IJulia kernel...\"\r\n",
        "  julia -e 'using IJulia; IJulia.installkernel(\"julia\", env=Dict(\r\n",
        "      \"JULIA_NUM_THREADS\"=>\"'\"$JULIA_NUM_THREADS\"'\"))'\r\n",
        "  KERNEL_DIR=`julia -e \"using IJulia; print(IJulia.kerneldir())\"`\r\n",
        "  KERNEL_NAME=`ls -d \"$KERNEL_DIR\"/julia*`\r\n",
        "  mv -f $KERNEL_NAME \"$KERNEL_DIR\"/julia  \r\n",
        "\r\n",
        "  echo ''\r\n",
        "  echo \"Successfully installed `julia -v`!\"\r\n",
        "  echo \"Please reload this page (press Ctrl+R, ⌘+R, or the F5 key) then\"\r\n",
        "  echo \"jump to the 'Checking the Installation' section.\"\r\n",
        "fi"
      ],
      "execution_count": null,
      "outputs": [
        {
          "output_type": "stream",
          "text": [
            "Installing Julia 1.5.3 on the current Colab Runtime...\n",
            "2021-01-03 21:51:03 URL:https://storage.googleapis.com/julialang2/bin/linux/x64/1.5/julia-1.5.3-linux-x86_64.tar.gz [105260711/105260711] -> \"/tmp/julia.tar.gz\" [1]\n",
            "Installing Julia package IJulia...\n",
            "\u001b[32m\u001b[1m Installing\u001b[22m\u001b[39m known registries into `~/.julia`\n",
            "######################################################################## 100.0%\n",
            "\u001b[32m\u001b[1m      Added\u001b[22m\u001b[39m registry `General` to `~/.julia/registries/General`\n",
            "\u001b[32m\u001b[1m  Resolving\u001b[22m\u001b[39m package versions...\n",
            "\u001b[32m\u001b[1m  Installed\u001b[22m\u001b[39m Conda ─────────── v1.5.0\n",
            "\u001b[32m\u001b[1m  Installed\u001b[22m\u001b[39m IJulia ────────── v1.23.1\n",
            "\u001b[32m\u001b[1m  Installed\u001b[22m\u001b[39m MbedTLS ───────── v1.0.3\n",
            "\u001b[32m\u001b[1m  Installed\u001b[22m\u001b[39m JLLWrappers ───── v1.1.4\n",
            "\u001b[32m\u001b[1m  Installed\u001b[22m\u001b[39m Artifacts ─────── v1.3.0\n",
            "\u001b[32m\u001b[1m  Installed\u001b[22m\u001b[39m ZMQ ───────────── v1.2.1\n",
            "\u001b[32m\u001b[1m  Installed\u001b[22m\u001b[39m ZeroMQ_jll ────── v4.3.2+5\n",
            "\u001b[32m\u001b[1m  Installed\u001b[22m\u001b[39m SoftGlobalScope ─ v1.1.0\n",
            "\u001b[32m\u001b[1m  Installed\u001b[22m\u001b[39m VersionParsing ── v1.2.0\n",
            "\u001b[32m\u001b[1m  Installed\u001b[22m\u001b[39m Parsers ───────── v1.0.15\n",
            "\u001b[32m\u001b[1m  Installed\u001b[22m\u001b[39m JSON ──────────── v0.21.1\n",
            "\u001b[32m\u001b[1m  Installed\u001b[22m\u001b[39m MbedTLS_jll ───── v2.16.8+1\n",
            "\u001b[32m\u001b[1mDownloading\u001b[22m\u001b[39m artifact: ZeroMQ\n",
            "######################################################################## 100.0%\n",
            "\u001b[1A\u001b[2K\u001b[?25h\u001b[32m\u001b[1mDownloading\u001b[22m\u001b[39m artifact: MbedTLS\n",
            "######################################################################## 100.0%\n",
            "\u001b[1A\u001b[2K\u001b[?25h\u001b[32m\u001b[1mUpdating\u001b[22m\u001b[39m `~/.julia/environments/v1.5/Project.toml`\n",
            " \u001b[90m [7073ff75] \u001b[39m\u001b[92m+ IJulia v1.23.1\u001b[39m\n",
            "\u001b[32m\u001b[1mUpdating\u001b[22m\u001b[39m `~/.julia/environments/v1.5/Manifest.toml`\n",
            " \u001b[90m [56f22d72] \u001b[39m\u001b[92m+ Artifacts v1.3.0\u001b[39m\n",
            " \u001b[90m [8f4d0f93] \u001b[39m\u001b[92m+ Conda v1.5.0\u001b[39m\n",
            " \u001b[90m [7073ff75] \u001b[39m\u001b[92m+ IJulia v1.23.1\u001b[39m\n",
            " \u001b[90m [692b3bcd] \u001b[39m\u001b[92m+ JLLWrappers v1.1.4\u001b[39m\n",
            " \u001b[90m [682c06a0] \u001b[39m\u001b[92m+ JSON v0.21.1\u001b[39m\n",
            " \u001b[90m [739be429] \u001b[39m\u001b[92m+ MbedTLS v1.0.3\u001b[39m\n",
            " \u001b[90m [c8ffd9c3] \u001b[39m\u001b[92m+ MbedTLS_jll v2.16.8+1\u001b[39m\n",
            " \u001b[90m [69de0a69] \u001b[39m\u001b[92m+ Parsers v1.0.15\u001b[39m\n",
            " \u001b[90m [b85f4697] \u001b[39m\u001b[92m+ SoftGlobalScope v1.1.0\u001b[39m\n",
            " \u001b[90m [81def892] \u001b[39m\u001b[92m+ VersionParsing v1.2.0\u001b[39m\n",
            " \u001b[90m [c2297ded] \u001b[39m\u001b[92m+ ZMQ v1.2.1\u001b[39m\n",
            " \u001b[90m [8f1865be] \u001b[39m\u001b[92m+ ZeroMQ_jll v4.3.2+5\u001b[39m\n",
            " \u001b[90m [2a0f44e3] \u001b[39m\u001b[92m+ Base64\u001b[39m\n",
            " \u001b[90m [ade2ca70] \u001b[39m\u001b[92m+ Dates\u001b[39m\n",
            " \u001b[90m [8ba89e20] \u001b[39m\u001b[92m+ Distributed\u001b[39m\n",
            " \u001b[90m [7b1f6079] \u001b[39m\u001b[92m+ FileWatching\u001b[39m\n",
            " \u001b[90m [b77e0a4c] \u001b[39m\u001b[92m+ InteractiveUtils\u001b[39m\n",
            " \u001b[90m [76f85450] \u001b[39m\u001b[92m+ LibGit2\u001b[39m\n",
            " \u001b[90m [8f399da3] \u001b[39m\u001b[92m+ Libdl\u001b[39m\n",
            " \u001b[90m [56ddb016] \u001b[39m\u001b[92m+ Logging\u001b[39m\n",
            " \u001b[90m [d6f4376e] \u001b[39m\u001b[92m+ Markdown\u001b[39m\n",
            " \u001b[90m [a63ad114] \u001b[39m\u001b[92m+ Mmap\u001b[39m\n",
            " \u001b[90m [44cfe95a] \u001b[39m\u001b[92m+ Pkg\u001b[39m\n",
            " \u001b[90m [de0858da] \u001b[39m\u001b[92m+ Printf\u001b[39m\n",
            " \u001b[90m [3fa0cd96] \u001b[39m\u001b[92m+ REPL\u001b[39m\n",
            " \u001b[90m [9a3f8284] \u001b[39m\u001b[92m+ Random\u001b[39m\n",
            " \u001b[90m [ea8e919c] \u001b[39m\u001b[92m+ SHA\u001b[39m\n",
            " \u001b[90m [9e88b42a] \u001b[39m\u001b[92m+ Serialization\u001b[39m\n",
            " \u001b[90m [6462fe0b] \u001b[39m\u001b[92m+ Sockets\u001b[39m\n",
            " \u001b[90m [8dfed614] \u001b[39m\u001b[92m+ Test\u001b[39m\n",
            " \u001b[90m [cf7118a7] \u001b[39m\u001b[92m+ UUIDs\u001b[39m\n",
            " \u001b[90m [4ec0a83e] \u001b[39m\u001b[92m+ Unicode\u001b[39m\n",
            "\u001b[32m\u001b[1m   Building\u001b[22m\u001b[39m Conda ─→ `~/.julia/packages/Conda/x5ml4/deps/build.log`\n",
            "\u001b[32m\u001b[1m   Building\u001b[22m\u001b[39m IJulia → `~/.julia/packages/IJulia/IDNmS/deps/build.log`\n",
            "\u001b[32m\u001b[1mPrecompiling\u001b[22m\u001b[39m project...\n",
            "Installing Julia package BenchmarkTools...\n",
            "\u001b[32m\u001b[1m   Updating\u001b[22m\u001b[39m registry at `~/.julia/registries/General`\n",
            "\u001b[32m\u001b[1m  Resolving\u001b[22m\u001b[39m package versions...\n",
            "\u001b[32m\u001b[1m  Installed\u001b[22m\u001b[39m BenchmarkTools ─ v0.5.0\n",
            "\u001b[32m\u001b[1mUpdating\u001b[22m\u001b[39m `~/.julia/environments/v1.5/Project.toml`\n",
            " \u001b[90m [6e4b80f9] \u001b[39m\u001b[92m+ BenchmarkTools v0.5.0\u001b[39m\n",
            "\u001b[32m\u001b[1mUpdating\u001b[22m\u001b[39m `~/.julia/environments/v1.5/Manifest.toml`\n",
            " \u001b[90m [6e4b80f9] \u001b[39m\u001b[92m+ BenchmarkTools v0.5.0\u001b[39m\n",
            " \u001b[90m [37e2e46d] \u001b[39m\u001b[92m+ LinearAlgebra\u001b[39m\n",
            " \u001b[90m [2f01184e] \u001b[39m\u001b[92m+ SparseArrays\u001b[39m\n",
            " \u001b[90m [10745b16] \u001b[39m\u001b[92m+ Statistics\u001b[39m\n",
            "\u001b[32m\u001b[1mPrecompiling\u001b[22m\u001b[39m project...\n",
            "Installing Julia package PyCall...\n",
            "\u001b[32m\u001b[1m   Updating\u001b[22m\u001b[39m registry at `~/.julia/registries/General`\n",
            "\u001b[32m\u001b[1m  Resolving\u001b[22m\u001b[39m package versions...\n",
            "\u001b[32m\u001b[1m  Installed\u001b[22m\u001b[39m MacroTools ─ v0.5.6\n",
            "\u001b[32m\u001b[1m  Installed\u001b[22m\u001b[39m PyCall ───── v1.92.1\n",
            "\u001b[32m\u001b[1mUpdating\u001b[22m\u001b[39m `~/.julia/environments/v1.5/Project.toml`\n",
            " \u001b[90m [438e738f] \u001b[39m\u001b[92m+ PyCall v1.92.1\u001b[39m\n",
            "\u001b[32m\u001b[1mUpdating\u001b[22m\u001b[39m `~/.julia/environments/v1.5/Manifest.toml`\n",
            " \u001b[90m [1914dd2f] \u001b[39m\u001b[92m+ MacroTools v0.5.6\u001b[39m\n",
            " \u001b[90m [438e738f] \u001b[39m\u001b[92m+ PyCall v1.92.1\u001b[39m\n",
            "\u001b[32m\u001b[1m   Building\u001b[22m\u001b[39m PyCall → `~/.julia/packages/PyCall/BcTLp/deps/build.log`\n",
            "\u001b[32m\u001b[1mPrecompiling\u001b[22m\u001b[39m project...\n",
            "Installing Julia package PyPlot...\n",
            "\u001b[32m\u001b[1m   Updating\u001b[22m\u001b[39m registry at `~/.julia/registries/General`\n",
            "\u001b[32m\u001b[1m  Resolving\u001b[22m\u001b[39m package versions...\n",
            "\u001b[32m\u001b[1m  Installed\u001b[22m\u001b[39m Reexport ────────── v1.0.0\n",
            "\u001b[32m\u001b[1m  Installed\u001b[22m\u001b[39m PyPlot ──────────── v2.9.0\n",
            "\u001b[32m\u001b[1m  Installed\u001b[22m\u001b[39m LaTeXStrings ────── v1.2.0\n",
            "\u001b[32m\u001b[1m  Installed\u001b[22m\u001b[39m FixedPointNumbers ─ v0.8.4\n",
            "\u001b[32m\u001b[1m  Installed\u001b[22m\u001b[39m ColorTypes ──────── v0.10.9\n",
            "\u001b[32m\u001b[1m  Installed\u001b[22m\u001b[39m Colors ──────────── v0.12.6\n",
            "\u001b[32m\u001b[1mUpdating\u001b[22m\u001b[39m `~/.julia/environments/v1.5/Project.toml`\n",
            " \u001b[90m [d330b81b] \u001b[39m\u001b[92m+ PyPlot v2.9.0\u001b[39m\n",
            "\u001b[32m\u001b[1mUpdating\u001b[22m\u001b[39m `~/.julia/environments/v1.5/Manifest.toml`\n",
            " \u001b[90m [3da002f7] \u001b[39m\u001b[92m+ ColorTypes v0.10.9\u001b[39m\n",
            " \u001b[90m [5ae59095] \u001b[39m\u001b[92m+ Colors v0.12.6\u001b[39m\n",
            " \u001b[90m [53c48c17] \u001b[39m\u001b[92m+ FixedPointNumbers v0.8.4\u001b[39m\n",
            " \u001b[90m [b964fa9f] \u001b[39m\u001b[92m+ LaTeXStrings v1.2.0\u001b[39m\n",
            " \u001b[90m [d330b81b] \u001b[39m\u001b[92m+ PyPlot v2.9.0\u001b[39m\n",
            " \u001b[90m [189a3867] \u001b[39m\u001b[92m+ Reexport v1.0.0\u001b[39m\n",
            "\u001b[32m\u001b[1mPrecompiling\u001b[22m\u001b[39m project...\n",
            "Installing IJulia kernel...\n"
          ],
          "name": "stdout"
        }
      ]
    },
    {
      "cell_type": "code",
      "metadata": {
        "id": "uxA3VFVBOx7C",
        "colab": {
          "base_uri": "https://localhost:8080/"
        },
        "outputId": "4fe22ee0-bd04-4a02-d779-d7b39da1fee9"
      },
      "source": [
        "using Pkg\n",
        "pkg\"activate .\""
      ],
      "execution_count": 1,
      "outputs": [
        {
          "output_type": "stream",
          "text": [
            "\u001b[32m\u001b[1m Activating\u001b[22m\u001b[39m new environment at `/content/Project.toml`\n"
          ],
          "name": "stderr"
        }
      ]
    },
    {
      "cell_type": "code",
      "metadata": {
        "id": "-tdZ1RoXOx7J",
        "colab": {
          "base_uri": "https://localhost:8080/"
        },
        "outputId": "bb1f762d-4eb2-4baf-ff9f-38ed3b91c22f"
      },
      "source": [
        "# Run this cell in order to download all the package dependencies with the exact versions used in the book\n",
        "# This is necessary if (some of) the packages have been updated and have introduced breaking changes\n",
        "pkg\"instantiate\""
      ],
      "execution_count": 2,
      "outputs": [
        {
          "output_type": "stream",
          "text": [
            "\u001b[32m\u001b[1m   Updating\u001b[22m\u001b[39m registry at `~/.julia/registries/General`\n",
            "\u001b[32m\u001b[1mNo Changes\u001b[22m\u001b[39m to `/content/Project.toml`\n",
            "\u001b[32m\u001b[1mNo Changes\u001b[22m\u001b[39m to `/content/Manifest.toml`\n"
          ],
          "name": "stderr"
        }
      ]
    },
    {
      "cell_type": "code",
      "metadata": {
        "id": "9bs6IvFtOx7K",
        "colab": {
          "base_uri": "https://localhost:8080/"
        },
        "outputId": "72604632-431e-4236-af04-ab4824f9c99a"
      },
      "source": [
        "book = \"Julia v1.0 By Example\""
      ],
      "execution_count": 3,
      "outputs": [
        {
          "output_type": "execute_result",
          "data": {
            "text/plain": [
              "\"Julia v1.0 By Example\""
            ]
          },
          "metadata": {
            "tags": []
          },
          "execution_count": 3
        }
      ]
    },
    {
      "cell_type": "code",
      "metadata": {
        "id": "bkfRNXS_Ox7K",
        "colab": {
          "base_uri": "https://localhost:8080/"
        },
        "outputId": "aaa999cc-1e64-4649-914f-d13a6e6909eb"
      },
      "source": [
        "pi = 3.14"
      ],
      "execution_count": 4,
      "outputs": [
        {
          "output_type": "execute_result",
          "data": {
            "text/plain": [
              "3.14"
            ]
          },
          "metadata": {
            "tags": []
          },
          "execution_count": 4
        }
      ]
    },
    {
      "cell_type": "code",
      "metadata": {
        "id": "HNKyg7M0Ox7L",
        "colab": {
          "base_uri": "https://localhost:8080/"
        },
        "outputId": "f292b350-7fb5-4556-b483-5924e6c8cdde"
      },
      "source": [
        "ANSWER = 42"
      ],
      "execution_count": 5,
      "outputs": [
        {
          "output_type": "execute_result",
          "data": {
            "text/plain": [
              "42"
            ]
          },
          "metadata": {
            "tags": []
          },
          "execution_count": 5
        }
      ]
    },
    {
      "cell_type": "code",
      "metadata": {
        "id": "mBJh6XQuOx7L",
        "colab": {
          "base_uri": "https://localhost:8080/"
        },
        "outputId": "2d9f2700-b1dd-47fb-b436-fcae5be03d9a"
      },
      "source": [
        "my_first_name = \"Adrian\""
      ],
      "execution_count": 6,
      "outputs": [
        {
          "output_type": "execute_result",
          "data": {
            "text/plain": [
              "\"Adrian\""
            ]
          },
          "metadata": {
            "tags": []
          },
          "execution_count": 6
        }
      ]
    },
    {
      "cell_type": "code",
      "metadata": {
        "id": "1W2PYLMPOx7M",
        "colab": {
          "base_uri": "https://localhost:8080/",
          "height": 149
        },
        "outputId": "8c1128f1-d3c0-49af-ffa7-bbd0c7a1a8ee"
      },
      "source": [
        "answer"
      ],
      "execution_count": 7,
      "outputs": [
        {
          "output_type": "error",
          "ename": "LoadError",
          "evalue": "ignored",
          "traceback": [
            "UndefVarError: answer not defined",
            "",
            "Stacktrace:",
            " [1] top-level scope",
            " [2] include_string(::Function, ::Module, ::String, ::String) at ./loading.jl:1091"
          ]
        }
      ]
    },
    {
      "cell_type": "code",
      "metadata": {
        "id": "NuqRt5wkOx7M",
        "colab": {
          "base_uri": "https://localhost:8080/"
        },
        "outputId": "6e0e9807-64ac-463f-8e5a-48bc2759d47c"
      },
      "source": [
        "δ = 130"
      ],
      "execution_count": 8,
      "outputs": [
        {
          "output_type": "execute_result",
          "data": {
            "text/plain": [
              "130"
            ]
          },
          "metadata": {
            "tags": []
          },
          "execution_count": 8
        }
      ]
    },
    {
      "cell_type": "code",
      "metadata": {
        "id": "QYpBhU-pOx7M",
        "colab": {
          "base_uri": "https://localhost:8080/"
        },
        "outputId": "5b5a751d-0a30-4bd6-977d-eac8ff0b0afb"
      },
      "source": [
        "🚀 = \"apollo 11\""
      ],
      "execution_count": 9,
      "outputs": [
        {
          "output_type": "execute_result",
          "data": {
            "text/plain": [
              "\"apollo 11\""
            ]
          },
          "metadata": {
            "tags": []
          },
          "execution_count": 9
        }
      ]
    },
    {
      "cell_type": "code",
      "metadata": {
        "id": "iORzdEZ7Ox7N"
      },
      "source": [
        "do = 3"
      ],
      "execution_count": null,
      "outputs": []
    },
    {
      "cell_type": "code",
      "metadata": {
        "id": "GktqmX15Ox7N"
      },
      "source": [
        "end = \"Paris\""
      ],
      "execution_count": null,
      "outputs": []
    },
    {
      "cell_type": "code",
      "metadata": {
        "id": "Tk_uFMf_Ox7N"
      },
      "source": [
        "MysteryVar"
      ],
      "execution_count": null,
      "outputs": []
    },
    {
      "cell_type": "code",
      "metadata": {
        "id": "R-Sx0HeFOx7N"
      },
      "source": [
        "const firstmonth = \"January\""
      ],
      "execution_count": null,
      "outputs": []
    },
    {
      "cell_type": "code",
      "metadata": {
        "id": "pEI5sz8bOx7O"
      },
      "source": [
        "const mealoption = \"vegetarian\""
      ],
      "execution_count": null,
      "outputs": []
    },
    {
      "cell_type": "code",
      "metadata": {
        "id": "fIAf15-2Ox7O"
      },
      "source": [
        "mealoption = \"vegan\""
      ],
      "execution_count": null,
      "outputs": []
    },
    {
      "cell_type": "code",
      "metadata": {
        "id": "4XuU0PM2Ox7O"
      },
      "source": [
        "mealoption = 2"
      ],
      "execution_count": null,
      "outputs": []
    },
    {
      "cell_type": "code",
      "metadata": {
        "id": "55WcntnIOx7O"
      },
      "source": [
        "const amount = 10.25"
      ],
      "execution_count": null,
      "outputs": []
    },
    {
      "cell_type": "code",
      "metadata": {
        "id": "Ty25QZzFOx7P"
      },
      "source": [
        "amount = 10"
      ],
      "execution_count": null,
      "outputs": []
    },
    {
      "cell_type": "code",
      "metadata": {
        "id": "ttGww29JOx7P"
      },
      "source": [
        "amount = 10.00"
      ],
      "execution_count": null,
      "outputs": []
    },
    {
      "cell_type": "code",
      "metadata": {
        "id": "Hy-jHmPFOx7P"
      },
      "source": [
        "#=\n",
        "\tOur company charges a fixed \n",
        "\t$10 fee per transaction.\n",
        "=#\n",
        "const flatfee = 10 # flat fee, per transaction "
      ],
      "execution_count": null,
      "outputs": []
    },
    {
      "cell_type": "code",
      "metadata": {
        "id": "c7ZcXD8yOx7P",
        "colab": {
          "base_uri": "https://localhost:8080/"
        },
        "outputId": "9d7de7d4-642b-452d-956d-bc184fe3fdc1"
      },
      "source": [
        "\"Measuring programming progress by lines of code is like measuring air-craft building progress by weight.\""
      ],
      "execution_count": 10,
      "outputs": [
        {
          "output_type": "execute_result",
          "data": {
            "text/plain": [
              "\"Measuring programming progress by lines of code is like measuring air-craft building progress by weight.\""
            ]
          },
          "metadata": {
            "tags": []
          },
          "execution_count": 10
        }
      ]
    },
    {
      "cell_type": "code",
      "metadata": {
        "id": "46arNI6KOx7P"
      },
      "source": [
        "\"Beta is Latin for \\\"still doesn’t work\\\".\""
      ],
      "execution_count": null,
      "outputs": []
    },
    {
      "cell_type": "code",
      "metadata": {
        "id": "bgl_di9QOx7Q"
      },
      "source": [
        "\"\"\"Beta is Latin for \"still doesn’t work\".\"\"\""
      ],
      "execution_count": null,
      "outputs": []
    },
    {
      "cell_type": "code",
      "metadata": {
        "id": "FOgzvNGWOx7Q"
      },
      "source": [
        "\"\"\"Beta is Latin for \"still doesn’t work\"\"\"\""
      ],
      "execution_count": null,
      "outputs": []
    },
    {
      "cell_type": "code",
      "metadata": {
        "id": "VhNQrgs7Ox7Q"
      },
      "source": [
        "\"\"\"\n",
        "  \t\t\tHello\n",
        "  \t\tLook\n",
        "  \tHere\"\"\""
      ],
      "execution_count": null,
      "outputs": []
    },
    {
      "cell_type": "code",
      "metadata": {
        "id": "6Jm-mESXOx7Q",
        "colab": {
          "base_uri": "https://localhost:8080/"
        },
        "outputId": "982e10f6-8116-4793-d1f2-b40254c636aa"
      },
      "source": [
        "string(\"Itsy\", \" \", \"Bitsy\", \" \", \"Spider\")"
      ],
      "execution_count": 11,
      "outputs": [
        {
          "output_type": "execute_result",
          "data": {
            "text/plain": [
              "\"Itsy Bitsy Spider\""
            ]
          },
          "metadata": {
            "tags": []
          },
          "execution_count": 11
        }
      ]
    },
    {
      "cell_type": "code",
      "metadata": {
        "id": "yZgCvofMOx7Q",
        "colab": {
          "base_uri": "https://localhost:8080/"
        },
        "outputId": "81641b6b-64dd-43e1-a8e2-b8e5f91fb2aa"
      },
      "source": [
        "username = \"Adrian\"\n",
        "greeting = \"Good morning\"\n",
        "greeting * \", \" * username"
      ],
      "execution_count": 12,
      "outputs": [
        {
          "output_type": "execute_result",
          "data": {
            "text/plain": [
              "\"Good morning, Adrian\""
            ]
          },
          "metadata": {
            "tags": []
          },
          "execution_count": 12
        }
      ]
    },
    {
      "cell_type": "code",
      "metadata": {
        "id": "GehFPz9rOx7R"
      },
      "source": [
        "username = 9543794\n",
        "greeting = \"Good morning\"\n",
        "greeting * \", \" * username"
      ],
      "execution_count": null,
      "outputs": []
    },
    {
      "cell_type": "code",
      "metadata": {
        "id": "whYaNhZ6Ox7R",
        "colab": {
          "base_uri": "https://localhost:8080/"
        },
        "outputId": "a3398586-a5ba-4452-d7d3-cecee3cd5f70"
      },
      "source": [
        "username = 9543794\n",
        "greeting = \"Good morning\"\n",
        "string(greeting, \", \", username)"
      ],
      "execution_count": 13,
      "outputs": [
        {
          "output_type": "execute_result",
          "data": {
            "text/plain": [
              "\"Good morning, 9543794\""
            ]
          },
          "metadata": {
            "tags": []
          },
          "execution_count": 13
        }
      ]
    },
    {
      "cell_type": "code",
      "metadata": {
        "id": "i-FvzjOBOx7R"
      },
      "source": [
        "username = \"Adrian\"\n",
        "greeting = \"Good morning\"\n",
        "\"$greeting, $username\""
      ],
      "execution_count": null,
      "outputs": []
    },
    {
      "cell_type": "code",
      "metadata": {
        "id": "ww355Sf4Ox7R"
      },
      "source": [
        "\"$(uppercase(greeting)), $(reverse(username))\""
      ],
      "execution_count": null,
      "outputs": []
    },
    {
      "cell_type": "code",
      "metadata": {
        "id": "KC8_KU9AOx7R"
      },
      "source": [
        "\"The sum of 1 and 2 is $(1 + 2)\""
      ],
      "execution_count": null,
      "outputs": []
    },
    {
      "cell_type": "code",
      "metadata": {
        "id": "-gQ7YPcFOx7S",
        "colab": {
          "base_uri": "https://localhost:8080/"
        },
        "outputId": "5d4b8314-77c4-425c-e3a3-5abf3e162d17"
      },
      "source": [
        "str = \"Nice to see you\""
      ],
      "execution_count": 15,
      "outputs": [
        {
          "output_type": "execute_result",
          "data": {
            "text/plain": [
              "\"Nice to see you\""
            ]
          },
          "metadata": {
            "tags": []
          },
          "execution_count": 15
        }
      ]
    },
    {
      "cell_type": "code",
      "metadata": {
        "id": "cGev4XdiOx7S",
        "colab": {
          "base_uri": "https://localhost:8080/"
        },
        "outputId": "c07af4bd-0d6f-4247-f65f-9c3a0d98b1de"
      },
      "source": [
        "str[1]"
      ],
      "execution_count": 16,
      "outputs": [
        {
          "output_type": "execute_result",
          "data": {
            "text/plain": [
              "'N': ASCII/Unicode U+004E (category Lu: Letter, uppercase)"
            ]
          },
          "metadata": {
            "tags": []
          },
          "execution_count": 16
        }
      ]
    },
    {
      "cell_type": "code",
      "metadata": {
        "id": "sRb05vfAOx7S",
        "colab": {
          "base_uri": "https://localhost:8080/"
        },
        "outputId": "e8a0a201-30ab-412f-bbca-43fea20a7f27"
      },
      "source": [
        "str[9:11]"
      ],
      "execution_count": 17,
      "outputs": [
        {
          "output_type": "execute_result",
          "data": {
            "text/plain": [
              "\"see\""
            ]
          },
          "metadata": {
            "tags": []
          },
          "execution_count": 17
        }
      ]
    },
    {
      "cell_type": "code",
      "metadata": {
        "id": "es7ph8tUOx7S",
        "colab": {
          "base_uri": "https://localhost:8080/"
        },
        "outputId": "f365790b-1a65-41ff-9e72-c5b685730f8b"
      },
      "source": [
        "str = \"Søren Kierkegaard was a Danish Philosopher\""
      ],
      "execution_count": 18,
      "outputs": [
        {
          "output_type": "execute_result",
          "data": {
            "text/plain": [
              "\"Søren Kierkegaard was a Danish Philosopher\""
            ]
          },
          "metadata": {
            "tags": []
          },
          "execution_count": 18
        }
      ]
    },
    {
      "cell_type": "code",
      "metadata": {
        "id": "wYBrmDrQOx7S"
      },
      "source": [
        "str[1]"
      ],
      "execution_count": null,
      "outputs": []
    },
    {
      "cell_type": "code",
      "metadata": {
        "id": "LjjpS093Ox7T"
      },
      "source": [
        "str[2]"
      ],
      "execution_count": null,
      "outputs": []
    },
    {
      "cell_type": "code",
      "metadata": {
        "id": "QGLycw53Ox7T"
      },
      "source": [
        "str[3]"
      ],
      "execution_count": null,
      "outputs": []
    },
    {
      "cell_type": "code",
      "metadata": {
        "id": "STgZ_GLeOx7T"
      },
      "source": [
        "str[4]"
      ],
      "execution_count": null,
      "outputs": []
    },
    {
      "cell_type": "code",
      "metadata": {
        "id": "0lHHDY8VOx7T",
        "colab": {
          "base_uri": "https://localhost:8080/"
        },
        "outputId": "6c934c23-af54-47f3-ca49-4deddf1b0e90"
      },
      "source": [
        "nextind(str, 2)"
      ],
      "execution_count": 19,
      "outputs": [
        {
          "output_type": "execute_result",
          "data": {
            "text/plain": [
              "4"
            ]
          },
          "metadata": {
            "tags": []
          },
          "execution_count": 19
        }
      ]
    },
    {
      "cell_type": "code",
      "metadata": {
        "id": "gBd3eINqOx7T",
        "colab": {
          "base_uri": "https://localhost:8080/"
        },
        "outputId": "02d39328-2021-4847-bc3c-58c22939ff7a"
      },
      "source": [
        "for s in str\n",
        "    println(s)\n",
        "end"
      ],
      "execution_count": 20,
      "outputs": [
        {
          "output_type": "stream",
          "text": [
            "S\n",
            "ø\n",
            "r\n",
            "e\n",
            "n\n",
            " \n",
            "K\n",
            "i\n",
            "e\n",
            "r\n",
            "k\n",
            "e\n",
            "g\n",
            "a\n",
            "a\n",
            "r\n",
            "d\n",
            " \n",
            "w\n",
            "a\n",
            "s\n",
            " \n",
            "a\n",
            " \n",
            "D\n",
            "a\n",
            "n\n",
            "i\n",
            "s\n",
            "h\n",
            " \n",
            "P\n",
            "h\n",
            "i\n",
            "l\n",
            "o\n",
            "s\n",
            "o\n",
            "p\n",
            "h\n",
            "e\n",
            "r\n"
          ],
          "name": "stdout"
        }
      ]
    },
    {
      "cell_type": "code",
      "metadata": {
        "id": "LdiEoKvsOx7U",
        "colab": {
          "base_uri": "https://localhost:8080/"
        },
        "outputId": "b1eda5bb-ef45-435d-9864-7392c677f0be"
      },
      "source": [
        "length(str)"
      ],
      "execution_count": 21,
      "outputs": [
        {
          "output_type": "execute_result",
          "data": {
            "text/plain": [
              "42"
            ]
          },
          "metadata": {
            "tags": []
          },
          "execution_count": 21
        }
      ]
    },
    {
      "cell_type": "code",
      "metadata": {
        "id": "GKuLn9zIOx7U",
        "colab": {
          "base_uri": "https://localhost:8080/"
        },
        "outputId": "cd29a68f-d591-45f6-8953-1db286292b12"
      },
      "source": [
        "str[42]"
      ],
      "execution_count": 22,
      "outputs": [
        {
          "output_type": "execute_result",
          "data": {
            "text/plain": [
              "'e': ASCII/Unicode U+0065 (category Ll: Letter, lowercase)"
            ]
          },
          "metadata": {
            "tags": []
          },
          "execution_count": 22
        }
      ]
    },
    {
      "cell_type": "code",
      "metadata": {
        "id": "VDcfImakOx7U"
      },
      "source": [
        "str[end]"
      ],
      "execution_count": null,
      "outputs": []
    },
    {
      "cell_type": "code",
      "metadata": {
        "id": "L_D1t90KOx7U"
      },
      "source": [
        "str[end-10:end]"
      ],
      "execution_count": null,
      "outputs": []
    },
    {
      "cell_type": "code",
      "metadata": {
        "id": "K1d5nz0KOx7U"
      },
      "source": [
        "str[end+1]"
      ],
      "execution_count": null,
      "outputs": []
    },
    {
      "cell_type": "code",
      "metadata": {
        "id": "-S8Cb9hOOx7V"
      },
      "source": [
        "reg = r\"[0-9]+\""
      ],
      "execution_count": null,
      "outputs": []
    },
    {
      "cell_type": "code",
      "metadata": {
        "id": "5w-Sr0ojOx7V"
      },
      "source": [
        "match(reg, \"It was 1970\")"
      ],
      "execution_count": null,
      "outputs": []
    },
    {
      "cell_type": "code",
      "metadata": {
        "id": "DY7qFyJNOx7V"
      },
      "source": [
        "typeof(reg)"
      ],
      "execution_count": null,
      "outputs": []
    },
    {
      "cell_type": "code",
      "metadata": {
        "id": "EC5IkuYrOx7V"
      },
      "source": [
        "Regex(\"[0-9]+\")"
      ],
      "execution_count": null,
      "outputs": []
    },
    {
      "cell_type": "code",
      "metadata": {
        "id": "KSzauOdsOx7V"
      },
      "source": [
        "match(r\"it was\", \"It was 1970\") # case-sensitive no match"
      ],
      "execution_count": 25,
      "outputs": []
    },
    {
      "cell_type": "code",
      "metadata": {
        "id": "JaWGe7vMOx7W",
        "colab": {
          "base_uri": "https://localhost:8080/"
        },
        "outputId": "a8a9f0cd-e725-4740-9eb0-0cbb74563880"
      },
      "source": [
        "match(r\"it was\"i, \"It was 1970\") # case-insensitive match"
      ],
      "execution_count": 24,
      "outputs": [
        {
          "output_type": "execute_result",
          "data": {
            "text/plain": [
              "RegexMatch(\"It was\")"
            ]
          },
          "metadata": {
            "tags": []
          },
          "execution_count": 24
        }
      ]
    },
    {
      "cell_type": "code",
      "metadata": {
        "id": "vT_MXRuaOx7W",
        "colab": {
          "base_uri": "https://localhost:8080/"
        },
        "outputId": "4c1c6c25-f127-4e3e-9cf0-49457b9c1ee3"
      },
      "source": [
        "if match(r\"it was\", \"It was 1970\") !== nothing\n",
        "   println(\"it's a match\")\n",
        "else\n",
        "   println(\"not a match\")\n",
        "end"
      ],
      "execution_count": 26,
      "outputs": [
        {
          "output_type": "stream",
          "text": [
            "not a match\n"
          ],
          "name": "stdout"
        }
      ]
    },
    {
      "cell_type": "code",
      "metadata": {
        "id": "j-ADB3ObOx7W",
        "colab": {
          "base_uri": "https://localhost:8080/"
        },
        "outputId": "ecd9ae5d-2590-4035-da5e-121b3fc740bb"
      },
      "source": [
        "occursin(r\"19\", \"It was 1970\")"
      ],
      "execution_count": 27,
      "outputs": [
        {
          "output_type": "execute_result",
          "data": {
            "text/plain": [
              "true"
            ]
          },
          "metadata": {
            "tags": []
          },
          "execution_count": 27
        }
      ]
    },
    {
      "cell_type": "code",
      "metadata": {
        "id": "XRe4sws-Ox7W",
        "colab": {
          "base_uri": "https://localhost:8080/"
        },
        "outputId": "fb26cb7a-c0f7-4bdd-8865-ae634e0ebfbd"
      },
      "source": [
        "alice_in_wonderland = \"Why, sometimes I've believed as many as six impossible things before breakfast.\""
      ],
      "execution_count": 28,
      "outputs": [
        {
          "output_type": "execute_result",
          "data": {
            "text/plain": [
              "\"Why, sometimes I've believed as many as six impossible things before breakfast.\""
            ]
          },
          "metadata": {
            "tags": []
          },
          "execution_count": 28
        }
      ]
    },
    {
      "cell_type": "code",
      "metadata": {
        "id": "UscJe3C-Ox7W",
        "colab": {
          "base_uri": "https://localhost:8080/"
        },
        "outputId": "a0fc4035-26da-43e7-e93f-9384952397a6"
      },
      "source": [
        "m = match(r\"(\\w+)+\", alice_in_wonderland)"
      ],
      "execution_count": 29,
      "outputs": [
        {
          "output_type": "execute_result",
          "data": {
            "text/plain": [
              "RegexMatch(\"Why\", 1=\"Why\")"
            ]
          },
          "metadata": {
            "tags": []
          },
          "execution_count": 29
        }
      ]
    },
    {
      "cell_type": "code",
      "metadata": {
        "id": "YjxTZZtmOx7W",
        "colab": {
          "base_uri": "https://localhost:8080/"
        },
        "outputId": "c3696134-63bb-48ed-b4ee-42c6797a7090"
      },
      "source": [
        "m = match(r\"(\\w+)+\", alice_in_wonderland, 6)"
      ],
      "execution_count": 30,
      "outputs": [
        {
          "output_type": "execute_result",
          "data": {
            "text/plain": [
              "RegexMatch(\"sometimes\", 1=\"sometimes\")"
            ]
          },
          "metadata": {
            "tags": []
          },
          "execution_count": 30
        }
      ]
    },
    {
      "cell_type": "code",
      "metadata": {
        "id": "1FTBlKZoOx7X",
        "colab": {
          "base_uri": "https://localhost:8080/"
        },
        "outputId": "00ad9c6d-49f3-4976-d58d-e4f42082f57f"
      },
      "source": [
        "m = match(r\"((\\w+)(\\s+|\\W+))\", alice_in_wonderland)"
      ],
      "execution_count": 31,
      "outputs": [
        {
          "output_type": "execute_result",
          "data": {
            "text/plain": [
              "RegexMatch(\"Why, \", 1=\"Why, \", 2=\"Why\", 3=\", \")"
            ]
          },
          "metadata": {
            "tags": []
          },
          "execution_count": 31
        }
      ]
    },
    {
      "cell_type": "code",
      "metadata": {
        "id": "mn1YlE5bOx7X",
        "colab": {
          "base_uri": "https://localhost:8080/"
        },
        "outputId": "62ae7445-06cc-4984-8a07-0d437edce3bc"
      },
      "source": [
        "m.match"
      ],
      "execution_count": 32,
      "outputs": [
        {
          "output_type": "execute_result",
          "data": {
            "text/plain": [
              "\"Why, \""
            ]
          },
          "metadata": {
            "tags": []
          },
          "execution_count": 32
        }
      ]
    },
    {
      "cell_type": "code",
      "metadata": {
        "id": "Rq0tX-fqOx7X",
        "colab": {
          "base_uri": "https://localhost:8080/"
        },
        "outputId": "07f048e0-ea35-46e2-9801-bfe938f4db1f"
      },
      "source": [
        "m.captures"
      ],
      "execution_count": 33,
      "outputs": [
        {
          "output_type": "execute_result",
          "data": {
            "text/plain": [
              "3-element Array{Union{Nothing, SubString{String}},1}:\n",
              " \"Why, \"\n",
              " \"Why\"\n",
              " \", \""
            ]
          },
          "metadata": {
            "tags": []
          },
          "execution_count": 33
        }
      ]
    },
    {
      "cell_type": "code",
      "metadata": {
        "id": "XP41SfB-Ox7X",
        "colab": {
          "base_uri": "https://localhost:8080/"
        },
        "outputId": "a0497e22-2fc4-4be2-9966-3d57254e2f58"
      },
      "source": [
        "m.offset"
      ],
      "execution_count": 34,
      "outputs": [
        {
          "output_type": "execute_result",
          "data": {
            "text/plain": [
              "1"
            ]
          },
          "metadata": {
            "tags": []
          },
          "execution_count": 34
        }
      ]
    },
    {
      "cell_type": "code",
      "metadata": {
        "id": "J8QoMNsjOx7X",
        "colab": {
          "base_uri": "https://localhost:8080/"
        },
        "outputId": "b421fb48-9270-4e7a-f4bd-ddff05327746"
      },
      "source": [
        "m.offsets"
      ],
      "execution_count": 35,
      "outputs": [
        {
          "output_type": "execute_result",
          "data": {
            "text/plain": [
              "3-element Array{Int64,1}:\n",
              " 1\n",
              " 1\n",
              " 4"
            ]
          },
          "metadata": {
            "tags": []
          },
          "execution_count": 35
        }
      ]
    },
    {
      "cell_type": "code",
      "metadata": {
        "id": "Z9h8wH7NOx7Y",
        "colab": {
          "base_uri": "https://localhost:8080/"
        },
        "outputId": "11df5821-b634-4ea0-ca5d-58f5368b6c5c"
      },
      "source": [
        "for m in eachmatch(r\"((\\w+)(\\s+|\\W+))\", alice_in_wonderland)\n",
        "   println(m)\n",
        "end"
      ],
      "execution_count": 36,
      "outputs": [
        {
          "output_type": "stream",
          "text": [
            "RegexMatch(\"Why, \", 1=\"Why, \", 2=\"Why\", 3=\", \")\n",
            "RegexMatch(\"sometimes \", 1=\"sometimes \", 2=\"sometimes\", 3=\" \")\n",
            "RegexMatch(\"I'\", 1=\"I'\", 2=\"I\", 3=\"'\")\n",
            "RegexMatch(\"ve \", 1=\"ve \", 2=\"ve\", 3=\" \")\n",
            "RegexMatch(\"believed \", 1=\"believed \", 2=\"believed\", 3=\" \")\n",
            "RegexMatch(\"as \", 1=\"as \", 2=\"as\", 3=\" \")\n",
            "RegexMatch(\"many \", 1=\"many \", 2=\"many\", 3=\" \")\n",
            "RegexMatch(\"as \", 1=\"as \", 2=\"as\", 3=\" \")\n",
            "RegexMatch(\"six \", 1=\"six \", 2=\"six\", 3=\" \")\n",
            "RegexMatch(\"impossible \", 1=\"impossible \", 2=\"impossible\", 3=\" \")\n",
            "RegexMatch(\"things \", 1=\"things \", 2=\"things\", 3=\" \")\n",
            "RegexMatch(\"before \", 1=\"before \", 2=\"before\", 3=\" \")\n",
            "RegexMatch(\"breakfast.\", 1=\"breakfast.\", 2=\"breakfast\", 3=\".\")\n"
          ],
          "name": "stdout"
        }
      ]
    },
    {
      "cell_type": "code",
      "metadata": {
        "id": "0hp4KvVkOx7Y",
        "colab": {
          "base_uri": "https://localhost:8080/"
        },
        "outputId": "5d89279b-2ce9-418e-c3dd-e2e5e7ead752"
      },
      "source": [
        "collect(eachmatch(r\"((\\w+)(\\s+|\\W+))\", alice_in_wonderland))"
      ],
      "execution_count": 37,
      "outputs": [
        {
          "output_type": "execute_result",
          "data": {
            "text/plain": [
              "13-element Array{RegexMatch,1}:\n",
              " RegexMatch(\"Why, \", 1=\"Why, \", 2=\"Why\", 3=\", \")\n",
              " RegexMatch(\"sometimes \", 1=\"sometimes \", 2=\"sometimes\", 3=\" \")\n",
              " RegexMatch(\"I'\", 1=\"I'\", 2=\"I\", 3=\"'\")\n",
              " RegexMatch(\"ve \", 1=\"ve \", 2=\"ve\", 3=\" \")\n",
              " RegexMatch(\"believed \", 1=\"believed \", 2=\"believed\", 3=\" \")\n",
              " RegexMatch(\"as \", 1=\"as \", 2=\"as\", 3=\" \")\n",
              " RegexMatch(\"many \", 1=\"many \", 2=\"many\", 3=\" \")\n",
              " RegexMatch(\"as \", 1=\"as \", 2=\"as\", 3=\" \")\n",
              " RegexMatch(\"six \", 1=\"six \", 2=\"six\", 3=\" \")\n",
              " RegexMatch(\"impossible \", 1=\"impossible \", 2=\"impossible\", 3=\" \")\n",
              " RegexMatch(\"things \", 1=\"things \", 2=\"things\", 3=\" \")\n",
              " RegexMatch(\"before \", 1=\"before \", 2=\"before\", 3=\" \")\n",
              " RegexMatch(\"breakfast.\", 1=\"breakfast.\", 2=\"breakfast\", 3=\".\")"
            ]
          },
          "metadata": {
            "tags": []
          },
          "execution_count": 37
        }
      ]
    },
    {
      "cell_type": "code",
      "metadata": {
        "id": "4_7sp33eOx7Y",
        "colab": {
          "base_uri": "https://localhost:8080/",
          "height": 149
        },
        "outputId": "f2e70577-6620-4ff4-cb1b-1ceab7ce35f3"
      },
      "source": [
        "\"This $will error out\""
      ],
      "execution_count": 38,
      "outputs": [
        {
          "output_type": "error",
          "ename": "LoadError",
          "evalue": "ignored",
          "traceback": [
            "UndefVarError: will not defined",
            "",
            "Stacktrace:",
            " [1] top-level scope at In[38]:1",
            " [2] include_string(::Function, ::Module, ::String, ::String) at ./loading.jl:1091"
          ]
        }
      ]
    },
    {
      "cell_type": "code",
      "metadata": {
        "id": "UEf53uwqOx7Y",
        "colab": {
          "base_uri": "https://localhost:8080/"
        },
        "outputId": "861c786e-5bc8-42f7-815f-9fc1bb375c99"
      },
      "source": [
        "raw\"This $will work\""
      ],
      "execution_count": 39,
      "outputs": [
        {
          "output_type": "execute_result",
          "data": {
            "text/plain": [
              "\"This \\$will work\""
            ]
          },
          "metadata": {
            "tags": []
          },
          "execution_count": 39
        }
      ]
    },
    {
      "cell_type": "code",
      "metadata": {
        "id": "9NEF1_spOx7Y",
        "colab": {
          "base_uri": "https://localhost:8080/"
        },
        "outputId": "183b7852-eb85-456d-e528-8311f8a0815e"
      },
      "source": [
        "typeof(42)"
      ],
      "execution_count": 40,
      "outputs": [
        {
          "output_type": "execute_result",
          "data": {
            "text/plain": [
              "Int64"
            ]
          },
          "metadata": {
            "tags": []
          },
          "execution_count": 40
        }
      ]
    },
    {
      "cell_type": "code",
      "metadata": {
        "id": "qz2QfSIpOx7Z",
        "colab": {
          "base_uri": "https://localhost:8080/"
        },
        "outputId": "3aed5f34-7129-4410-9376-3e5cd2132391"
      },
      "source": [
        "@show Int"
      ],
      "execution_count": 41,
      "outputs": [
        {
          "output_type": "stream",
          "text": [
            "Int = Int64\n"
          ],
          "name": "stdout"
        },
        {
          "output_type": "execute_result",
          "data": {
            "text/plain": [
              "Int64"
            ]
          },
          "metadata": {
            "tags": []
          },
          "execution_count": 41
        }
      ]
    },
    {
      "cell_type": "code",
      "metadata": {
        "id": "qFduAkfTOx7Z",
        "colab": {
          "base_uri": "https://localhost:8080/"
        },
        "outputId": "145d75b2-f382-4325-9b03-25837ce7a993"
      },
      "source": [
        "typemin(Int), typemax(Int)"
      ],
      "execution_count": 42,
      "outputs": [
        {
          "output_type": "execute_result",
          "data": {
            "text/plain": [
              "(-9223372036854775808, 9223372036854775807)"
            ]
          },
          "metadata": {
            "tags": []
          },
          "execution_count": 42
        }
      ]
    },
    {
      "cell_type": "code",
      "metadata": {
        "id": "4qFiE_FXOx7Z",
        "colab": {
          "base_uri": "https://localhost:8080/"
        },
        "outputId": "073cecf8-65b1-4718-fdac-35ab1acc55af"
      },
      "source": [
        "typemin(Int) - 1"
      ],
      "execution_count": 43,
      "outputs": [
        {
          "output_type": "execute_result",
          "data": {
            "text/plain": [
              "9223372036854775807"
            ]
          },
          "metadata": {
            "tags": []
          },
          "execution_count": 43
        }
      ]
    },
    {
      "cell_type": "code",
      "metadata": {
        "id": "71xiAUy8Ox7Z",
        "colab": {
          "base_uri": "https://localhost:8080/"
        },
        "outputId": "0e236176-6d58-47d0-f9df-1e86e42c29ec"
      },
      "source": [
        "BigInt(typemax(Int)) + 1"
      ],
      "execution_count": 44,
      "outputs": [
        {
          "output_type": "execute_result",
          "data": {
            "text/plain": [
              "9223372036854775808"
            ]
          },
          "metadata": {
            "tags": []
          },
          "execution_count": 44
        }
      ]
    },
    {
      "cell_type": "code",
      "metadata": {
        "id": "h6unidXpOx7Z",
        "colab": {
          "base_uri": "https://localhost:8080/"
        },
        "outputId": "eefa79d8-3fcb-4f06-d947-ec2fb3135fce"
      },
      "source": [
        "1//2 + 2//4"
      ],
      "execution_count": 46,
      "outputs": [
        {
          "output_type": "execute_result",
          "data": {
            "text/plain": [
              "1//1"
            ]
          },
          "metadata": {
            "tags": []
          },
          "execution_count": 46
        }
      ]
    },
    {
      "cell_type": "code",
      "metadata": {
        "id": "LiU9-15HOx7Z",
        "colab": {
          "base_uri": "https://localhost:8080/"
        },
        "outputId": "85813caf-c5b9-4aec-9bba-3bdfe78af794"
      },
      "source": [
        "Int(1//1)"
      ],
      "execution_count": 47,
      "outputs": [
        {
          "output_type": "execute_result",
          "data": {
            "text/plain": [
              "1"
            ]
          },
          "metadata": {
            "tags": []
          },
          "execution_count": 47
        }
      ]
    },
    {
      "cell_type": "code",
      "metadata": {
        "id": "Q1aX9-SjOx7a",
        "colab": {
          "base_uri": "https://localhost:8080/"
        },
        "outputId": "a21cc87d-c3e7-4c7d-a3bb-60f90ea4e2b6"
      },
      "source": [
        "float(1//3)"
      ],
      "execution_count": 50,
      "outputs": [
        {
          "output_type": "execute_result",
          "data": {
            "text/plain": [
              "0.3333333333333333"
            ]
          },
          "metadata": {
            "tags": []
          },
          "execution_count": 50
        }
      ]
    },
    {
      "cell_type": "code",
      "metadata": {
        "id": "ndLuuHt3Ox7a",
        "colab": {
          "base_uri": "https://localhost:8080/",
          "height": 183
        },
        "outputId": "1d39acd4-6613-4206-f93d-880327eaeac7"
      },
      "source": [
        "Int(1//3)"
      ],
      "execution_count": 49,
      "outputs": [
        {
          "output_type": "error",
          "ename": "LoadError",
          "evalue": "ignored",
          "traceback": [
            "InexactError: Int64(1//3)",
            "",
            "Stacktrace:",
            " [1] Int64(::Rational{Int64}) at ./rational.jl:109",
            " [2] top-level scope at In[49]:1",
            " [3] include_string(::Function, ::Module, ::String, ::String) at ./loading.jl:1091"
          ]
        }
      ]
    },
    {
      "cell_type": "code",
      "metadata": {
        "id": "IzNtwXWvOx7a",
        "colab": {
          "base_uri": "https://localhost:8080/"
        },
        "outputId": "ef5249fa-2b8a-44b2-d9a3-8876dfc083e0"
      },
      "source": [
        "float(1//3) == 1/3\n",
        "true"
      ],
      "execution_count": 51,
      "outputs": [
        {
          "output_type": "execute_result",
          "data": {
            "text/plain": [
              "true"
            ]
          },
          "metadata": {
            "tags": []
          },
          "execution_count": 51
        }
      ]
    },
    {
      "cell_type": "code",
      "metadata": {
        "id": "YEQIFdDnOx7a"
      },
      "source": [
        "a = 2"
      ],
      "execution_count": null,
      "outputs": []
    },
    {
      "cell_type": "code",
      "metadata": {
        "id": "SkdLteEJOx7a"
      },
      "source": [
        "a *= 3 # equivalent of a = a * 3"
      ],
      "execution_count": null,
      "outputs": []
    },
    {
      "cell_type": "code",
      "metadata": {
        "id": "T8lPub2-Ox7b"
      },
      "source": [
        "a ^= 2 # equivalent of a = a ^ 2"
      ],
      "execution_count": null,
      "outputs": []
    },
    {
      "cell_type": "code",
      "metadata": {
        "id": "XnKJI7ngOx7b"
      },
      "source": [
        "a += 4 # equivalent of a = a + 4"
      ],
      "execution_count": null,
      "outputs": []
    },
    {
      "cell_type": "code",
      "metadata": {
        "id": "CtIsQdTLOx7b"
      },
      "source": [
        "10 > 5 < 6 == 6 >= 3 != 2"
      ],
      "execution_count": null,
      "outputs": []
    },
    {
      "cell_type": "code",
      "metadata": {
        "id": "VEufO507Ox7b",
        "colab": {
          "base_uri": "https://localhost:8080/"
        },
        "outputId": "120a3248-1778-4504-f8a5-75ee131f3ec5"
      },
      "source": [
        "first_five_fib = [1, 1, 2, 3, 5]"
      ],
      "execution_count": 52,
      "outputs": [
        {
          "output_type": "execute_result",
          "data": {
            "text/plain": [
              "5-element Array{Int64,1}:\n",
              " 1\n",
              " 1\n",
              " 2\n",
              " 3\n",
              " 5"
            ]
          },
          "metadata": {
            "tags": []
          },
          "execution_count": 52
        }
      ]
    },
    {
      "cell_type": "code",
      "metadata": {
        "id": "6FMKr6NrOx7b"
      },
      "source": [
        "first_five_fib .^ 2"
      ],
      "execution_count": null,
      "outputs": []
    },
    {
      "cell_type": "code",
      "metadata": {
        "id": "Qh8N9BIcOx7b"
      },
      "source": [
        "first_five_fib"
      ],
      "execution_count": null,
      "outputs": []
    },
    {
      "cell_type": "code",
      "metadata": {
        "id": "xzFFeUI5Ox7c",
        "colab": {
          "base_uri": "https://localhost:8080/"
        },
        "outputId": "dd35b899-859b-4fa4-a706-17cbcbc4efcd"
      },
      "source": [
        "first_five_fib .^= 2"
      ],
      "execution_count": 53,
      "outputs": [
        {
          "output_type": "execute_result",
          "data": {
            "text/plain": [
              "5-element Array{Int64,1}:\n",
              "  1\n",
              "  1\n",
              "  4\n",
              "  9\n",
              " 25"
            ]
          },
          "metadata": {
            "tags": []
          },
          "execution_count": 53
        }
      ]
    },
    {
      "cell_type": "code",
      "metadata": {
        "id": "cyamz_0EOx7c",
        "colab": {
          "base_uri": "https://localhost:8080/"
        },
        "outputId": "1068ecdc-0cf6-4d24-aff7-f60264face14"
      },
      "source": [
        "first_five_fib"
      ],
      "execution_count": 54,
      "outputs": [
        {
          "output_type": "execute_result",
          "data": {
            "text/plain": [
              "5-element Array{Int64,1}:\n",
              "  1\n",
              "  1\n",
              "  4\n",
              "  9\n",
              " 25"
            ]
          },
          "metadata": {
            "tags": []
          },
          "execution_count": 54
        }
      ]
    },
    {
      "cell_type": "code",
      "metadata": {
        "id": "-TKBTjN6Ox7c",
        "colab": {
          "base_uri": "https://localhost:8080/"
        },
        "outputId": "34f8f3f1-41c4-415b-8041-de826248df0f"
      },
      "source": [
        "(1,2,3)"
      ],
      "execution_count": 55,
      "outputs": [
        {
          "output_type": "execute_result",
          "data": {
            "text/plain": [
              "(1, 2, 3)"
            ]
          },
          "metadata": {
            "tags": []
          },
          "execution_count": 55
        }
      ]
    },
    {
      "cell_type": "code",
      "metadata": {
        "id": "ow5PWjIeOx7c",
        "colab": {
          "base_uri": "https://localhost:8080/"
        },
        "outputId": "0a98ddac-2595-4b0c-bf04-9f1d4c0c9ce8"
      },
      "source": [
        "(\"a\", 4, 12.5)"
      ],
      "execution_count": 56,
      "outputs": [
        {
          "output_type": "execute_result",
          "data": {
            "text/plain": [
              "(\"a\", 4, 12.5)"
            ]
          },
          "metadata": {
            "tags": []
          },
          "execution_count": 56
        }
      ]
    },
    {
      "cell_type": "code",
      "metadata": {
        "id": "y4-xPNLmOx7c",
        "colab": {
          "base_uri": "https://localhost:8080/"
        },
        "outputId": "06446167-ab56-4af4-8e62-fc1b17c98e8f"
      },
      "source": [
        "(1,)"
      ],
      "execution_count": 57,
      "outputs": [
        {
          "output_type": "execute_result",
          "data": {
            "text/plain": [
              "(1,)"
            ]
          },
          "metadata": {
            "tags": []
          },
          "execution_count": 57
        }
      ]
    },
    {
      "cell_type": "code",
      "metadata": {
        "id": "aHSBhHFUOx7d",
        "colab": {
          "base_uri": "https://localhost:8080/"
        },
        "outputId": "508de504-8a97-4e26-c220-193e591b171f"
      },
      "source": [
        "'e', 2"
      ],
      "execution_count": 58,
      "outputs": [
        {
          "output_type": "execute_result",
          "data": {
            "text/plain": [
              "('e', 2)"
            ]
          },
          "metadata": {
            "tags": []
          },
          "execution_count": 58
        }
      ]
    },
    {
      "cell_type": "code",
      "metadata": {
        "id": "CRDiK5Q2Ox7d"
      },
      "source": [
        "1,"
      ],
      "execution_count": null,
      "outputs": []
    },
    {
      "cell_type": "code",
      "metadata": {
        "id": "DVNZqskwOx7d",
        "colab": {
          "base_uri": "https://localhost:8080/"
        },
        "outputId": "db27df59-3c50-46cf-9408-eda7b6dfa6f1"
      },
      "source": [
        "lang = (\"Julia\", v\"1.0\")\n",
        "lang[2]"
      ],
      "execution_count": 59,
      "outputs": [
        {
          "output_type": "execute_result",
          "data": {
            "text/plain": [
              "v\"1.0.0\""
            ]
          },
          "metadata": {
            "tags": []
          },
          "execution_count": 59
        }
      ]
    },
    {
      "cell_type": "code",
      "metadata": {
        "id": "jzsDO4riOx7d",
        "colab": {
          "base_uri": "https://localhost:8080/"
        },
        "outputId": "a62d7c0d-e9bf-4e3a-b863-0cc19ea16c03"
      },
      "source": [
        "(3,4) .+ (1,1)"
      ],
      "execution_count": 60,
      "outputs": [
        {
          "output_type": "execute_result",
          "data": {
            "text/plain": [
              "(4, 5)"
            ]
          },
          "metadata": {
            "tags": []
          },
          "execution_count": 60
        }
      ]
    },
    {
      "cell_type": "code",
      "metadata": {
        "id": "tLfYFbcZOx7d",
        "colab": {
          "base_uri": "https://localhost:8080/"
        },
        "outputId": "c0ee9a32-a84e-4450-c016-d8a80b4c5e0d"
      },
      "source": [
        "skills = (language = \"Julia\", experience = \"Beginner\", version = v\"1.0\")"
      ],
      "execution_count": 61,
      "outputs": [
        {
          "output_type": "execute_result",
          "data": {
            "text/plain": [
              "(language = \"Julia\", experience = \"Beginner\", version = v\"1.0.0\")"
            ]
          },
          "metadata": {
            "tags": []
          },
          "execution_count": 61
        }
      ]
    },
    {
      "cell_type": "code",
      "metadata": {
        "id": "OJNSGi7dOx7e",
        "colab": {
          "base_uri": "https://localhost:8080/"
        },
        "outputId": "e266e7a3-0920-41ab-fae7-95b815ee9832"
      },
      "source": [
        "skills.language"
      ],
      "execution_count": 62,
      "outputs": [
        {
          "output_type": "execute_result",
          "data": {
            "text/plain": [
              "\"Julia\""
            ]
          },
          "metadata": {
            "tags": []
          },
          "execution_count": 62
        }
      ]
    },
    {
      "cell_type": "code",
      "metadata": {
        "id": "AcCytuBnOx7e",
        "colab": {
          "base_uri": "https://localhost:8080/"
        },
        "outputId": "cb130f57-690c-4114-bc67-33f34775b361"
      },
      "source": [
        "r = 1:20"
      ],
      "execution_count": 63,
      "outputs": [
        {
          "output_type": "execute_result",
          "data": {
            "text/plain": [
              "1:20"
            ]
          },
          "metadata": {
            "tags": []
          },
          "execution_count": 63
        }
      ]
    },
    {
      "cell_type": "code",
      "metadata": {
        "id": "Ws-drf2TOx7e",
        "colab": {
          "base_uri": "https://localhost:8080/"
        },
        "outputId": "e24a418f-6658-498b-9413-a5530ca4ebe2"
      },
      "source": [
        "abc = 'a':'z'"
      ],
      "execution_count": 64,
      "outputs": [
        {
          "output_type": "execute_result",
          "data": {
            "text/plain": [
              "'a':1:'z'"
            ]
          },
          "metadata": {
            "tags": []
          },
          "execution_count": 64
        }
      ]
    },
    {
      "cell_type": "code",
      "metadata": {
        "id": "vYFh4UHIOx7e",
        "colab": {
          "base_uri": "https://localhost:8080/"
        },
        "outputId": "fca9da0e-c50b-4e2f-f1c2-1d0e072de230"
      },
      "source": [
        "abc[10]"
      ],
      "execution_count": 65,
      "outputs": [
        {
          "output_type": "execute_result",
          "data": {
            "text/plain": [
              "'j': ASCII/Unicode U+006A (category Ll: Letter, lowercase)"
            ]
          },
          "metadata": {
            "tags": []
          },
          "execution_count": 65
        }
      ]
    },
    {
      "cell_type": "code",
      "metadata": {
        "id": "-yLnCXEXOx7e",
        "colab": {
          "base_uri": "https://localhost:8080/"
        },
        "outputId": "cd001dc7-f77c-4369-c663-28ca66ffea39"
      },
      "source": [
        "abc[end]"
      ],
      "execution_count": 66,
      "outputs": [
        {
          "output_type": "execute_result",
          "data": {
            "text/plain": [
              "'z': ASCII/Unicode U+007A (category Ll: Letter, lowercase)"
            ]
          },
          "metadata": {
            "tags": []
          },
          "execution_count": 66
        }
      ]
    },
    {
      "cell_type": "code",
      "metadata": {
        "id": "znxrDiIpOx7e",
        "colab": {
          "base_uri": "https://localhost:8080/"
        },
        "outputId": "39fd4298-cbcf-49b3-8e6c-730e93b3a288"
      },
      "source": [
        "(1:20...,)"
      ],
      "execution_count": 67,
      "outputs": [
        {
          "output_type": "execute_result",
          "data": {
            "text/plain": [
              "(1, 2, 3, 4, 5, 6, 7, 8, 9, 10, 11, 12, 13, 14, 15, 16, 17, 18, 19, 20)"
            ]
          },
          "metadata": {
            "tags": []
          },
          "execution_count": 67
        }
      ]
    },
    {
      "cell_type": "code",
      "metadata": {
        "id": "HJZ7itfhOx7f",
        "colab": {
          "base_uri": "https://localhost:8080/"
        },
        "outputId": "74d47e8e-dff0-4ecb-cd35-6d65c223d63e"
      },
      "source": [
        "[1:20...]"
      ],
      "execution_count": 68,
      "outputs": [
        {
          "output_type": "execute_result",
          "data": {
            "text/plain": [
              "20-element Array{Int64,1}:\n",
              "  1\n",
              "  2\n",
              "  3\n",
              "  4\n",
              "  5\n",
              "  6\n",
              "  7\n",
              "  8\n",
              "  9\n",
              " 10\n",
              " 11\n",
              " 12\n",
              " 13\n",
              " 14\n",
              " 15\n",
              " 16\n",
              " 17\n",
              " 18\n",
              " 19\n",
              " 20"
            ]
          },
          "metadata": {
            "tags": []
          },
          "execution_count": 68
        }
      ]
    },
    {
      "cell_type": "code",
      "metadata": {
        "id": "3u4MZ-IzOx7f",
        "colab": {
          "base_uri": "https://localhost:8080/"
        },
        "outputId": "6bd70987-9a1c-44a2-9dd7-4804282dcaeb"
      },
      "source": [
        "(0:5:20...,)"
      ],
      "execution_count": 69,
      "outputs": [
        {
          "output_type": "execute_result",
          "data": {
            "text/plain": [
              "(0, 5, 10, 15, 20)"
            ]
          },
          "metadata": {
            "tags": []
          },
          "execution_count": 69
        }
      ]
    },
    {
      "cell_type": "code",
      "metadata": {
        "id": "ilCC9GP7Ox7f",
        "colab": {
          "base_uri": "https://localhost:8080/"
        },
        "outputId": "914c6758-ac08-48d6-ba81-a6877e975cf3"
      },
      "source": [
        "(20:-5:-20...,)"
      ],
      "execution_count": 70,
      "outputs": [
        {
          "output_type": "execute_result",
          "data": {
            "text/plain": [
              "(20, 15, 10, 5, 0, -5, -10, -15, -20)"
            ]
          },
          "metadata": {
            "tags": []
          },
          "execution_count": 70
        }
      ]
    },
    {
      "cell_type": "code",
      "metadata": {
        "id": "fGX4WG70Ox7f",
        "colab": {
          "base_uri": "https://localhost:8080/"
        },
        "outputId": "65d2ac78-90e7-4bbc-a6e2-121fab741637"
      },
      "source": [
        "(0.5:10)"
      ],
      "execution_count": 71,
      "outputs": [
        {
          "output_type": "execute_result",
          "data": {
            "text/plain": [
              "0.5:1.0:9.5"
            ]
          },
          "metadata": {
            "tags": []
          },
          "execution_count": 71
        }
      ]
    },
    {
      "cell_type": "code",
      "metadata": {
        "id": "V5nO6RdEOx7f"
      },
      "source": [
        "(0.5:10...,)"
      ],
      "execution_count": null,
      "outputs": []
    },
    {
      "cell_type": "code",
      "metadata": {
        "id": "LJj4iHdjOx7g",
        "colab": {
          "base_uri": "https://localhost:8080/"
        },
        "outputId": "365e0790-4752-497d-a237-418f99611672"
      },
      "source": [
        "collect(0.5:0.5:10)"
      ],
      "execution_count": 72,
      "outputs": [
        {
          "output_type": "execute_result",
          "data": {
            "text/plain": [
              "20-element Array{Float64,1}:\n",
              "  0.5\n",
              "  1.0\n",
              "  1.5\n",
              "  2.0\n",
              "  2.5\n",
              "  3.0\n",
              "  3.5\n",
              "  4.0\n",
              "  4.5\n",
              "  5.0\n",
              "  5.5\n",
              "  6.0\n",
              "  6.5\n",
              "  7.0\n",
              "  7.5\n",
              "  8.0\n",
              "  8.5\n",
              "  9.0\n",
              "  9.5\n",
              " 10.0"
            ]
          },
          "metadata": {
            "tags": []
          },
          "execution_count": 72
        }
      ]
    },
    {
      "cell_type": "code",
      "metadata": {
        "id": "l6Q15utSOx7g",
        "colab": {
          "base_uri": "https://localhost:8080/"
        },
        "outputId": "289da175-657f-4cfd-d0de-5e5a9acae5cb"
      },
      "source": [
        "[1, 2, 3] "
      ],
      "execution_count": 73,
      "outputs": [
        {
          "output_type": "execute_result",
          "data": {
            "text/plain": [
              "3-element Array{Int64,1}:\n",
              " 1\n",
              " 2\n",
              " 3"
            ]
          },
          "metadata": {
            "tags": []
          },
          "execution_count": 73
        }
      ]
    },
    {
      "cell_type": "code",
      "metadata": {
        "id": "Iu_avmhAOx7g",
        "colab": {
          "base_uri": "https://localhost:8080/"
        },
        "outputId": "81c4d270-4a38-4c21-a7d5-b5f1e18297bf"
      },
      "source": [
        "Float32[1, 2, 3, 4]"
      ],
      "execution_count": 74,
      "outputs": [
        {
          "output_type": "execute_result",
          "data": {
            "text/plain": [
              "4-element Array{Float32,1}:\n",
              " 1.0\n",
              " 2.0\n",
              " 3.0\n",
              " 4.0"
            ]
          },
          "metadata": {
            "tags": []
          },
          "execution_count": 74
        }
      ]
    },
    {
      "cell_type": "code",
      "metadata": {
        "id": "klWKvTZxOx7g",
        "colab": {
          "base_uri": "https://localhost:8080/"
        },
        "outputId": "74b8b9e1-b6b5-4366-d1ef-2da213ce9352"
      },
      "source": [
        "[1 2 3 4]"
      ],
      "execution_count": 75,
      "outputs": [
        {
          "output_type": "execute_result",
          "data": {
            "text/plain": [
              "1×4 Array{Int64,2}:\n",
              " 1  2  3  4"
            ]
          },
          "metadata": {
            "tags": []
          },
          "execution_count": 75
        }
      ]
    },
    {
      "cell_type": "code",
      "metadata": {
        "id": "XFKnwkXYOx7g",
        "colab": {
          "base_uri": "https://localhost:8080/"
        },
        "outputId": "6eebdeeb-7212-48d3-8f75-580cf6ef8063"
      },
      "source": [
        "[1 2 3; 4 5 6; 7 8 9]"
      ],
      "execution_count": 77,
      "outputs": [
        {
          "output_type": "execute_result",
          "data": {
            "text/plain": [
              "3×3 Array{Int64,2}:\n",
              " 1  2  3\n",
              " 4  5  6\n",
              " 7  8  9"
            ]
          },
          "metadata": {
            "tags": []
          },
          "execution_count": 77
        }
      ]
    },
    {
      "cell_type": "code",
      "metadata": {
        "id": "DF6GjwWHOx7h",
        "colab": {
          "base_uri": "https://localhost:8080/",
          "height": 325
        },
        "outputId": "d6d3e29a-fb00-4f4b-9865-3f1dd1e76fda"
      },
      "source": [
        "Vector(5)"
      ],
      "execution_count": 78,
      "outputs": [
        {
          "output_type": "error",
          "ename": "LoadError",
          "evalue": "ignored",
          "traceback": [
            "MethodError: no method matching Array{T,1} where T(::Int64)\nClosest candidates are:\n  Array{T,1} where T() at baseext.jl:27\n  Array{T,1} where T(!Matched::UndefInitializer, !Matched::Integer) at baseext.jl:21\n  Array{T,1} where T(!Matched::SparseArrays.AbstractSparseArray{Tv,Ti,1} where Ti) where Tv at /buildworker/worker/package_linux64/build/usr/share/julia/stdlib/v1.5/SparseArrays/src/sparsevector.jl:893\n  ...",
            "",
            "Stacktrace:",
            " [1] top-level scope at In[78]:1",
            " [2] include_string(::Function, ::Module, ::String, ::String) at ./loading.jl:1091"
          ]
        }
      ]
    },
    {
      "cell_type": "code",
      "metadata": {
        "id": "GdyHTK5tOx7h",
        "colab": {
          "base_uri": "https://localhost:8080/"
        },
        "outputId": "f7dd98cd-ff3c-439f-bad2-cc16ca624080"
      },
      "source": [
        "zeros(Int, 2)"
      ],
      "execution_count": 79,
      "outputs": [
        {
          "output_type": "execute_result",
          "data": {
            "text/plain": [
              "2-element Array{Int64,1}:\n",
              " 0\n",
              " 0"
            ]
          },
          "metadata": {
            "tags": []
          },
          "execution_count": 79
        }
      ]
    },
    {
      "cell_type": "code",
      "metadata": {
        "id": "Qk1PFVXAOx7h",
        "colab": {
          "base_uri": "https://localhost:8080/"
        },
        "outputId": "51a40f37-e91a-4513-8160-05d105e74c4a"
      },
      "source": [
        "zeros(Float64, 3)"
      ],
      "execution_count": 80,
      "outputs": [
        {
          "output_type": "execute_result",
          "data": {
            "text/plain": [
              "3-element Array{Float64,1}:\n",
              " 0.0\n",
              " 0.0\n",
              " 0.0"
            ]
          },
          "metadata": {
            "tags": []
          },
          "execution_count": 80
        }
      ]
    },
    {
      "cell_type": "code",
      "metadata": {
        "id": "WyddBqBZOx7h",
        "colab": {
          "base_uri": "https://localhost:8080/"
        },
        "outputId": "2340ba76-e833-44cc-857e-fdc092ed41cc"
      },
      "source": [
        "ones(2)"
      ],
      "execution_count": 81,
      "outputs": [
        {
          "output_type": "execute_result",
          "data": {
            "text/plain": [
              "2-element Array{Float64,1}:\n",
              " 1.0\n",
              " 1.0"
            ]
          },
          "metadata": {
            "tags": []
          },
          "execution_count": 81
        }
      ]
    },
    {
      "cell_type": "code",
      "metadata": {
        "id": "FDcFT9ujOx7h",
        "colab": {
          "base_uri": "https://localhost:8080/"
        },
        "outputId": "9e74080f-da97-46fd-f6a9-fe9c96ef50ad"
      },
      "source": [
        "ones(Int, 2)"
      ],
      "execution_count": 82,
      "outputs": [
        {
          "output_type": "execute_result",
          "data": {
            "text/plain": [
              "2-element Array{Int64,1}:\n",
              " 1\n",
              " 1"
            ]
          },
          "metadata": {
            "tags": []
          },
          "execution_count": 82
        }
      ]
    },
    {
      "cell_type": "code",
      "metadata": {
        "id": "lVTQZTEKOx7i",
        "colab": {
          "base_uri": "https://localhost:8080/"
        },
        "outputId": "99944e65-fd1f-4d7c-db4e-4b8c2f2ccde3"
      },
      "source": [
        "trues(2)"
      ],
      "execution_count": 83,
      "outputs": [
        {
          "output_type": "execute_result",
          "data": {
            "text/plain": [
              "2-element BitArray{1}:\n",
              " 1\n",
              " 1"
            ]
          },
          "metadata": {
            "tags": []
          },
          "execution_count": 83
        }
      ]
    },
    {
      "cell_type": "code",
      "metadata": {
        "id": "C7wc6v5UOx7i",
        "colab": {
          "base_uri": "https://localhost:8080/"
        },
        "outputId": "409ba329-b533-4d87-e1d6-6814fb904b74"
      },
      "source": [
        "rand(Int, 4, 2)"
      ],
      "execution_count": 84,
      "outputs": [
        {
          "output_type": "execute_result",
          "data": {
            "text/plain": [
              "4×2 Array{Int64,2}:\n",
              " -7068694176921190653  4960262959846582551\n",
              "  8194176247288788531  8846244447402050132\n",
              " -8284478560000918054  1165197921916409658\n",
              "   864358085284798918  2650379617154532438"
            ]
          },
          "metadata": {
            "tags": []
          },
          "execution_count": 84
        }
      ]
    },
    {
      "cell_type": "code",
      "metadata": {
        "id": "rd_l7bfZOx7i",
        "colab": {
          "base_uri": "https://localhost:8080/"
        },
        "outputId": "480435be-83a8-43c9-d53c-b661aa4af337"
      },
      "source": [
        "rand(Char, 3, 2)"
      ],
      "execution_count": 85,
      "outputs": [
        {
          "output_type": "execute_result",
          "data": {
            "text/plain": [
              "3×2 Array{Char,2}:\n",
              " '\\U7943e'  '쎻'\n",
              " '\\Uc3a19'  '\\U4cc21'\n",
              " '\\U70fbc'  '\\U81ab7'"
            ]
          },
          "metadata": {
            "tags": []
          },
          "execution_count": 85
        }
      ]
    },
    {
      "cell_type": "code",
      "metadata": {
        "id": "ncm32n0tOx7i"
      },
      "source": [
        "fill(42, 2, 3)"
      ],
      "execution_count": null,
      "outputs": []
    },
    {
      "cell_type": "code",
      "metadata": {
        "id": "8yclD2RaOx7i",
        "colab": {
          "base_uri": "https://localhost:8080/"
        },
        "outputId": "5a0c5789-fc53-41ea-b57f-0873315dfe3e"
      },
      "source": [
        "arr1d = rand(5)"
      ],
      "execution_count": 86,
      "outputs": [
        {
          "output_type": "execute_result",
          "data": {
            "text/plain": [
              "5-element Array{Float64,1}:\n",
              " 0.6177171866796052\n",
              " 0.33147317430406353\n",
              " 0.7982726867234855\n",
              " 0.3603008568055621\n",
              " 0.7807351825166624"
            ]
          },
          "metadata": {
            "tags": []
          },
          "execution_count": 86
        }
      ]
    },
    {
      "cell_type": "code",
      "metadata": {
        "id": "eN6a7kLnOx7j",
        "colab": {
          "base_uri": "https://localhost:8080/"
        },
        "outputId": "5e43bf96-00bf-4cd9-f7ae-4a451a4bb73a"
      },
      "source": [
        "arr1d[5]"
      ],
      "execution_count": 87,
      "outputs": [
        {
          "output_type": "execute_result",
          "data": {
            "text/plain": [
              "0.7807351825166624"
            ]
          },
          "metadata": {
            "tags": []
          },
          "execution_count": 87
        }
      ]
    },
    {
      "cell_type": "code",
      "metadata": {
        "id": "xDgdsoezOx7j",
        "colab": {
          "base_uri": "https://localhost:8080/"
        },
        "outputId": "ff894ca1-e7a2-43b5-bff6-51725d979e44"
      },
      "source": [
        "arr2d = rand(5,2)"
      ],
      "execution_count": 88,
      "outputs": [
        {
          "output_type": "execute_result",
          "data": {
            "text/plain": [
              "5×2 Array{Float64,2}:\n",
              " 0.651124   0.0616876\n",
              " 0.594894   0.0582643\n",
              " 0.0325286  0.348522\n",
              " 0.709623   0.545864\n",
              " 0.455947   0.207822"
            ]
          },
          "metadata": {
            "tags": []
          },
          "execution_count": 88
        }
      ]
    },
    {
      "cell_type": "code",
      "metadata": {
        "id": "s_nwD3HgOx7j",
        "colab": {
          "base_uri": "https://localhost:8080/"
        },
        "outputId": "7da53bbe-c1cb-4b75-a3fe-99d27ce5a47c"
      },
      "source": [
        "arr2d[4, 1]"
      ],
      "execution_count": 90,
      "outputs": [
        {
          "output_type": "execute_result",
          "data": {
            "text/plain": [
              "0.7096232238755227"
            ]
          },
          "metadata": {
            "tags": []
          },
          "execution_count": 90
        }
      ]
    },
    {
      "cell_type": "code",
      "metadata": {
        "id": "d5iFIwAWOx7j",
        "colab": {
          "base_uri": "https://localhost:8080/"
        },
        "outputId": "9aee4376-04ea-4b9c-ffc1-c62de5fbb1ee"
      },
      "source": [
        "arr2d = rand(5,5)"
      ],
      "execution_count": 91,
      "outputs": [
        {
          "output_type": "execute_result",
          "data": {
            "text/plain": [
              "5×5 Array{Float64,2}:\n",
              " 0.544344  0.999666  0.0104643  0.232791  0.0600055\n",
              " 0.964799  0.811172  0.686232   0.6783    0.458559\n",
              " 0.332513  0.531909  0.956483   0.386263  0.913086\n",
              " 0.481364  0.288425  0.688278   0.827451  0.775269\n",
              " 0.428898  0.863212  0.609029   0.779431  0.956487"
            ]
          },
          "metadata": {
            "tags": []
          },
          "execution_count": 91
        }
      ]
    },
    {
      "cell_type": "code",
      "metadata": {
        "id": "3TDAji9mOx7j",
        "colab": {
          "base_uri": "https://localhost:8080/"
        },
        "outputId": "04596335-3402-4604-a1d0-209d294f4870"
      },
      "source": [
        "arr2d[1:3, 3:5]"
      ],
      "execution_count": 92,
      "outputs": [
        {
          "output_type": "execute_result",
          "data": {
            "text/plain": [
              "3×3 Array{Float64,2}:\n",
              " 0.0104643  0.232791  0.0600055\n",
              " 0.686232   0.6783    0.458559\n",
              " 0.956483   0.386263  0.913086"
            ]
          },
          "metadata": {
            "tags": []
          },
          "execution_count": 92
        }
      ]
    },
    {
      "cell_type": "code",
      "metadata": {
        "id": "N5cEN4UYOx7k",
        "colab": {
          "base_uri": "https://localhost:8080/"
        },
        "outputId": "d6f8f26c-87e1-43aa-c8c1-f93240f89178"
      },
      "source": [
        "arr2d[:, 3:5]"
      ],
      "execution_count": 93,
      "outputs": [
        {
          "output_type": "execute_result",
          "data": {
            "text/plain": [
              "5×3 Array{Float64,2}:\n",
              " 0.0104643  0.232791  0.0600055\n",
              " 0.686232   0.6783    0.458559\n",
              " 0.956483   0.386263  0.913086\n",
              " 0.688278   0.827451  0.775269\n",
              " 0.609029   0.779431  0.956487"
            ]
          },
          "metadata": {
            "tags": []
          },
          "execution_count": 93
        }
      ]
    },
    {
      "cell_type": "code",
      "metadata": {
        "id": "BToPkJyVOx7k",
        "colab": {
          "base_uri": "https://localhost:8080/"
        },
        "outputId": "3af461c6-74f9-4a51-d139-aefae2b71f00"
      },
      "source": [
        "arr2d[[true, false, true, true, false], 3:5]"
      ],
      "execution_count": 94,
      "outputs": [
        {
          "output_type": "execute_result",
          "data": {
            "text/plain": [
              "3×3 Array{Float64,2}:\n",
              " 0.0104643  0.232791  0.0600055\n",
              " 0.956483   0.386263  0.913086\n",
              " 0.688278   0.827451  0.775269"
            ]
          },
          "metadata": {
            "tags": []
          },
          "execution_count": 94
        }
      ]
    },
    {
      "cell_type": "code",
      "metadata": {
        "id": "Ab68HfieOx7k"
      },
      "source": [
        "arr2d[1, 1] = 0.0"
      ],
      "execution_count": null,
      "outputs": []
    },
    {
      "cell_type": "code",
      "metadata": {
        "id": "XH1ZMe4bOx7k"
      },
      "source": [
        "arr2d"
      ],
      "execution_count": null,
      "outputs": []
    },
    {
      "cell_type": "code",
      "metadata": {
        "id": "tXfmbINPOx7k",
        "colab": {
          "base_uri": "https://localhost:8080/"
        },
        "outputId": "f2a6d49a-2898-4011-964b-05d7a81d6ecd"
      },
      "source": [
        "arr2d[[true, false, true, true, false], 3:5] = ones(3, 3)"
      ],
      "execution_count": 95,
      "outputs": [
        {
          "output_type": "execute_result",
          "data": {
            "text/plain": [
              "3×3 Array{Float64,2}:\n",
              " 1.0  1.0  1.0\n",
              " 1.0  1.0  1.0\n",
              " 1.0  1.0  1.0"
            ]
          },
          "metadata": {
            "tags": []
          },
          "execution_count": 95
        }
      ]
    },
    {
      "cell_type": "code",
      "metadata": {
        "id": "8qNVqPgROx7l",
        "colab": {
          "base_uri": "https://localhost:8080/"
        },
        "outputId": "769c37da-a223-4e0f-8cb6-34480c7b787f"
      },
      "source": [
        "arr2d"
      ],
      "execution_count": 96,
      "outputs": [
        {
          "output_type": "execute_result",
          "data": {
            "text/plain": [
              "5×5 Array{Float64,2}:\n",
              " 0.544344  0.999666  1.0       1.0       1.0\n",
              " 0.964799  0.811172  0.686232  0.6783    0.458559\n",
              " 0.332513  0.531909  1.0       1.0       1.0\n",
              " 0.481364  0.288425  1.0       1.0       1.0\n",
              " 0.428898  0.863212  0.609029  0.779431  0.956487"
            ]
          },
          "metadata": {
            "tags": []
          },
          "execution_count": 96
        }
      ]
    },
    {
      "cell_type": "code",
      "metadata": {
        "id": "zpnlSMOUOx7l",
        "colab": {
          "base_uri": "https://localhost:8080/"
        },
        "outputId": "d7d6ea72-8c85-4a86-f990-1bfbd84e78d3"
      },
      "source": [
        "for person in [\"Alison\", \"James\", \"Cohen\"]\n",
        "    println(\"Hello $person\")\n",
        "end"
      ],
      "execution_count": 97,
      "outputs": [
        {
          "output_type": "stream",
          "text": [
            "Hello Alison\n",
            "Hello James\n",
            "Hello Cohen\n"
          ],
          "name": "stdout"
        }
      ]
    },
    {
      "cell_type": "code",
      "metadata": {
        "id": "NlD79OnDOx7l",
        "colab": {
          "base_uri": "https://localhost:8080/"
        },
        "outputId": "7f7a7f86-8c04-4b8b-ef61-13c36b765cdf"
      },
      "source": [
        "people = [\"Alison\", \"James\", \"Cohen\"]"
      ],
      "execution_count": 98,
      "outputs": [
        {
          "output_type": "execute_result",
          "data": {
            "text/plain": [
              "3-element Array{String,1}:\n",
              " \"Alison\"\n",
              " \"James\"\n",
              " \"Cohen\""
            ]
          },
          "metadata": {
            "tags": []
          },
          "execution_count": 98
        }
      ]
    },
    {
      "cell_type": "code",
      "metadata": {
        "id": "4E7d9xnVOx7l",
        "colab": {
          "base_uri": "https://localhost:8080/"
        },
        "outputId": "041ade37-0a19-4ffa-dff8-03f45d2e8285"
      },
      "source": [
        "for i in eachindex(people)\n",
        "    println(\"$i. $(people[i])\")\n",
        "end"
      ],
      "execution_count": 99,
      "outputs": [
        {
          "output_type": "stream",
          "text": [
            "1. Alison\n",
            "2. James\n",
            "3. Cohen\n"
          ],
          "name": "stdout"
        }
      ]
    },
    {
      "cell_type": "code",
      "metadata": {
        "id": "XJYzG0EYOx7l",
        "colab": {
          "base_uri": "https://localhost:8080/"
        },
        "outputId": "2cab9b75-0d13-4adf-e604-99cb436c3909"
      },
      "source": [
        "arr = [1, 2, 3]"
      ],
      "execution_count": 100,
      "outputs": [
        {
          "output_type": "execute_result",
          "data": {
            "text/plain": [
              "3-element Array{Int64,1}:\n",
              " 1\n",
              " 2\n",
              " 3"
            ]
          },
          "metadata": {
            "tags": []
          },
          "execution_count": 100
        }
      ]
    },
    {
      "cell_type": "code",
      "metadata": {
        "id": "3024q1eHOx7m",
        "colab": {
          "base_uri": "https://localhost:8080/"
        },
        "outputId": "2f65e7b6-dfc3-4681-ebcf-15c62f707e6c"
      },
      "source": [
        "push!(arr, 4)"
      ],
      "execution_count": 101,
      "outputs": [
        {
          "output_type": "execute_result",
          "data": {
            "text/plain": [
              "4-element Array{Int64,1}:\n",
              " 1\n",
              " 2\n",
              " 3\n",
              " 4"
            ]
          },
          "metadata": {
            "tags": []
          },
          "execution_count": 101
        }
      ]
    },
    {
      "cell_type": "code",
      "metadata": {
        "id": "3LY9mLLsOx7m",
        "colab": {
          "base_uri": "https://localhost:8080/"
        },
        "outputId": "f8761e8b-e642-4f97-e6e4-ada863fac04b"
      },
      "source": [
        "push!(arr, 5, 6, 7)"
      ],
      "execution_count": 102,
      "outputs": [
        {
          "output_type": "execute_result",
          "data": {
            "text/plain": [
              "7-element Array{Int64,1}:\n",
              " 1\n",
              " 2\n",
              " 3\n",
              " 4\n",
              " 5\n",
              " 6\n",
              " 7"
            ]
          },
          "metadata": {
            "tags": []
          },
          "execution_count": 102
        }
      ]
    },
    {
      "cell_type": "code",
      "metadata": {
        "id": "_6KHgpwKOx7m",
        "colab": {
          "base_uri": "https://localhost:8080/"
        },
        "outputId": "b77e89fa-5dfb-4691-dc3a-c6162b3fb4e2"
      },
      "source": [
        "pop!(arr)"
      ],
      "execution_count": 103,
      "outputs": [
        {
          "output_type": "execute_result",
          "data": {
            "text/plain": [
              "7"
            ]
          },
          "metadata": {
            "tags": []
          },
          "execution_count": 103
        }
      ]
    },
    {
      "cell_type": "code",
      "metadata": {
        "id": "IuNxZZwXOx7m",
        "colab": {
          "base_uri": "https://localhost:8080/"
        },
        "outputId": "7049f4d7-14b7-4f47-e078-44e0899c2e20"
      },
      "source": [
        "deleteat!(arr, 3)"
      ],
      "execution_count": 104,
      "outputs": [
        {
          "output_type": "execute_result",
          "data": {
            "text/plain": [
              "5-element Array{Int64,1}:\n",
              " 1\n",
              " 2\n",
              " 4\n",
              " 5\n",
              " 6"
            ]
          },
          "metadata": {
            "tags": []
          },
          "execution_count": 104
        }
      ]
    },
    {
      "cell_type": "code",
      "metadata": {
        "id": "Ps5qQSnZOx7m",
        "colab": {
          "base_uri": "https://localhost:8080/"
        },
        "outputId": "7ab304a0-3f87-4580-8dd9-0e7c38ab682f"
      },
      "source": [
        "arr = [1,2,3]"
      ],
      "execution_count": 105,
      "outputs": [
        {
          "output_type": "execute_result",
          "data": {
            "text/plain": [
              "3-element Array{Int64,1}:\n",
              " 1\n",
              " 2\n",
              " 3"
            ]
          },
          "metadata": {
            "tags": []
          },
          "execution_count": 105
        }
      ]
    },
    {
      "cell_type": "code",
      "metadata": {
        "id": "akPTGhBfOx7n",
        "colab": {
          "base_uri": "https://localhost:8080/"
        },
        "outputId": "a9e8c422-cbe9-427f-e0b1-dded5a245282"
      },
      "source": [
        "arr2 = arr"
      ],
      "execution_count": 106,
      "outputs": [
        {
          "output_type": "execute_result",
          "data": {
            "text/plain": [
              "3-element Array{Int64,1}:\n",
              " 1\n",
              " 2\n",
              " 3"
            ]
          },
          "metadata": {
            "tags": []
          },
          "execution_count": 106
        }
      ]
    },
    {
      "cell_type": "code",
      "metadata": {
        "id": "SS0jZ7lFOx7n",
        "colab": {
          "base_uri": "https://localhost:8080/"
        },
        "outputId": "ff2a7e71-4aa3-4478-9121-8b4a0cf734d7"
      },
      "source": [
        "pop!(arr2)"
      ],
      "execution_count": 107,
      "outputs": [
        {
          "output_type": "execute_result",
          "data": {
            "text/plain": [
              "3"
            ]
          },
          "metadata": {
            "tags": []
          },
          "execution_count": 107
        }
      ]
    },
    {
      "cell_type": "code",
      "metadata": {
        "id": "PqvZdCTiOx7n",
        "colab": {
          "base_uri": "https://localhost:8080/"
        },
        "outputId": "323948f8-3078-4d12-cfec-402795b4d8a2"
      },
      "source": [
        "arr2"
      ],
      "execution_count": 108,
      "outputs": [
        {
          "output_type": "execute_result",
          "data": {
            "text/plain": [
              "2-element Array{Int64,1}:\n",
              " 1\n",
              " 2"
            ]
          },
          "metadata": {
            "tags": []
          },
          "execution_count": 108
        }
      ]
    },
    {
      "cell_type": "code",
      "metadata": {
        "id": "_6ImKje-Ox7n",
        "colab": {
          "base_uri": "https://localhost:8080/"
        },
        "outputId": "76e37f25-7bf5-4102-d12b-40bcdcef6a14"
      },
      "source": [
        "arr"
      ],
      "execution_count": 109,
      "outputs": [
        {
          "output_type": "execute_result",
          "data": {
            "text/plain": [
              "2-element Array{Int64,1}:\n",
              " 1\n",
              " 2"
            ]
          },
          "metadata": {
            "tags": []
          },
          "execution_count": 109
        }
      ]
    },
    {
      "cell_type": "code",
      "metadata": {
        "id": "IaC-mJSGOx7n",
        "colab": {
          "base_uri": "https://localhost:8080/"
        },
        "outputId": "5885673d-f3e1-4c5f-c3b7-72f8bf847e7f"
      },
      "source": [
        "arr2 = copy(arr)"
      ],
      "execution_count": 110,
      "outputs": [
        {
          "output_type": "execute_result",
          "data": {
            "text/plain": [
              "2-element Array{Int64,1}:\n",
              " 1\n",
              " 2"
            ]
          },
          "metadata": {
            "tags": []
          },
          "execution_count": 110
        }
      ]
    },
    {
      "cell_type": "code",
      "metadata": {
        "id": "wFLZk25LOx7o",
        "colab": {
          "base_uri": "https://localhost:8080/"
        },
        "outputId": "f28dd2a7-0fad-48cd-f54f-50eed1bdb810"
      },
      "source": [
        "pop!(arr2)"
      ],
      "execution_count": 111,
      "outputs": [
        {
          "output_type": "execute_result",
          "data": {
            "text/plain": [
              "2"
            ]
          },
          "metadata": {
            "tags": []
          },
          "execution_count": 111
        }
      ]
    },
    {
      "cell_type": "code",
      "metadata": {
        "id": "R7HtRtiKOx7o",
        "colab": {
          "base_uri": "https://localhost:8080/"
        },
        "outputId": "1b23e81d-c762-49df-8525-e589297cc018"
      },
      "source": [
        "arr"
      ],
      "execution_count": 112,
      "outputs": [
        {
          "output_type": "execute_result",
          "data": {
            "text/plain": [
              "2-element Array{Int64,1}:\n",
              " 1\n",
              " 2"
            ]
          },
          "metadata": {
            "tags": []
          },
          "execution_count": 112
        }
      ]
    },
    {
      "cell_type": "code",
      "metadata": {
        "id": "-l-b-VtWOx7o",
        "colab": {
          "base_uri": "https://localhost:8080/"
        },
        "outputId": "7931603b-2ec0-4b03-c9a0-3b1dbfb9f35f"
      },
      "source": [
        "arr2"
      ],
      "execution_count": 113,
      "outputs": [
        {
          "output_type": "execute_result",
          "data": {
            "text/plain": [
              "1-element Array{Int64,1}:\n",
              " 1"
            ]
          },
          "metadata": {
            "tags": []
          },
          "execution_count": 113
        }
      ]
    },
    {
      "cell_type": "code",
      "metadata": {
        "id": "P1J3LVoMOx7o",
        "colab": {
          "base_uri": "https://localhost:8080/"
        },
        "outputId": "288fcd6c-91a1-4e3c-c8b8-67736baa0b21"
      },
      "source": [
        "[x += 1 for x = 1:5]"
      ],
      "execution_count": 114,
      "outputs": [
        {
          "output_type": "execute_result",
          "data": {
            "text/plain": [
              "5-element Array{Int64,1}:\n",
              " 2\n",
              " 3\n",
              " 4\n",
              " 5\n",
              " 6"
            ]
          },
          "metadata": {
            "tags": []
          },
          "execution_count": 114
        }
      ]
    },
    {
      "cell_type": "code",
      "metadata": {
        "id": "AGkjDa1ZOx7o",
        "colab": {
          "base_uri": "https://localhost:8080/"
        },
        "outputId": "c7087df4-b3cf-414c-af69-c0476811e78d"
      },
      "source": [
        "Float64[x+=1 for x = 1:5]"
      ],
      "execution_count": 115,
      "outputs": [
        {
          "output_type": "execute_result",
          "data": {
            "text/plain": [
              "5-element Array{Float64,1}:\n",
              " 2.0\n",
              " 3.0\n",
              " 4.0\n",
              " 5.0\n",
              " 6.0"
            ]
          },
          "metadata": {
            "tags": []
          },
          "execution_count": 115
        }
      ]
    },
    {
      "cell_type": "code",
      "metadata": {
        "id": "2q4ygjPHOx7o",
        "colab": {
          "base_uri": "https://localhost:8080/"
        },
        "outputId": "1a66d43d-aa1f-4960-a924-94d6b3efe314"
      },
      "source": [
        "[x+=y for x = 1:5, y = 11:15]"
      ],
      "execution_count": 116,
      "outputs": [
        {
          "output_type": "execute_result",
          "data": {
            "text/plain": [
              "5×5 Array{Int64,2}:\n",
              " 12  13  14  15  16\n",
              " 13  14  15  16  17\n",
              " 14  15  16  17  18\n",
              " 15  16  17  18  19\n",
              " 16  17  18  19  20"
            ]
          },
          "metadata": {
            "tags": []
          },
          "execution_count": 116
        }
      ]
    },
    {
      "cell_type": "code",
      "metadata": {
        "id": "p8hDLdjVOx7p",
        "colab": {
          "base_uri": "https://localhost:8080/"
        },
        "outputId": "d3cc5f64-b864-4528-9891-054041676af3"
      },
      "source": [
        "[x += 1 for x = 1:10 if x/2 > 3]"
      ],
      "execution_count": 117,
      "outputs": [
        {
          "output_type": "execute_result",
          "data": {
            "text/plain": [
              "4-element Array{Int64,1}:\n",
              "  8\n",
              "  9\n",
              " 10\n",
              " 11"
            ]
          },
          "metadata": {
            "tags": []
          },
          "execution_count": 117
        }
      ]
    },
    {
      "cell_type": "code",
      "metadata": {
        "id": "_hBQEzoTOx7p",
        "colab": {
          "base_uri": "https://localhost:8080/"
        },
        "outputId": "ec19155b-6be4-414f-f708-f1c45bd8260a"
      },
      "source": [
        "(x+=1 for x = 1:10)"
      ],
      "execution_count": 118,
      "outputs": [
        {
          "output_type": "execute_result",
          "data": {
            "text/plain": [
              "Base.Generator{UnitRange{Int64},var\"#9#10\"}(var\"#9#10\"(), 1:10)"
            ]
          },
          "metadata": {
            "tags": []
          },
          "execution_count": 118
        }
      ]
    },
    {
      "cell_type": "code",
      "metadata": {
        "id": "W4ClqXRCOx7p",
        "colab": {
          "base_uri": "https://localhost:8080/"
        },
        "outputId": "85915002-75a0-452a-a340-573386365668"
      },
      "source": [
        "for i in [x^3 for x=1:1_000_000]\n",
        "   i >= 1_000 && break\n",
        "   println(i)\n",
        "end"
      ],
      "execution_count": 119,
      "outputs": [
        {
          "output_type": "stream",
          "text": [
            "1\n",
            "8\n",
            "27\n",
            "64\n",
            "125\n",
            "216\n",
            "343\n",
            "512\n",
            "729\n"
          ],
          "name": "stdout"
        }
      ]
    },
    {
      "cell_type": "code",
      "metadata": {
        "id": "EIloAF8TOx7p",
        "colab": {
          "base_uri": "https://localhost:8080/"
        },
        "outputId": "e0c01734-27e3-45d6-e3c4-501cad4d76f5"
      },
      "source": [
        "@time for i in [x^3 for x=1:1_000_000]\n",
        "   i >= 1_000 && break\n",
        "   println(i)\n",
        "end "
      ],
      "execution_count": 120,
      "outputs": [
        {
          "output_type": "stream",
          "text": [
            "1\n",
            "8\n",
            "27\n",
            "64\n",
            "125\n",
            "216\n",
            "343\n",
            "512\n",
            "729\n",
            "  0.042229 seconds (43.29 k allocations: 9.859 MiB)\n"
          ],
          "name": "stdout"
        }
      ]
    },
    {
      "cell_type": "code",
      "metadata": {
        "id": "67m9jQerOx7p",
        "colab": {
          "base_uri": "https://localhost:8080/"
        },
        "outputId": "bb31b6f8-b448-477a-dea1-8e43ab479f8e"
      },
      "source": [
        "@time for i in (x^3 for x=1:1_000_000)\n",
        "   i >= 1_000 && break\n",
        "   println(i)\n",
        "end"
      ],
      "execution_count": 121,
      "outputs": [
        {
          "output_type": "stream",
          "text": [
            "1\n",
            "8\n",
            "27\n",
            "64\n",
            "125\n",
            "216\n",
            "343\n",
            "512\n",
            "729\n",
            "  0.026552 seconds (13.83 k allocations: 788.207 KiB)\n"
          ],
          "name": "stdout"
        }
      ]
    },
    {
      "cell_type": "code",
      "metadata": {
        "id": "YwU0Mq-3Ox7q",
        "colab": {
          "base_uri": "https://localhost:8080/"
        },
        "outputId": "171c74ba-4057-4a79-b6b2-4348b4553715"
      },
      "source": [
        "using Pkg\n",
        "pkg\"add RDatasets\""
      ],
      "execution_count": 122,
      "outputs": [
        {
          "output_type": "stream",
          "text": [
            "\u001b[32m\u001b[1m  Resolving\u001b[22m\u001b[39m package versions...\n",
            "\u001b[32m\u001b[1m  Installed\u001b[22m\u001b[39m CodecZlib ─────────────────── v0.7.0\n",
            "\u001b[32m\u001b[1m  Installed\u001b[22m\u001b[39m SortingAlgorithms ─────────── v0.3.1\n",
            "\u001b[32m\u001b[1m  Installed\u001b[22m\u001b[39m Libiconv_jll ──────────────── v1.16.0+7\n",
            "\u001b[32m\u001b[1m  Installed\u001b[22m\u001b[39m IteratorInterfaceExtensions ─ v1.0.0\n",
            "\u001b[32m\u001b[1m  Installed\u001b[22m\u001b[39m Requires ──────────────────── v1.1.2\n",
            "\u001b[32m\u001b[1m  Installed\u001b[22m\u001b[39m DataStructures ────────────── v0.18.8\n",
            "\u001b[32m\u001b[1m  Installed\u001b[22m\u001b[39m PrettyTables ──────────────── v0.10.1\n",
            "\u001b[32m\u001b[1m  Installed\u001b[22m\u001b[39m Reexport ──────────────────── v0.2.0\n",
            "\u001b[32m\u001b[1m  Installed\u001b[22m\u001b[39m Compat ────────────────────── v3.25.0\n",
            "\u001b[32m\u001b[1m  Installed\u001b[22m\u001b[39m PooledArrays ──────────────── v0.5.3\n",
            "\u001b[32m\u001b[1m  Installed\u001b[22m\u001b[39m TranscodingStreams ────────── v0.9.5\n",
            "\u001b[32m\u001b[1m  Installed\u001b[22m\u001b[39m ExprTools ─────────────────── v0.1.3\n",
            "\u001b[32m\u001b[1m  Installed\u001b[22m\u001b[39m FileIO ────────────────────── v1.4.5\n",
            "\u001b[32m\u001b[1m  Installed\u001b[22m\u001b[39m DataFrames ────────────────── v0.22.2\n",
            "\u001b[32m\u001b[1m  Installed\u001b[22m\u001b[39m OrderedCollections ────────── v1.3.2\n",
            "\u001b[32m\u001b[1m  Installed\u001b[22m\u001b[39m RDatasets ─────────────────── v0.7.3\n",
            "\u001b[32m\u001b[1m  Installed\u001b[22m\u001b[39m Tables ────────────────────── v1.2.2\n",
            "\u001b[32m\u001b[1m  Installed\u001b[22m\u001b[39m SentinelArrays ────────────── v1.2.16\n",
            "\u001b[32m\u001b[1m  Installed\u001b[22m\u001b[39m RecipesBase ───────────────── v1.1.1\n",
            "\u001b[32m\u001b[1m  Installed\u001b[22m\u001b[39m InvertedIndices ───────────── v1.0.0\n",
            "\u001b[32m\u001b[1m  Installed\u001b[22m\u001b[39m StructTypes ───────────────── v1.2.1\n",
            "\u001b[32m\u001b[1m  Installed\u001b[22m\u001b[39m Zlib_jll ──────────────────── v1.2.11+18\n",
            "\u001b[32m\u001b[1m  Installed\u001b[22m\u001b[39m DataAPI ───────────────────── v1.4.0\n",
            "\u001b[32m\u001b[1m  Installed\u001b[22m\u001b[39m Formatting ────────────────── v0.4.2\n",
            "\u001b[32m\u001b[1m  Installed\u001b[22m\u001b[39m XML2_jll ──────────────────── v2.9.10+3\n",
            "\u001b[32m\u001b[1m  Installed\u001b[22m\u001b[39m DataValueInterfaces ───────── v1.0.0\n",
            "\u001b[32m\u001b[1m  Installed\u001b[22m\u001b[39m Missings ──────────────────── v0.4.4\n",
            "\u001b[32m\u001b[1m  Installed\u001b[22m\u001b[39m Crayons ───────────────────── v4.0.4\n",
            "\u001b[32m\u001b[1m  Installed\u001b[22m\u001b[39m Mocking ───────────────────── v0.7.1\n",
            "\u001b[32m\u001b[1m  Installed\u001b[22m\u001b[39m CategoricalArrays ─────────── v0.9.0\n",
            "\u001b[32m\u001b[1m  Installed\u001b[22m\u001b[39m TableTraits ───────────────── v1.0.0\n",
            "\u001b[32m\u001b[1m  Installed\u001b[22m\u001b[39m RData ─────────────────────── v0.7.3\n",
            "\u001b[32m\u001b[1m  Installed\u001b[22m\u001b[39m TimeZones ─────────────────── v1.5.3\n",
            "\u001b[32m\u001b[1m  Installed\u001b[22m\u001b[39m EzXML ─────────────────────── v1.1.0\n",
            "\u001b[32m\u001b[1m  Installed\u001b[22m\u001b[39m CSV ───────────────────────── v0.8.2\n",
            "\u001b[32m\u001b[1mUpdating\u001b[22m\u001b[39m `/content/Project.toml`\n",
            " \u001b[90m [ce6b1742] \u001b[39m\u001b[92m+ RDatasets v0.7.3\u001b[39m\n",
            "\u001b[32m\u001b[1mUpdating\u001b[22m\u001b[39m `/content/Manifest.toml`\n",
            " \u001b[90m [56f22d72] \u001b[39m\u001b[92m+ Artifacts v1.3.0\u001b[39m\n",
            " \u001b[90m [336ed68f] \u001b[39m\u001b[92m+ CSV v0.8.2\u001b[39m\n",
            " \u001b[90m [324d7699] \u001b[39m\u001b[92m+ CategoricalArrays v0.9.0\u001b[39m\n",
            " \u001b[90m [944b1d66] \u001b[39m\u001b[92m+ CodecZlib v0.7.0\u001b[39m\n",
            " \u001b[90m [34da2185] \u001b[39m\u001b[92m+ Compat v3.25.0\u001b[39m\n",
            " \u001b[90m [a8cc5b0e] \u001b[39m\u001b[92m+ Crayons v4.0.4\u001b[39m\n",
            " \u001b[90m [9a962f9c] \u001b[39m\u001b[92m+ DataAPI v1.4.0\u001b[39m\n",
            " \u001b[90m [a93c6f00] \u001b[39m\u001b[92m+ DataFrames v0.22.2\u001b[39m\n",
            " \u001b[90m [864edb3b] \u001b[39m\u001b[92m+ DataStructures v0.18.8\u001b[39m\n",
            " \u001b[90m [e2d170a0] \u001b[39m\u001b[92m+ DataValueInterfaces v1.0.0\u001b[39m\n",
            " \u001b[90m [e2ba6199] \u001b[39m\u001b[92m+ ExprTools v0.1.3\u001b[39m\n",
            " \u001b[90m [8f5d6c58] \u001b[39m\u001b[92m+ EzXML v1.1.0\u001b[39m\n",
            " \u001b[90m [5789e2e9] \u001b[39m\u001b[92m+ FileIO v1.4.5\u001b[39m\n",
            " \u001b[90m [59287772] \u001b[39m\u001b[92m+ Formatting v0.4.2\u001b[39m\n",
            " \u001b[90m [41ab1584] \u001b[39m\u001b[92m+ InvertedIndices v1.0.0\u001b[39m\n",
            " \u001b[90m [82899510] \u001b[39m\u001b[92m+ IteratorInterfaceExtensions v1.0.0\u001b[39m\n",
            " \u001b[90m [692b3bcd] \u001b[39m\u001b[92m+ JLLWrappers v1.1.4\u001b[39m\n",
            " \u001b[90m [682c06a0] \u001b[39m\u001b[92m+ JSON v0.21.1\u001b[39m\n",
            " \u001b[90m [94ce4f54] \u001b[39m\u001b[92m+ Libiconv_jll v1.16.0+7\u001b[39m\n",
            " \u001b[90m [e1d29d7a] \u001b[39m\u001b[92m+ Missings v0.4.4\u001b[39m\n",
            " \u001b[90m [78c3b35d] \u001b[39m\u001b[92m+ Mocking v0.7.1\u001b[39m\n",
            " \u001b[90m [bac558e1] \u001b[39m\u001b[92m+ OrderedCollections v1.3.2\u001b[39m\n",
            " \u001b[90m [69de0a69] \u001b[39m\u001b[92m+ Parsers v1.0.15\u001b[39m\n",
            " \u001b[90m [2dfb63ee] \u001b[39m\u001b[92m+ PooledArrays v0.5.3\u001b[39m\n",
            " \u001b[90m [08abe8d2] \u001b[39m\u001b[92m+ PrettyTables v0.10.1\u001b[39m\n",
            " \u001b[90m [df47a6cb] \u001b[39m\u001b[92m+ RData v0.7.3\u001b[39m\n",
            " \u001b[90m [ce6b1742] \u001b[39m\u001b[92m+ RDatasets v0.7.3\u001b[39m\n",
            " \u001b[90m [3cdcf5f2] \u001b[39m\u001b[92m+ RecipesBase v1.1.1\u001b[39m\n",
            " \u001b[90m [189a3867] \u001b[39m\u001b[92m+ Reexport v0.2.0\u001b[39m\n",
            " \u001b[90m [ae029012] \u001b[39m\u001b[92m+ Requires v1.1.2\u001b[39m\n",
            " \u001b[90m [91c51154] \u001b[39m\u001b[92m+ SentinelArrays v1.2.16\u001b[39m\n",
            " \u001b[90m [a2af1166] \u001b[39m\u001b[92m+ SortingAlgorithms v0.3.1\u001b[39m\n",
            " \u001b[90m [856f2bd8] \u001b[39m\u001b[92m+ StructTypes v1.2.1\u001b[39m\n",
            " \u001b[90m [3783bdb8] \u001b[39m\u001b[92m+ TableTraits v1.0.0\u001b[39m\n",
            " \u001b[90m [bd369af6] \u001b[39m\u001b[92m+ Tables v1.2.2\u001b[39m\n",
            " \u001b[90m [f269a46b] \u001b[39m\u001b[92m+ TimeZones v1.5.3\u001b[39m\n",
            " \u001b[90m [3bb67fe8] \u001b[39m\u001b[92m+ TranscodingStreams v0.9.5\u001b[39m\n",
            " \u001b[90m [02c8fc9c] \u001b[39m\u001b[92m+ XML2_jll v2.9.10+3\u001b[39m\n",
            " \u001b[90m [83775a58] \u001b[39m\u001b[92m+ Zlib_jll v1.2.11+18\u001b[39m\n",
            " \u001b[90m [2a0f44e3] \u001b[39m\u001b[92m+ Base64\u001b[39m\n",
            " \u001b[90m [ade2ca70] \u001b[39m\u001b[92m+ Dates\u001b[39m\n",
            " \u001b[90m [8bb1440f] \u001b[39m\u001b[92m+ DelimitedFiles\u001b[39m\n",
            " \u001b[90m [8ba89e20] \u001b[39m\u001b[92m+ Distributed\u001b[39m\n",
            " \u001b[90m [9fa8497b] \u001b[39m\u001b[92m+ Future\u001b[39m\n",
            " \u001b[90m [b77e0a4c] \u001b[39m\u001b[92m+ InteractiveUtils\u001b[39m\n",
            " \u001b[90m [76f85450] \u001b[39m\u001b[92m+ LibGit2\u001b[39m\n",
            " \u001b[90m [8f399da3] \u001b[39m\u001b[92m+ Libdl\u001b[39m\n",
            " \u001b[90m [37e2e46d] \u001b[39m\u001b[92m+ LinearAlgebra\u001b[39m\n",
            " \u001b[90m [56ddb016] \u001b[39m\u001b[92m+ Logging\u001b[39m\n",
            " \u001b[90m [d6f4376e] \u001b[39m\u001b[92m+ Markdown\u001b[39m\n",
            " \u001b[90m [a63ad114] \u001b[39m\u001b[92m+ Mmap\u001b[39m\n",
            " \u001b[90m [44cfe95a] \u001b[39m\u001b[92m+ Pkg\u001b[39m\n",
            " \u001b[90m [de0858da] \u001b[39m\u001b[92m+ Printf\u001b[39m\n",
            " \u001b[90m [3fa0cd96] \u001b[39m\u001b[92m+ REPL\u001b[39m\n",
            " \u001b[90m [9a3f8284] \u001b[39m\u001b[92m+ Random\u001b[39m\n",
            " \u001b[90m [ea8e919c] \u001b[39m\u001b[92m+ SHA\u001b[39m\n",
            " \u001b[90m [9e88b42a] \u001b[39m\u001b[92m+ Serialization\u001b[39m\n",
            " \u001b[90m [1a1011a3] \u001b[39m\u001b[92m+ SharedArrays\u001b[39m\n",
            " \u001b[90m [6462fe0b] \u001b[39m\u001b[92m+ Sockets\u001b[39m\n",
            " \u001b[90m [2f01184e] \u001b[39m\u001b[92m+ SparseArrays\u001b[39m\n",
            " \u001b[90m [10745b16] \u001b[39m\u001b[92m+ Statistics\u001b[39m\n",
            " \u001b[90m [8dfed614] \u001b[39m\u001b[92m+ Test\u001b[39m\n",
            " \u001b[90m [cf7118a7] \u001b[39m\u001b[92m+ UUIDs\u001b[39m\n",
            " \u001b[90m [4ec0a83e] \u001b[39m\u001b[92m+ Unicode\u001b[39m\n",
            "\u001b[32m\u001b[1m   Building\u001b[22m\u001b[39m TimeZones → `~/.julia/packages/TimeZones/K98G0/deps/build.log`\n"
          ],
          "name": "stderr"
        }
      ]
    },
    {
      "cell_type": "code",
      "metadata": {
        "colab": {
          "base_uri": "https://localhost:8080/"
        },
        "id": "VWYzAWI0PXnN",
        "outputId": "b37a7687-9616-485b-aecb-7dba2c79ef3b"
      },
      "source": [
        "Pkg.add(\"DataFrames\")"
      ],
      "execution_count": 129,
      "outputs": [
        {
          "output_type": "stream",
          "text": [
            "\u001b[32m\u001b[1m  Resolving\u001b[22m\u001b[39m package versions...\n",
            "\u001b[32m\u001b[1mUpdating\u001b[22m\u001b[39m `/content/Project.toml`\n",
            " \u001b[90m [a93c6f00] \u001b[39m\u001b[92m+ DataFrames v0.22.2\u001b[39m\n",
            "\u001b[32m\u001b[1mNo Changes\u001b[22m\u001b[39m to `/content/Manifest.toml`\n"
          ],
          "name": "stderr"
        }
      ]
    },
    {
      "cell_type": "code",
      "metadata": {
        "id": "8MRbZGSfPfSR"
      },
      "source": [
        "using DataFrames"
      ],
      "execution_count": 130,
      "outputs": []
    },
    {
      "cell_type": "code",
      "metadata": {
        "id": "jjxtYtyoQ7XF"
      },
      "source": [
        ""
      ],
      "execution_count": null,
      "outputs": []
    },
    {
      "cell_type": "code",
      "metadata": {
        "id": "uiz9Y7vrOx7q",
        "colab": {
          "base_uri": "https://localhost:8080/"
        },
        "outputId": "fc10900c-a59f-4f5e-9251-60cf01ed2e94"
      },
      "source": [
        "using RDatasets"
      ],
      "execution_count": 123,
      "outputs": [
        {
          "output_type": "stream",
          "text": [
            "┌ Info: Precompiling RDatasets [ce6b1742-4840-55fa-b093-852dadbb1d8b]\n",
            "└ @ Base loading.jl:1278\n"
          ],
          "name": "stderr"
        }
      ]
    },
    {
      "cell_type": "code",
      "metadata": {
        "id": "MMGr_H0NOx7q",
        "colab": {
          "base_uri": "https://localhost:8080/",
          "height": 731
        },
        "outputId": "587b3682-c32f-4c5a-e56f-d71be74f0c48"
      },
      "source": [
        "RDatasets.datasets()"
      ],
      "execution_count": 124,
      "outputs": [
        {
          "output_type": "execute_result",
          "data": {
            "text/latex": "\\begin{tabular}{r|ccccc}\n\t& Package & Dataset & Title & Rows & Columns\\\\\n\t\\hline\n\t& String & String & String & Int64 & Int64\\\\\n\t\\hline\n\t1 & COUNT & affairs & affairs & 601 & 18 \\\\\n\t2 & COUNT & azdrg112 & azdrg112 & 1798 & 4 \\\\\n\t3 & COUNT & azpro & azpro & 3589 & 6 \\\\\n\t4 & COUNT & badhealth & badhealth & 1127 & 3 \\\\\n\t5 & COUNT & fasttrakg & fasttrakg & 15 & 9 \\\\\n\t6 & COUNT & lbw & lbw & 189 & 10 \\\\\n\t7 & COUNT & lbwgrp & lbwgrp & 6 & 7 \\\\\n\t8 & COUNT & loomis & loomis & 410 & 11 \\\\\n\t9 & COUNT & mdvis & mdvis & 2227 & 13 \\\\\n\t10 & COUNT & medpar & medpar & 1495 & 10 \\\\\n\t11 & COUNT & rwm & rwm & 27326 & 4 \\\\\n\t12 & COUNT & rwm5yr & rwm5yr & 19609 & 17 \\\\\n\t13 & COUNT & ships & ships & 40 & 7 \\\\\n\t14 & COUNT & titanic & titanic & 1316 & 4 \\\\\n\t15 & COUNT & titanicgrp & titanicgrp & 12 & 5 \\\\\n\t16 & Ecdat & Accident & Ship Accidents & 40 & 5 \\\\\n\t17 & Ecdat & Airline & Cost for U.S. Airlines & 90 & 6 \\\\\n\t18 & Ecdat & Airq & Air Quality for Californian Metropolitan Areas & 30 & 6 \\\\\n\t19 & Ecdat & Benefits & Unemployement of Blue Collar Workers & 4877 & 18 \\\\\n\t20 & Ecdat & Bids & Bids Received By U.S. Firms & 126 & 12 \\\\\n\t21 & Ecdat & BudgetFood & Budget Share of Food for Spanish Households & 23972 & 6 \\\\\n\t22 & Ecdat & BudgetItaly & Budget Shares for Italian Households & 1729 & 11 \\\\\n\t23 & Ecdat & BudgetUK & Budget Shares of British Households & 1519 & 10 \\\\\n\t24 & Ecdat & Bwages & Wages in Belgium & 1472 & 4 \\\\\n\t25 & Ecdat & CPSch3 & Earnings from the Current Population Survey & 11130 & 3 \\\\\n\t26 & Ecdat & Capm & Stock Market Data & 516 & 5 \\\\\n\t27 & Ecdat & Car & Stated Preferences for Car Choice & 4654 & 70 \\\\\n\t28 & Ecdat & Caschool & The California Test Score Data Set & 420 & 17 \\\\\n\t29 & Ecdat & Catsup & Choice of Brand for Catsup & 2798 & 14 \\\\\n\t30 & Ecdat & Cigar & Cigarette Consumption & 1380 & 9 \\\\\n\t$\\dots$ & $\\dots$ & $\\dots$ & $\\dots$ & $\\dots$ & $\\dots$ \\\\\n\\end{tabular}\n",
            "text/html": [
              "<table class=\"data-frame\"><thead><tr><th></th><th>Package</th><th>Dataset</th><th>Title</th><th>Rows</th><th>Columns</th></tr><tr><th></th><th>String</th><th>String</th><th>String</th><th>Int64</th><th>Int64</th></tr></thead><tbody><p>763 rows × 5 columns</p><tr><th>1</th><td>COUNT</td><td>affairs</td><td>affairs</td><td>601</td><td>18</td></tr><tr><th>2</th><td>COUNT</td><td>azdrg112</td><td>azdrg112</td><td>1798</td><td>4</td></tr><tr><th>3</th><td>COUNT</td><td>azpro</td><td>azpro</td><td>3589</td><td>6</td></tr><tr><th>4</th><td>COUNT</td><td>badhealth</td><td>badhealth</td><td>1127</td><td>3</td></tr><tr><th>5</th><td>COUNT</td><td>fasttrakg</td><td>fasttrakg</td><td>15</td><td>9</td></tr><tr><th>6</th><td>COUNT</td><td>lbw</td><td>lbw</td><td>189</td><td>10</td></tr><tr><th>7</th><td>COUNT</td><td>lbwgrp</td><td>lbwgrp</td><td>6</td><td>7</td></tr><tr><th>8</th><td>COUNT</td><td>loomis</td><td>loomis</td><td>410</td><td>11</td></tr><tr><th>9</th><td>COUNT</td><td>mdvis</td><td>mdvis</td><td>2227</td><td>13</td></tr><tr><th>10</th><td>COUNT</td><td>medpar</td><td>medpar</td><td>1495</td><td>10</td></tr><tr><th>11</th><td>COUNT</td><td>rwm</td><td>rwm</td><td>27326</td><td>4</td></tr><tr><th>12</th><td>COUNT</td><td>rwm5yr</td><td>rwm5yr</td><td>19609</td><td>17</td></tr><tr><th>13</th><td>COUNT</td><td>ships</td><td>ships</td><td>40</td><td>7</td></tr><tr><th>14</th><td>COUNT</td><td>titanic</td><td>titanic</td><td>1316</td><td>4</td></tr><tr><th>15</th><td>COUNT</td><td>titanicgrp</td><td>titanicgrp</td><td>12</td><td>5</td></tr><tr><th>16</th><td>Ecdat</td><td>Accident</td><td>Ship Accidents</td><td>40</td><td>5</td></tr><tr><th>17</th><td>Ecdat</td><td>Airline</td><td>Cost for U.S. Airlines</td><td>90</td><td>6</td></tr><tr><th>18</th><td>Ecdat</td><td>Airq</td><td>Air Quality for Californian Metropolitan Areas</td><td>30</td><td>6</td></tr><tr><th>19</th><td>Ecdat</td><td>Benefits</td><td>Unemployement of Blue Collar Workers</td><td>4877</td><td>18</td></tr><tr><th>20</th><td>Ecdat</td><td>Bids</td><td>Bids Received By U.S. Firms</td><td>126</td><td>12</td></tr><tr><th>21</th><td>Ecdat</td><td>BudgetFood</td><td>Budget Share of Food for Spanish Households</td><td>23972</td><td>6</td></tr><tr><th>22</th><td>Ecdat</td><td>BudgetItaly</td><td>Budget Shares for Italian Households</td><td>1729</td><td>11</td></tr><tr><th>23</th><td>Ecdat</td><td>BudgetUK</td><td>Budget Shares of British Households</td><td>1519</td><td>10</td></tr><tr><th>24</th><td>Ecdat</td><td>Bwages</td><td>Wages in Belgium</td><td>1472</td><td>4</td></tr><tr><th>25</th><td>Ecdat</td><td>CPSch3</td><td>Earnings from the Current Population Survey</td><td>11130</td><td>3</td></tr><tr><th>26</th><td>Ecdat</td><td>Capm</td><td>Stock Market Data</td><td>516</td><td>5</td></tr><tr><th>27</th><td>Ecdat</td><td>Car</td><td>Stated Preferences for Car Choice</td><td>4654</td><td>70</td></tr><tr><th>28</th><td>Ecdat</td><td>Caschool</td><td>The California Test Score Data Set</td><td>420</td><td>17</td></tr><tr><th>29</th><td>Ecdat</td><td>Catsup</td><td>Choice of Brand for Catsup</td><td>2798</td><td>14</td></tr><tr><th>30</th><td>Ecdat</td><td>Cigar</td><td>Cigarette Consumption</td><td>1380</td><td>9</td></tr><tr><th>&vellip;</th><td>&vellip;</td><td>&vellip;</td><td>&vellip;</td><td>&vellip;</td><td>&vellip;</td></tr></tbody></table>"
            ],
            "text/plain": [
              "\u001b[1m763×5 DataFrame\u001b[0m\n",
              "\u001b[1m Row \u001b[0m│\u001b[1m Package \u001b[0m\u001b[1m Dataset     \u001b[0m\u001b[1m Title       \u001b[0m\u001b[1m Rows  \u001b[0m\u001b[1m Columns \u001b[0m\n",
              "\u001b[1m     \u001b[0m│\u001b[90m String  \u001b[0m\u001b[90m String      \u001b[0m\u001b[90m String      \u001b[0m\u001b[90m Int64 \u001b[0m\u001b[90m Int64   \u001b[0m\n",
              "─────┼───────────────────────────────────────────────────\n",
              "   1 │ COUNT    affairs      affairs        601       18\n",
              "   2 │ COUNT    azdrg112     azdrg112      1798        4\n",
              "   3 │ COUNT    azpro        azpro         3589        6\n",
              "   4 │ COUNT    badhealth    badhealth     1127        3\n",
              "   5 │ COUNT    fasttrakg    fasttrakg       15        9\n",
              "   6 │ COUNT    lbw          lbw            189       10\n",
              "   7 │ COUNT    lbwgrp       lbwgrp           6        7\n",
              "   8 │ COUNT    loomis       loomis         410       11\n",
              "   9 │ COUNT    mdvis        mdvis         2227       13\n",
              "  10 │ COUNT    medpar       medpar        1495       10\n",
              "  11 │ COUNT    rwm          rwm          27326        4\n",
              "  ⋮  │    ⋮          ⋮            ⋮         ⋮       ⋮\n",
              " 754 │ gamair   mpg          mpg            205       27\n",
              " 755 │ gamair   prostate     prostate       654      530\n",
              " 756 │ gamair   sitka        sitka         1027        6\n",
              " 757 │ gamair   sole         sole          1575        8\n",
              " 758 │ gamair   sperm.comp1  sperm.comp1     15        5\n",
              " 759 │ gamair   sperm.comp2  sperm.comp2     24       11\n",
              " 760 │ gamair   stomata      stomata         24        4\n",
              " 761 │ gamair   swer         swer          2196       10\n",
              " 762 │ gamair   wesdr        wesdr          669        5\n",
              " 763 │ gamair   wine         wine            47        8\n",
              "\u001b[31m                                         742 rows omitted\u001b[0m"
            ]
          },
          "metadata": {
            "tags": []
          },
          "execution_count": 124
        }
      ]
    },
    {
      "cell_type": "code",
      "metadata": {
        "id": "eQj2a-qFOx7r",
        "colab": {
          "base_uri": "https://localhost:8080/",
          "height": 731
        },
        "outputId": "cf0b24a8-ecd9-4cc9-b535-9112c1e5ddac"
      },
      "source": [
        "iris = dataset(\"datasets\", \"iris\")"
      ],
      "execution_count": 197,
      "outputs": [
        {
          "output_type": "execute_result",
          "data": {
            "text/latex": "\\begin{tabular}{r|ccccc}\n\t& SepalLength & SepalWidth & PetalLength & PetalWidth & Species\\\\\n\t\\hline\n\t& Float64 & Float64 & Float64 & Float64 & Cat…\\\\\n\t\\hline\n\t1 & 5.1 & 3.5 & 1.4 & 0.2 & setosa \\\\\n\t2 & 4.9 & 3.0 & 1.4 & 0.2 & setosa \\\\\n\t3 & 4.7 & 3.2 & 1.3 & 0.2 & setosa \\\\\n\t4 & 4.6 & 3.1 & 1.5 & 0.2 & setosa \\\\\n\t5 & 5.0 & 3.6 & 1.4 & 0.2 & setosa \\\\\n\t6 & 5.4 & 3.9 & 1.7 & 0.4 & setosa \\\\\n\t7 & 4.6 & 3.4 & 1.4 & 0.3 & setosa \\\\\n\t8 & 5.0 & 3.4 & 1.5 & 0.2 & setosa \\\\\n\t9 & 4.4 & 2.9 & 1.4 & 0.2 & setosa \\\\\n\t10 & 4.9 & 3.1 & 1.5 & 0.1 & setosa \\\\\n\t11 & 5.4 & 3.7 & 1.5 & 0.2 & setosa \\\\\n\t12 & 4.8 & 3.4 & 1.6 & 0.2 & setosa \\\\\n\t13 & 4.8 & 3.0 & 1.4 & 0.1 & setosa \\\\\n\t14 & 4.3 & 3.0 & 1.1 & 0.1 & setosa \\\\\n\t15 & 5.8 & 4.0 & 1.2 & 0.2 & setosa \\\\\n\t16 & 5.7 & 4.4 & 1.5 & 0.4 & setosa \\\\\n\t17 & 5.4 & 3.9 & 1.3 & 0.4 & setosa \\\\\n\t18 & 5.1 & 3.5 & 1.4 & 0.3 & setosa \\\\\n\t19 & 5.7 & 3.8 & 1.7 & 0.3 & setosa \\\\\n\t20 & 5.1 & 3.8 & 1.5 & 0.3 & setosa \\\\\n\t21 & 5.4 & 3.4 & 1.7 & 0.2 & setosa \\\\\n\t22 & 5.1 & 3.7 & 1.5 & 0.4 & setosa \\\\\n\t23 & 4.6 & 3.6 & 1.0 & 0.2 & setosa \\\\\n\t24 & 5.1 & 3.3 & 1.7 & 0.5 & setosa \\\\\n\t25 & 4.8 & 3.4 & 1.9 & 0.2 & setosa \\\\\n\t26 & 5.0 & 3.0 & 1.6 & 0.2 & setosa \\\\\n\t27 & 5.0 & 3.4 & 1.6 & 0.4 & setosa \\\\\n\t28 & 5.2 & 3.5 & 1.5 & 0.2 & setosa \\\\\n\t29 & 5.2 & 3.4 & 1.4 & 0.2 & setosa \\\\\n\t30 & 4.7 & 3.2 & 1.6 & 0.2 & setosa \\\\\n\t$\\dots$ & $\\dots$ & $\\dots$ & $\\dots$ & $\\dots$ & $\\dots$ \\\\\n\\end{tabular}\n",
            "text/html": [
              "<table class=\"data-frame\"><thead><tr><th></th><th>SepalLength</th><th>SepalWidth</th><th>PetalLength</th><th>PetalWidth</th><th>Species</th></tr><tr><th></th><th>Float64</th><th>Float64</th><th>Float64</th><th>Float64</th><th>Cat…</th></tr></thead><tbody><p>150 rows × 5 columns</p><tr><th>1</th><td>5.1</td><td>3.5</td><td>1.4</td><td>0.2</td><td>setosa</td></tr><tr><th>2</th><td>4.9</td><td>3.0</td><td>1.4</td><td>0.2</td><td>setosa</td></tr><tr><th>3</th><td>4.7</td><td>3.2</td><td>1.3</td><td>0.2</td><td>setosa</td></tr><tr><th>4</th><td>4.6</td><td>3.1</td><td>1.5</td><td>0.2</td><td>setosa</td></tr><tr><th>5</th><td>5.0</td><td>3.6</td><td>1.4</td><td>0.2</td><td>setosa</td></tr><tr><th>6</th><td>5.4</td><td>3.9</td><td>1.7</td><td>0.4</td><td>setosa</td></tr><tr><th>7</th><td>4.6</td><td>3.4</td><td>1.4</td><td>0.3</td><td>setosa</td></tr><tr><th>8</th><td>5.0</td><td>3.4</td><td>1.5</td><td>0.2</td><td>setosa</td></tr><tr><th>9</th><td>4.4</td><td>2.9</td><td>1.4</td><td>0.2</td><td>setosa</td></tr><tr><th>10</th><td>4.9</td><td>3.1</td><td>1.5</td><td>0.1</td><td>setosa</td></tr><tr><th>11</th><td>5.4</td><td>3.7</td><td>1.5</td><td>0.2</td><td>setosa</td></tr><tr><th>12</th><td>4.8</td><td>3.4</td><td>1.6</td><td>0.2</td><td>setosa</td></tr><tr><th>13</th><td>4.8</td><td>3.0</td><td>1.4</td><td>0.1</td><td>setosa</td></tr><tr><th>14</th><td>4.3</td><td>3.0</td><td>1.1</td><td>0.1</td><td>setosa</td></tr><tr><th>15</th><td>5.8</td><td>4.0</td><td>1.2</td><td>0.2</td><td>setosa</td></tr><tr><th>16</th><td>5.7</td><td>4.4</td><td>1.5</td><td>0.4</td><td>setosa</td></tr><tr><th>17</th><td>5.4</td><td>3.9</td><td>1.3</td><td>0.4</td><td>setosa</td></tr><tr><th>18</th><td>5.1</td><td>3.5</td><td>1.4</td><td>0.3</td><td>setosa</td></tr><tr><th>19</th><td>5.7</td><td>3.8</td><td>1.7</td><td>0.3</td><td>setosa</td></tr><tr><th>20</th><td>5.1</td><td>3.8</td><td>1.5</td><td>0.3</td><td>setosa</td></tr><tr><th>21</th><td>5.4</td><td>3.4</td><td>1.7</td><td>0.2</td><td>setosa</td></tr><tr><th>22</th><td>5.1</td><td>3.7</td><td>1.5</td><td>0.4</td><td>setosa</td></tr><tr><th>23</th><td>4.6</td><td>3.6</td><td>1.0</td><td>0.2</td><td>setosa</td></tr><tr><th>24</th><td>5.1</td><td>3.3</td><td>1.7</td><td>0.5</td><td>setosa</td></tr><tr><th>25</th><td>4.8</td><td>3.4</td><td>1.9</td><td>0.2</td><td>setosa</td></tr><tr><th>26</th><td>5.0</td><td>3.0</td><td>1.6</td><td>0.2</td><td>setosa</td></tr><tr><th>27</th><td>5.0</td><td>3.4</td><td>1.6</td><td>0.4</td><td>setosa</td></tr><tr><th>28</th><td>5.2</td><td>3.5</td><td>1.5</td><td>0.2</td><td>setosa</td></tr><tr><th>29</th><td>5.2</td><td>3.4</td><td>1.4</td><td>0.2</td><td>setosa</td></tr><tr><th>30</th><td>4.7</td><td>3.2</td><td>1.6</td><td>0.2</td><td>setosa</td></tr><tr><th>&vellip;</th><td>&vellip;</td><td>&vellip;</td><td>&vellip;</td><td>&vellip;</td><td>&vellip;</td></tr></tbody></table>"
            ],
            "text/plain": [
              "\u001b[1m150×5 DataFrame\u001b[0m\n",
              "\u001b[1m Row \u001b[0m│\u001b[1m SepalLength \u001b[0m\u001b[1m SepalWidth \u001b[0m\u001b[1m PetalLength \u001b[0m\u001b[1m PetalWidth \u001b[0m\u001b[1m Species   \u001b[0m\n",
              "\u001b[1m     \u001b[0m│\u001b[90m Float64     \u001b[0m\u001b[90m Float64    \u001b[0m\u001b[90m Float64     \u001b[0m\u001b[90m Float64    \u001b[0m\u001b[90m Cat…      \u001b[0m\n",
              "─────┼─────────────────────────────────────────────────────────────\n",
              "   1 │         5.1         3.5          1.4         0.2  setosa\n",
              "   2 │         4.9         3.0          1.4         0.2  setosa\n",
              "   3 │         4.7         3.2          1.3         0.2  setosa\n",
              "   4 │         4.6         3.1          1.5         0.2  setosa\n",
              "   5 │         5.0         3.6          1.4         0.2  setosa\n",
              "   6 │         5.4         3.9          1.7         0.4  setosa\n",
              "   7 │         4.6         3.4          1.4         0.3  setosa\n",
              "   8 │         5.0         3.4          1.5         0.2  setosa\n",
              "   9 │         4.4         2.9          1.4         0.2  setosa\n",
              "  10 │         4.9         3.1          1.5         0.1  setosa\n",
              "  11 │         5.4         3.7          1.5         0.2  setosa\n",
              "  ⋮  │      ⋮           ⋮            ⋮           ⋮           ⋮\n",
              " 141 │         6.7         3.1          5.6         2.4  virginica\n",
              " 142 │         6.9         3.1          5.1         2.3  virginica\n",
              " 143 │         5.8         2.7          5.1         1.9  virginica\n",
              " 144 │         6.8         3.2          5.9         2.3  virginica\n",
              " 145 │         6.7         3.3          5.7         2.5  virginica\n",
              " 146 │         6.7         3.0          5.2         2.3  virginica\n",
              " 147 │         6.3         2.5          5.0         1.9  virginica\n",
              " 148 │         6.5         3.0          5.2         2.0  virginica\n",
              " 149 │         6.2         3.4          5.4         2.3  virginica\n",
              " 150 │         5.9         3.0          5.1         1.8  virginica\n",
              "\u001b[31m                                                   129 rows omitted\u001b[0m"
            ]
          },
          "metadata": {
            "tags": []
          },
          "execution_count": 197
        }
      ]
    },
    {
      "cell_type": "code",
      "metadata": {
        "id": "nD9wTw36Ox7r",
        "colab": {
          "base_uri": "https://localhost:8080/"
        },
        "outputId": "84d52778-0a75-4b8b-817d-3d6b91c526b1"
      },
      "source": [
        "names(iris)"
      ],
      "execution_count": 126,
      "outputs": [
        {
          "output_type": "execute_result",
          "data": {
            "text/plain": [
              "5-element Array{String,1}:\n",
              " \"SepalLength\"\n",
              " \"SepalWidth\"\n",
              " \"PetalLength\"\n",
              " \"PetalWidth\"\n",
              " \"Species\""
            ]
          },
          "metadata": {
            "tags": []
          },
          "execution_count": 126
        }
      ]
    },
    {
      "cell_type": "code",
      "metadata": {
        "id": "Kr-fYAqVOx7r",
        "colab": {
          "base_uri": "https://localhost:8080/"
        },
        "outputId": "208b134b-c07d-48c6-bac1-e40c7b872984"
      },
      "source": [
        "size(iris)"
      ],
      "execution_count": 127,
      "outputs": [
        {
          "output_type": "execute_result",
          "data": {
            "text/plain": [
              "(150, 5)"
            ]
          },
          "metadata": {
            "tags": []
          },
          "execution_count": 127
        }
      ]
    },
    {
      "cell_type": "code",
      "metadata": {
        "colab": {
          "base_uri": "https://localhost:8080/",
          "height": 731
        },
        "id": "txxGVLgAQRu2",
        "outputId": "747cb8db-6f82-43e3-923c-c3702a3b5516"
      },
      "source": [
        "df = DataFrame(A = 1:2:1000, B = repeat(1:10, inner=50), C = 1:500)"
      ],
      "execution_count": 196,
      "outputs": [
        {
          "output_type": "execute_result",
          "data": {
            "text/latex": "\\begin{tabular}{r|ccc}\n\t& A & B & C\\\\\n\t\\hline\n\t& Int64 & Int64 & Int64\\\\\n\t\\hline\n\t1 & 1 & 1 & 1 \\\\\n\t2 & 3 & 1 & 2 \\\\\n\t3 & 5 & 1 & 3 \\\\\n\t4 & 7 & 1 & 4 \\\\\n\t5 & 9 & 1 & 5 \\\\\n\t6 & 11 & 1 & 6 \\\\\n\t7 & 13 & 1 & 7 \\\\\n\t8 & 15 & 1 & 8 \\\\\n\t9 & 17 & 1 & 9 \\\\\n\t10 & 19 & 1 & 10 \\\\\n\t11 & 21 & 1 & 11 \\\\\n\t12 & 23 & 1 & 12 \\\\\n\t13 & 25 & 1 & 13 \\\\\n\t14 & 27 & 1 & 14 \\\\\n\t15 & 29 & 1 & 15 \\\\\n\t16 & 31 & 1 & 16 \\\\\n\t17 & 33 & 1 & 17 \\\\\n\t18 & 35 & 1 & 18 \\\\\n\t19 & 37 & 1 & 19 \\\\\n\t20 & 39 & 1 & 20 \\\\\n\t21 & 41 & 1 & 21 \\\\\n\t22 & 43 & 1 & 22 \\\\\n\t23 & 45 & 1 & 23 \\\\\n\t24 & 47 & 1 & 24 \\\\\n\t25 & 49 & 1 & 25 \\\\\n\t26 & 51 & 1 & 26 \\\\\n\t27 & 53 & 1 & 27 \\\\\n\t28 & 55 & 1 & 28 \\\\\n\t29 & 57 & 1 & 29 \\\\\n\t30 & 59 & 1 & 30 \\\\\n\t$\\dots$ & $\\dots$ & $\\dots$ & $\\dots$ \\\\\n\\end{tabular}\n",
            "text/html": [
              "<table class=\"data-frame\"><thead><tr><th></th><th>A</th><th>B</th><th>C</th></tr><tr><th></th><th>Int64</th><th>Int64</th><th>Int64</th></tr></thead><tbody><p>500 rows × 3 columns</p><tr><th>1</th><td>1</td><td>1</td><td>1</td></tr><tr><th>2</th><td>3</td><td>1</td><td>2</td></tr><tr><th>3</th><td>5</td><td>1</td><td>3</td></tr><tr><th>4</th><td>7</td><td>1</td><td>4</td></tr><tr><th>5</th><td>9</td><td>1</td><td>5</td></tr><tr><th>6</th><td>11</td><td>1</td><td>6</td></tr><tr><th>7</th><td>13</td><td>1</td><td>7</td></tr><tr><th>8</th><td>15</td><td>1</td><td>8</td></tr><tr><th>9</th><td>17</td><td>1</td><td>9</td></tr><tr><th>10</th><td>19</td><td>1</td><td>10</td></tr><tr><th>11</th><td>21</td><td>1</td><td>11</td></tr><tr><th>12</th><td>23</td><td>1</td><td>12</td></tr><tr><th>13</th><td>25</td><td>1</td><td>13</td></tr><tr><th>14</th><td>27</td><td>1</td><td>14</td></tr><tr><th>15</th><td>29</td><td>1</td><td>15</td></tr><tr><th>16</th><td>31</td><td>1</td><td>16</td></tr><tr><th>17</th><td>33</td><td>1</td><td>17</td></tr><tr><th>18</th><td>35</td><td>1</td><td>18</td></tr><tr><th>19</th><td>37</td><td>1</td><td>19</td></tr><tr><th>20</th><td>39</td><td>1</td><td>20</td></tr><tr><th>21</th><td>41</td><td>1</td><td>21</td></tr><tr><th>22</th><td>43</td><td>1</td><td>22</td></tr><tr><th>23</th><td>45</td><td>1</td><td>23</td></tr><tr><th>24</th><td>47</td><td>1</td><td>24</td></tr><tr><th>25</th><td>49</td><td>1</td><td>25</td></tr><tr><th>26</th><td>51</td><td>1</td><td>26</td></tr><tr><th>27</th><td>53</td><td>1</td><td>27</td></tr><tr><th>28</th><td>55</td><td>1</td><td>28</td></tr><tr><th>29</th><td>57</td><td>1</td><td>29</td></tr><tr><th>30</th><td>59</td><td>1</td><td>30</td></tr><tr><th>&vellip;</th><td>&vellip;</td><td>&vellip;</td><td>&vellip;</td></tr></tbody></table>"
            ],
            "text/plain": [
              "\u001b[1m500×3 DataFrame\u001b[0m\n",
              "\u001b[1m Row \u001b[0m│\u001b[1m A     \u001b[0m\u001b[1m B     \u001b[0m\u001b[1m C     \u001b[0m\n",
              "\u001b[1m     \u001b[0m│\u001b[90m Int64 \u001b[0m\u001b[90m Int64 \u001b[0m\u001b[90m Int64 \u001b[0m\n",
              "─────┼─────────────────────\n",
              "   1 │     1      1      1\n",
              "   2 │     3      1      2\n",
              "   3 │     5      1      3\n",
              "   4 │     7      1      4\n",
              "   5 │     9      1      5\n",
              "   6 │    11      1      6\n",
              "   7 │    13      1      7\n",
              "   8 │    15      1      8\n",
              "   9 │    17      1      9\n",
              "  10 │    19      1     10\n",
              "  11 │    21      1     11\n",
              "  ⋮  │   ⋮      ⋮      ⋮\n",
              " 491 │   981     10    491\n",
              " 492 │   983     10    492\n",
              " 493 │   985     10    493\n",
              " 494 │   987     10    494\n",
              " 495 │   989     10    495\n",
              " 496 │   991     10    496\n",
              " 497 │   993     10    497\n",
              " 498 │   995     10    498\n",
              " 499 │   997     10    499\n",
              " 500 │   999     10    500\n",
              "\u001b[31m           479 rows omitted\u001b[0m"
            ]
          },
          "metadata": {
            "tags": []
          },
          "execution_count": 196
        }
      ]
    },
    {
      "cell_type": "code",
      "metadata": {
        "colab": {
          "base_uri": "https://localhost:8080/",
          "height": 173
        },
        "id": "k3OzgD4TQVaX",
        "outputId": "62f35398-9245-45d5-aacd-f1adfb350f7f"
      },
      "source": [
        "first(df, 4)"
      ],
      "execution_count": 145,
      "outputs": [
        {
          "output_type": "execute_result",
          "data": {
            "text/latex": "\\begin{tabular}{r|ccc}\n\t& A & B & C\\\\\n\t\\hline\n\t& Int64 & Int64 & Int64\\\\\n\t\\hline\n\t1 & 1 & 1 & 1 \\\\\n\t2 & 3 & 1 & 2 \\\\\n\t3 & 5 & 1 & 3 \\\\\n\t4 & 7 & 1 & 4 \\\\\n\\end{tabular}\n",
            "text/html": [
              "<table class=\"data-frame\"><thead><tr><th></th><th>A</th><th>B</th><th>C</th></tr><tr><th></th><th>Int64</th><th>Int64</th><th>Int64</th></tr></thead><tbody><p>4 rows × 3 columns</p><tr><th>1</th><td>1</td><td>1</td><td>1</td></tr><tr><th>2</th><td>3</td><td>1</td><td>2</td></tr><tr><th>3</th><td>5</td><td>1</td><td>3</td></tr><tr><th>4</th><td>7</td><td>1</td><td>4</td></tr></tbody></table>"
            ],
            "text/plain": [
              "\u001b[1m4×3 DataFrame\u001b[0m\n",
              "\u001b[1m Row \u001b[0m│\u001b[1m A     \u001b[0m\u001b[1m B     \u001b[0m\u001b[1m C     \u001b[0m\n",
              "\u001b[1m     \u001b[0m│\u001b[90m Int64 \u001b[0m\u001b[90m Int64 \u001b[0m\u001b[90m Int64 \u001b[0m\n",
              "─────┼─────────────────────\n",
              "   1 │     1      1      1\n",
              "   2 │     3      1      2\n",
              "   3 │     5      1      3\n",
              "   4 │     7      1      4"
            ]
          },
          "metadata": {
            "tags": []
          },
          "execution_count": 145
        }
      ]
    },
    {
      "cell_type": "code",
      "metadata": {
        "id": "8ztStiW_Sxnn"
      },
      "source": [
        "#head(iris) #- Not working"
      ],
      "execution_count": null,
      "outputs": []
    },
    {
      "cell_type": "code",
      "metadata": {
        "id": "HCrpxGCMOx7r",
        "colab": {
          "base_uri": "https://localhost:8080/",
          "height": 193
        },
        "outputId": "42d54b66-7de4-4373-fa24-49f2bb73df25"
      },
      "source": [
        "first(iris, 5)"
      ],
      "execution_count": 146,
      "outputs": [
        {
          "output_type": "execute_result",
          "data": {
            "text/latex": "\\begin{tabular}{r|ccccc}\n\t& SepalLength & SepalWidth & PetalLength & PetalWidth & Species\\\\\n\t\\hline\n\t& Float64 & Float64 & Float64 & Float64 & Cat…\\\\\n\t\\hline\n\t1 & 5.1 & 3.5 & 1.4 & 0.2 & setosa \\\\\n\t2 & 4.9 & 3.0 & 1.4 & 0.2 & setosa \\\\\n\t3 & 4.7 & 3.2 & 1.3 & 0.2 & setosa \\\\\n\t4 & 4.6 & 3.1 & 1.5 & 0.2 & setosa \\\\\n\t5 & 5.0 & 3.6 & 1.4 & 0.2 & setosa \\\\\n\\end{tabular}\n",
            "text/html": [
              "<table class=\"data-frame\"><thead><tr><th></th><th>SepalLength</th><th>SepalWidth</th><th>PetalLength</th><th>PetalWidth</th><th>Species</th></tr><tr><th></th><th>Float64</th><th>Float64</th><th>Float64</th><th>Float64</th><th>Cat…</th></tr></thead><tbody><p>5 rows × 5 columns</p><tr><th>1</th><td>5.1</td><td>3.5</td><td>1.4</td><td>0.2</td><td>setosa</td></tr><tr><th>2</th><td>4.9</td><td>3.0</td><td>1.4</td><td>0.2</td><td>setosa</td></tr><tr><th>3</th><td>4.7</td><td>3.2</td><td>1.3</td><td>0.2</td><td>setosa</td></tr><tr><th>4</th><td>4.6</td><td>3.1</td><td>1.5</td><td>0.2</td><td>setosa</td></tr><tr><th>5</th><td>5.0</td><td>3.6</td><td>1.4</td><td>0.2</td><td>setosa</td></tr></tbody></table>"
            ],
            "text/plain": [
              "\u001b[1m5×5 DataFrame\u001b[0m\n",
              "\u001b[1m Row \u001b[0m│\u001b[1m SepalLength \u001b[0m\u001b[1m SepalWidth \u001b[0m\u001b[1m PetalLength \u001b[0m\u001b[1m PetalWidth \u001b[0m\u001b[1m Species \u001b[0m\n",
              "\u001b[1m     \u001b[0m│\u001b[90m Float64     \u001b[0m\u001b[90m Float64    \u001b[0m\u001b[90m Float64     \u001b[0m\u001b[90m Float64    \u001b[0m\u001b[90m Cat…    \u001b[0m\n",
              "─────┼───────────────────────────────────────────────────────────\n",
              "   1 │         5.1         3.5          1.4         0.2  setosa\n",
              "   2 │         4.9         3.0          1.4         0.2  setosa\n",
              "   3 │         4.7         3.2          1.3         0.2  setosa\n",
              "   4 │         4.6         3.1          1.5         0.2  setosa\n",
              "   5 │         5.0         3.6          1.4         0.2  setosa"
            ]
          },
          "metadata": {
            "tags": []
          },
          "execution_count": 146
        }
      ]
    },
    {
      "cell_type": "code",
      "metadata": {
        "colab": {
          "base_uri": "https://localhost:8080/",
          "height": 193
        },
        "id": "iHaLUGQwSpXD",
        "outputId": "4c995e3c-9e1c-436d-829a-5beb018b924e"
      },
      "source": [
        "last(iris, 5)"
      ],
      "execution_count": 147,
      "outputs": [
        {
          "output_type": "execute_result",
          "data": {
            "text/latex": "\\begin{tabular}{r|ccccc}\n\t& SepalLength & SepalWidth & PetalLength & PetalWidth & Species\\\\\n\t\\hline\n\t& Float64 & Float64 & Float64 & Float64 & Cat…\\\\\n\t\\hline\n\t1 & 6.7 & 3.0 & 5.2 & 2.3 & virginica \\\\\n\t2 & 6.3 & 2.5 & 5.0 & 1.9 & virginica \\\\\n\t3 & 6.5 & 3.0 & 5.2 & 2.0 & virginica \\\\\n\t4 & 6.2 & 3.4 & 5.4 & 2.3 & virginica \\\\\n\t5 & 5.9 & 3.0 & 5.1 & 1.8 & virginica \\\\\n\\end{tabular}\n",
            "text/html": [
              "<table class=\"data-frame\"><thead><tr><th></th><th>SepalLength</th><th>SepalWidth</th><th>PetalLength</th><th>PetalWidth</th><th>Species</th></tr><tr><th></th><th>Float64</th><th>Float64</th><th>Float64</th><th>Float64</th><th>Cat…</th></tr></thead><tbody><p>5 rows × 5 columns</p><tr><th>1</th><td>6.7</td><td>3.0</td><td>5.2</td><td>2.3</td><td>virginica</td></tr><tr><th>2</th><td>6.3</td><td>2.5</td><td>5.0</td><td>1.9</td><td>virginica</td></tr><tr><th>3</th><td>6.5</td><td>3.0</td><td>5.2</td><td>2.0</td><td>virginica</td></tr><tr><th>4</th><td>6.2</td><td>3.4</td><td>5.4</td><td>2.3</td><td>virginica</td></tr><tr><th>5</th><td>5.9</td><td>3.0</td><td>5.1</td><td>1.8</td><td>virginica</td></tr></tbody></table>"
            ],
            "text/plain": [
              "\u001b[1m5×5 DataFrame\u001b[0m\n",
              "\u001b[1m Row \u001b[0m│\u001b[1m SepalLength \u001b[0m\u001b[1m SepalWidth \u001b[0m\u001b[1m PetalLength \u001b[0m\u001b[1m PetalWidth \u001b[0m\u001b[1m Species   \u001b[0m\n",
              "\u001b[1m     \u001b[0m│\u001b[90m Float64     \u001b[0m\u001b[90m Float64    \u001b[0m\u001b[90m Float64     \u001b[0m\u001b[90m Float64    \u001b[0m\u001b[90m Cat…      \u001b[0m\n",
              "─────┼─────────────────────────────────────────────────────────────\n",
              "   1 │         6.7         3.0          5.2         2.3  virginica\n",
              "   2 │         6.3         2.5          5.0         1.9  virginica\n",
              "   3 │         6.5         3.0          5.2         2.0  virginica\n",
              "   4 │         6.2         3.4          5.4         2.3  virginica\n",
              "   5 │         5.9         3.0          5.1         1.8  virginica"
            ]
          },
          "metadata": {
            "tags": []
          },
          "execution_count": 147
        }
      ]
    },
    {
      "cell_type": "code",
      "metadata": {
        "id": "-2M_LaFVOx7r"
      },
      "source": [
        "#tail(iris) - Not Working"
      ],
      "execution_count": null,
      "outputs": []
    },
    {
      "cell_type": "code",
      "metadata": {
        "id": "-oqqHAzDOx7s",
        "colab": {
          "base_uri": "https://localhost:8080/",
          "height": 201
        },
        "outputId": "2ac61386-0bf1-4323-e4d9-53c912243ac4"
      },
      "source": [
        "#by(iris, :Species) # Not Working"
      ],
      "execution_count": 207,
      "outputs": [
        {
          "output_type": "error",
          "ename": "LoadError",
          "evalue": "ignored",
          "traceback": [
            "ArgumentError: by function was removed from DataFrames.jl. Use the `combine(groupby(...), ...)` or `combine(f, groupby(...))` instead.",
            "",
            "Stacktrace:",
            " [1] by(::DataFrame, ::Vararg{Any,N} where N; kwargs::Base.Iterators.Pairs{Union{},Union{},Tuple{},NamedTuple{(),Tuple{}}}) at /root/.julia/packages/DataFrames/yqToF/src/deprecated.jl:6",
            " [2] by(::DataFrame, ::Vararg{Any,N} where N) at /root/.julia/packages/DataFrames/yqToF/src/deprecated.jl:6",
            " [3] top-level scope at In[207]:1",
            " [4] include_string(::Function, ::Module, ::String, ::String) at ./loading.jl:1091"
          ]
        }
      ]
    },
    {
      "cell_type": "code",
      "metadata": {
        "colab": {
          "base_uri": "https://localhost:8080/",
          "height": 1000
        },
        "id": "AhmkeB5oTe4Q",
        "outputId": "f3137be6-9beb-4502-8246-9c7b82ba07d8"
      },
      "source": [
        "gd = groupby(iris, :Species)\r\n",
        "#combine(groupby(iris, :Species))\r\n",
        "\r\n",
        "\r\n",
        "#combine(map(d -> println(d[!, [\"SepalLength\",\t\"SepalWidth\",\t\"PetalLength\"]]), gd))\r\n",
        "#combine(iris, :Species)"
      ],
      "execution_count": 208,
      "outputs": [
        {
          "output_type": "execute_result",
          "data": {
            "text/latex": "GroupedDataFrame with 3 groups based on key: Species\n\nFirst Group (50 rows): Species = CategoricalArrays.CategoricalValue\\{String,UInt8\\} \"setosa\"\n\n\\begin{tabular}{r|ccccc}\n\t& SepalLength & SepalWidth & PetalLength & PetalWidth & Species\\\\\n\t\\hline\n\t& Float64 & Float64 & Float64 & Float64 & Cat…\\\\\n\t\\hline\n\t1 & 5.1 & 3.5 & 1.4 & 0.2 & setosa \\\\\n\t2 & 4.9 & 3.0 & 1.4 & 0.2 & setosa \\\\\n\t3 & 4.7 & 3.2 & 1.3 & 0.2 & setosa \\\\\n\t4 & 4.6 & 3.1 & 1.5 & 0.2 & setosa \\\\\n\t5 & 5.0 & 3.6 & 1.4 & 0.2 & setosa \\\\\n\t6 & 5.4 & 3.9 & 1.7 & 0.4 & setosa \\\\\n\t7 & 4.6 & 3.4 & 1.4 & 0.3 & setosa \\\\\n\t8 & 5.0 & 3.4 & 1.5 & 0.2 & setosa \\\\\n\t9 & 4.4 & 2.9 & 1.4 & 0.2 & setosa \\\\\n\t10 & 4.9 & 3.1 & 1.5 & 0.1 & setosa \\\\\n\t11 & 5.4 & 3.7 & 1.5 & 0.2 & setosa \\\\\n\t12 & 4.8 & 3.4 & 1.6 & 0.2 & setosa \\\\\n\t13 & 4.8 & 3.0 & 1.4 & 0.1 & setosa \\\\\n\t14 & 4.3 & 3.0 & 1.1 & 0.1 & setosa \\\\\n\t15 & 5.8 & 4.0 & 1.2 & 0.2 & setosa \\\\\n\t16 & 5.7 & 4.4 & 1.5 & 0.4 & setosa \\\\\n\t17 & 5.4 & 3.9 & 1.3 & 0.4 & setosa \\\\\n\t18 & 5.1 & 3.5 & 1.4 & 0.3 & setosa \\\\\n\t19 & 5.7 & 3.8 & 1.7 & 0.3 & setosa \\\\\n\t20 & 5.1 & 3.8 & 1.5 & 0.3 & setosa \\\\\n\t21 & 5.4 & 3.4 & 1.7 & 0.2 & setosa \\\\\n\t22 & 5.1 & 3.7 & 1.5 & 0.4 & setosa \\\\\n\t23 & 4.6 & 3.6 & 1.0 & 0.2 & setosa \\\\\n\t24 & 5.1 & 3.3 & 1.7 & 0.5 & setosa \\\\\n\t25 & 4.8 & 3.4 & 1.9 & 0.2 & setosa \\\\\n\t26 & 5.0 & 3.0 & 1.6 & 0.2 & setosa \\\\\n\t27 & 5.0 & 3.4 & 1.6 & 0.4 & setosa \\\\\n\t28 & 5.2 & 3.5 & 1.5 & 0.2 & setosa \\\\\n\t29 & 5.2 & 3.4 & 1.4 & 0.2 & setosa \\\\\n\t30 & 4.7 & 3.2 & 1.6 & 0.2 & setosa \\\\\n\t$\\dots$ & $\\dots$ & $\\dots$ & $\\dots$ & $\\dots$ & $\\dots$ \\\\\n\\end{tabular}\n\n$\\dots$\n\nLast Group (50 rows): Species = CategoricalArrays.CategoricalValue\\{String,UInt8\\} \"virginica\"\n\n\\begin{tabular}{r|ccccc}\n\t& SepalLength & SepalWidth & PetalLength & PetalWidth & Species\\\\\n\t\\hline\n\t& Float64 & Float64 & Float64 & Float64 & Cat…\\\\\n\t\\hline\n\t1 & 6.3 & 3.3 & 6.0 & 2.5 & virginica \\\\\n\t2 & 5.8 & 2.7 & 5.1 & 1.9 & virginica \\\\\n\t3 & 7.1 & 3.0 & 5.9 & 2.1 & virginica \\\\\n\t4 & 6.3 & 2.9 & 5.6 & 1.8 & virginica \\\\\n\t5 & 6.5 & 3.0 & 5.8 & 2.2 & virginica \\\\\n\t6 & 7.6 & 3.0 & 6.6 & 2.1 & virginica \\\\\n\t7 & 4.9 & 2.5 & 4.5 & 1.7 & virginica \\\\\n\t8 & 7.3 & 2.9 & 6.3 & 1.8 & virginica \\\\\n\t9 & 6.7 & 2.5 & 5.8 & 1.8 & virginica \\\\\n\t10 & 7.2 & 3.6 & 6.1 & 2.5 & virginica \\\\\n\t11 & 6.5 & 3.2 & 5.1 & 2.0 & virginica \\\\\n\t12 & 6.4 & 2.7 & 5.3 & 1.9 & virginica \\\\\n\t13 & 6.8 & 3.0 & 5.5 & 2.1 & virginica \\\\\n\t14 & 5.7 & 2.5 & 5.0 & 2.0 & virginica \\\\\n\t15 & 5.8 & 2.8 & 5.1 & 2.4 & virginica \\\\\n\t16 & 6.4 & 3.2 & 5.3 & 2.3 & virginica \\\\\n\t17 & 6.5 & 3.0 & 5.5 & 1.8 & virginica \\\\\n\t18 & 7.7 & 3.8 & 6.7 & 2.2 & virginica \\\\\n\t19 & 7.7 & 2.6 & 6.9 & 2.3 & virginica \\\\\n\t20 & 6.0 & 2.2 & 5.0 & 1.5 & virginica \\\\\n\t21 & 6.9 & 3.2 & 5.7 & 2.3 & virginica \\\\\n\t22 & 5.6 & 2.8 & 4.9 & 2.0 & virginica \\\\\n\t23 & 7.7 & 2.8 & 6.7 & 2.0 & virginica \\\\\n\t24 & 6.3 & 2.7 & 4.9 & 1.8 & virginica \\\\\n\t25 & 6.7 & 3.3 & 5.7 & 2.1 & virginica \\\\\n\t26 & 7.2 & 3.2 & 6.0 & 1.8 & virginica \\\\\n\t27 & 6.2 & 2.8 & 4.8 & 1.8 & virginica \\\\\n\t28 & 6.1 & 3.0 & 4.9 & 1.8 & virginica \\\\\n\t29 & 6.4 & 2.8 & 5.6 & 2.1 & virginica \\\\\n\t30 & 7.2 & 3.0 & 5.8 & 1.6 & virginica \\\\\n\t$\\dots$ & $\\dots$ & $\\dots$ & $\\dots$ & $\\dots$ & $\\dots$ \\\\\n\\end{tabular}\n",
            "text/html": [
              "<p><b>GroupedDataFrame with 3 groups based on key: Species</b></p><p><i>First Group (50 rows): Species = CategoricalArrays.CategoricalValue{String,UInt8} \"setosa\"</i></p><table class=\"data-frame\"><thead><tr><th></th><th>SepalLength</th><th>SepalWidth</th><th>PetalLength</th><th>PetalWidth</th><th>Species</th></tr><tr><th></th><th>Float64</th><th>Float64</th><th>Float64</th><th>Float64</th><th>Cat…</th></tr></thead><tbody><tr><th>1</th><td>5.1</td><td>3.5</td><td>1.4</td><td>0.2</td><td>setosa</td></tr><tr><th>2</th><td>4.9</td><td>3.0</td><td>1.4</td><td>0.2</td><td>setosa</td></tr><tr><th>3</th><td>4.7</td><td>3.2</td><td>1.3</td><td>0.2</td><td>setosa</td></tr><tr><th>4</th><td>4.6</td><td>3.1</td><td>1.5</td><td>0.2</td><td>setosa</td></tr><tr><th>5</th><td>5.0</td><td>3.6</td><td>1.4</td><td>0.2</td><td>setosa</td></tr><tr><th>6</th><td>5.4</td><td>3.9</td><td>1.7</td><td>0.4</td><td>setosa</td></tr><tr><th>7</th><td>4.6</td><td>3.4</td><td>1.4</td><td>0.3</td><td>setosa</td></tr><tr><th>8</th><td>5.0</td><td>3.4</td><td>1.5</td><td>0.2</td><td>setosa</td></tr><tr><th>9</th><td>4.4</td><td>2.9</td><td>1.4</td><td>0.2</td><td>setosa</td></tr><tr><th>10</th><td>4.9</td><td>3.1</td><td>1.5</td><td>0.1</td><td>setosa</td></tr><tr><th>11</th><td>5.4</td><td>3.7</td><td>1.5</td><td>0.2</td><td>setosa</td></tr><tr><th>12</th><td>4.8</td><td>3.4</td><td>1.6</td><td>0.2</td><td>setosa</td></tr><tr><th>13</th><td>4.8</td><td>3.0</td><td>1.4</td><td>0.1</td><td>setosa</td></tr><tr><th>14</th><td>4.3</td><td>3.0</td><td>1.1</td><td>0.1</td><td>setosa</td></tr><tr><th>15</th><td>5.8</td><td>4.0</td><td>1.2</td><td>0.2</td><td>setosa</td></tr><tr><th>16</th><td>5.7</td><td>4.4</td><td>1.5</td><td>0.4</td><td>setosa</td></tr><tr><th>17</th><td>5.4</td><td>3.9</td><td>1.3</td><td>0.4</td><td>setosa</td></tr><tr><th>18</th><td>5.1</td><td>3.5</td><td>1.4</td><td>0.3</td><td>setosa</td></tr><tr><th>19</th><td>5.7</td><td>3.8</td><td>1.7</td><td>0.3</td><td>setosa</td></tr><tr><th>20</th><td>5.1</td><td>3.8</td><td>1.5</td><td>0.3</td><td>setosa</td></tr><tr><th>21</th><td>5.4</td><td>3.4</td><td>1.7</td><td>0.2</td><td>setosa</td></tr><tr><th>22</th><td>5.1</td><td>3.7</td><td>1.5</td><td>0.4</td><td>setosa</td></tr><tr><th>23</th><td>4.6</td><td>3.6</td><td>1.0</td><td>0.2</td><td>setosa</td></tr><tr><th>24</th><td>5.1</td><td>3.3</td><td>1.7</td><td>0.5</td><td>setosa</td></tr><tr><th>25</th><td>4.8</td><td>3.4</td><td>1.9</td><td>0.2</td><td>setosa</td></tr><tr><th>26</th><td>5.0</td><td>3.0</td><td>1.6</td><td>0.2</td><td>setosa</td></tr><tr><th>27</th><td>5.0</td><td>3.4</td><td>1.6</td><td>0.4</td><td>setosa</td></tr><tr><th>28</th><td>5.2</td><td>3.5</td><td>1.5</td><td>0.2</td><td>setosa</td></tr><tr><th>29</th><td>5.2</td><td>3.4</td><td>1.4</td><td>0.2</td><td>setosa</td></tr><tr><th>30</th><td>4.7</td><td>3.2</td><td>1.6</td><td>0.2</td><td>setosa</td></tr><tr><th>&vellip;</th><td>&vellip;</td><td>&vellip;</td><td>&vellip;</td><td>&vellip;</td><td>&vellip;</td></tr></tbody></table><p>&vellip;</p><p><i>Last Group (50 rows): Species = CategoricalArrays.CategoricalValue{String,UInt8} \"virginica\"</i></p><table class=\"data-frame\"><thead><tr><th></th><th>SepalLength</th><th>SepalWidth</th><th>PetalLength</th><th>PetalWidth</th><th>Species</th></tr><tr><th></th><th>Float64</th><th>Float64</th><th>Float64</th><th>Float64</th><th>Cat…</th></tr></thead><tbody><tr><th>1</th><td>6.3</td><td>3.3</td><td>6.0</td><td>2.5</td><td>virginica</td></tr><tr><th>2</th><td>5.8</td><td>2.7</td><td>5.1</td><td>1.9</td><td>virginica</td></tr><tr><th>3</th><td>7.1</td><td>3.0</td><td>5.9</td><td>2.1</td><td>virginica</td></tr><tr><th>4</th><td>6.3</td><td>2.9</td><td>5.6</td><td>1.8</td><td>virginica</td></tr><tr><th>5</th><td>6.5</td><td>3.0</td><td>5.8</td><td>2.2</td><td>virginica</td></tr><tr><th>6</th><td>7.6</td><td>3.0</td><td>6.6</td><td>2.1</td><td>virginica</td></tr><tr><th>7</th><td>4.9</td><td>2.5</td><td>4.5</td><td>1.7</td><td>virginica</td></tr><tr><th>8</th><td>7.3</td><td>2.9</td><td>6.3</td><td>1.8</td><td>virginica</td></tr><tr><th>9</th><td>6.7</td><td>2.5</td><td>5.8</td><td>1.8</td><td>virginica</td></tr><tr><th>10</th><td>7.2</td><td>3.6</td><td>6.1</td><td>2.5</td><td>virginica</td></tr><tr><th>11</th><td>6.5</td><td>3.2</td><td>5.1</td><td>2.0</td><td>virginica</td></tr><tr><th>12</th><td>6.4</td><td>2.7</td><td>5.3</td><td>1.9</td><td>virginica</td></tr><tr><th>13</th><td>6.8</td><td>3.0</td><td>5.5</td><td>2.1</td><td>virginica</td></tr><tr><th>14</th><td>5.7</td><td>2.5</td><td>5.0</td><td>2.0</td><td>virginica</td></tr><tr><th>15</th><td>5.8</td><td>2.8</td><td>5.1</td><td>2.4</td><td>virginica</td></tr><tr><th>16</th><td>6.4</td><td>3.2</td><td>5.3</td><td>2.3</td><td>virginica</td></tr><tr><th>17</th><td>6.5</td><td>3.0</td><td>5.5</td><td>1.8</td><td>virginica</td></tr><tr><th>18</th><td>7.7</td><td>3.8</td><td>6.7</td><td>2.2</td><td>virginica</td></tr><tr><th>19</th><td>7.7</td><td>2.6</td><td>6.9</td><td>2.3</td><td>virginica</td></tr><tr><th>20</th><td>6.0</td><td>2.2</td><td>5.0</td><td>1.5</td><td>virginica</td></tr><tr><th>21</th><td>6.9</td><td>3.2</td><td>5.7</td><td>2.3</td><td>virginica</td></tr><tr><th>22</th><td>5.6</td><td>2.8</td><td>4.9</td><td>2.0</td><td>virginica</td></tr><tr><th>23</th><td>7.7</td><td>2.8</td><td>6.7</td><td>2.0</td><td>virginica</td></tr><tr><th>24</th><td>6.3</td><td>2.7</td><td>4.9</td><td>1.8</td><td>virginica</td></tr><tr><th>25</th><td>6.7</td><td>3.3</td><td>5.7</td><td>2.1</td><td>virginica</td></tr><tr><th>26</th><td>7.2</td><td>3.2</td><td>6.0</td><td>1.8</td><td>virginica</td></tr><tr><th>27</th><td>6.2</td><td>2.8</td><td>4.8</td><td>1.8</td><td>virginica</td></tr><tr><th>28</th><td>6.1</td><td>3.0</td><td>4.9</td><td>1.8</td><td>virginica</td></tr><tr><th>29</th><td>6.4</td><td>2.8</td><td>5.6</td><td>2.1</td><td>virginica</td></tr><tr><th>30</th><td>7.2</td><td>3.0</td><td>5.8</td><td>1.6</td><td>virginica</td></tr><tr><th>&vellip;</th><td>&vellip;</td><td>&vellip;</td><td>&vellip;</td><td>&vellip;</td><td>&vellip;</td></tr></tbody></table>"
            ],
            "text/plain": [
              "GroupedDataFrame with 3 groups based on key: Species\n",
              "First Group (50 rows): Species = CategoricalArrays.CategoricalValue{String,UInt8} \"setosa\"\n",
              "\u001b[1m Row \u001b[0m│\u001b[1m SepalLength \u001b[0m\u001b[1m SepalWidth \u001b[0m\u001b[1m PetalLength \u001b[0m\u001b[1m PetalWidth \u001b[0m\u001b[1m Species \u001b[0m\n",
              "\u001b[1m     \u001b[0m│\u001b[90m Float64     \u001b[0m\u001b[90m Float64    \u001b[0m\u001b[90m Float64     \u001b[0m\u001b[90m Float64    \u001b[0m\u001b[90m Cat…    \u001b[0m\n",
              "─────┼───────────────────────────────────────────────────────────\n",
              "   1 │         5.1         3.5          1.4         0.2  setosa\n",
              "   2 │         4.9         3.0          1.4         0.2  setosa\n",
              "   3 │         4.7         3.2          1.3         0.2  setosa\n",
              "   4 │         4.6         3.1          1.5         0.2  setosa\n",
              "   5 │         5.0         3.6          1.4         0.2  setosa\n",
              "   6 │         5.4         3.9          1.7         0.4  setosa\n",
              "   7 │         4.6         3.4          1.4         0.3  setosa\n",
              "   8 │         5.0         3.4          1.5         0.2  setosa\n",
              "   9 │         4.4         2.9          1.4         0.2  setosa\n",
              "  10 │         4.9         3.1          1.5         0.1  setosa\n",
              "  11 │         5.4         3.7          1.5         0.2  setosa\n",
              "  ⋮  │      ⋮           ⋮            ⋮           ⋮          ⋮\n",
              "  40 │         5.1         3.4          1.5         0.2  setosa\n",
              "  41 │         5.0         3.5          1.3         0.3  setosa\n",
              "  42 │         4.5         2.3          1.3         0.3  setosa\n",
              "  43 │         4.4         3.2          1.3         0.2  setosa\n",
              "  44 │         5.0         3.5          1.6         0.6  setosa\n",
              "  45 │         5.1         3.8          1.9         0.4  setosa\n",
              "  46 │         4.8         3.0          1.4         0.3  setosa\n",
              "  47 │         5.1         3.8          1.6         0.2  setosa\n",
              "  48 │         4.6         3.2          1.4         0.2  setosa\n",
              "  49 │         5.3         3.7          1.5         0.2  setosa\n",
              "  50 │         5.0         3.3          1.4         0.2  setosa\n",
              "\u001b[31m                                                  28 rows omitted\u001b[0m\n",
              "⋮\n",
              "Last Group (50 rows): Species = CategoricalArrays.CategoricalValue{String,UInt8} \"virginica\"\n",
              "\u001b[1m Row \u001b[0m│\u001b[1m SepalLength \u001b[0m\u001b[1m SepalWidth \u001b[0m\u001b[1m PetalLength \u001b[0m\u001b[1m PetalWidth \u001b[0m\u001b[1m Species   \u001b[0m\n",
              "\u001b[1m     \u001b[0m│\u001b[90m Float64     \u001b[0m\u001b[90m Float64    \u001b[0m\u001b[90m Float64     \u001b[0m\u001b[90m Float64    \u001b[0m\u001b[90m Cat…      \u001b[0m\n",
              "─────┼─────────────────────────────────────────────────────────────\n",
              "   1 │         6.3         3.3          6.0         2.5  virginica\n",
              "   2 │         5.8         2.7          5.1         1.9  virginica\n",
              "   3 │         7.1         3.0          5.9         2.1  virginica\n",
              "   4 │         6.3         2.9          5.6         1.8  virginica\n",
              "   5 │         6.5         3.0          5.8         2.2  virginica\n",
              "   6 │         7.6         3.0          6.6         2.1  virginica\n",
              "   7 │         4.9         2.5          4.5         1.7  virginica\n",
              "   8 │         7.3         2.9          6.3         1.8  virginica\n",
              "   9 │         6.7         2.5          5.8         1.8  virginica\n",
              "  10 │         7.2         3.6          6.1         2.5  virginica\n",
              "  11 │         6.5         3.2          5.1         2.0  virginica\n",
              "  ⋮  │      ⋮           ⋮            ⋮           ⋮           ⋮\n",
              "  40 │         6.9         3.1          5.4         2.1  virginica\n",
              "  41 │         6.7         3.1          5.6         2.4  virginica\n",
              "  42 │         6.9         3.1          5.1         2.3  virginica\n",
              "  43 │         5.8         2.7          5.1         1.9  virginica\n",
              "  44 │         6.8         3.2          5.9         2.3  virginica\n",
              "  45 │         6.7         3.3          5.7         2.5  virginica\n",
              "  46 │         6.7         3.0          5.2         2.3  virginica\n",
              "  47 │         6.3         2.5          5.0         1.9  virginica\n",
              "  48 │         6.5         3.0          5.2         2.0  virginica\n",
              "  49 │         6.2         3.4          5.4         2.3  virginica\n",
              "  50 │         5.9         3.0          5.1         1.8  virginica\n",
              "\u001b[31m                                                    28 rows omitted\u001b[0m"
            ]
          },
          "metadata": {
            "tags": []
          },
          "execution_count": 208
        }
      ]
    },
    {
      "cell_type": "code",
      "metadata": {
        "id": "FeHhFYX2Ox7s",
        "colab": {
          "base_uri": "https://localhost:8080/",
          "height": 193
        },
        "outputId": "e81259b2-434f-487e-d856-a915d8bc527c"
      },
      "source": [
        "describe(iris)"
      ],
      "execution_count": 209,
      "outputs": [
        {
          "output_type": "execute_result",
          "data": {
            "text/latex": "\\begin{tabular}{r|ccccccc}\n\t& variable & mean & min & median & max & nmissing & eltype\\\\\n\t\\hline\n\t& Symbol & Union… & Any & Union… & Any & Int64 & DataType\\\\\n\t\\hline\n\t1 & SepalLength & 5.84333 & 4.3 & 5.8 & 7.9 & 0 & Float64 \\\\\n\t2 & SepalWidth & 3.05733 & 2.0 & 3.0 & 4.4 & 0 & Float64 \\\\\n\t3 & PetalLength & 3.758 & 1.0 & 4.35 & 6.9 & 0 & Float64 \\\\\n\t4 & PetalWidth & 1.19933 & 0.1 & 1.3 & 2.5 & 0 & Float64 \\\\\n\t5 & Species &  & setosa &  & virginica & 0 & CategoricalValue\\{String,UInt8\\} \\\\\n\\end{tabular}\n",
            "text/html": [
              "<table class=\"data-frame\"><thead><tr><th></th><th>variable</th><th>mean</th><th>min</th><th>median</th><th>max</th><th>nmissing</th><th>eltype</th></tr><tr><th></th><th>Symbol</th><th>Union…</th><th>Any</th><th>Union…</th><th>Any</th><th>Int64</th><th>DataType</th></tr></thead><tbody><p>5 rows × 7 columns</p><tr><th>1</th><td>SepalLength</td><td>5.84333</td><td>4.3</td><td>5.8</td><td>7.9</td><td>0</td><td>Float64</td></tr><tr><th>2</th><td>SepalWidth</td><td>3.05733</td><td>2.0</td><td>3.0</td><td>4.4</td><td>0</td><td>Float64</td></tr><tr><th>3</th><td>PetalLength</td><td>3.758</td><td>1.0</td><td>4.35</td><td>6.9</td><td>0</td><td>Float64</td></tr><tr><th>4</th><td>PetalWidth</td><td>1.19933</td><td>0.1</td><td>1.3</td><td>2.5</td><td>0</td><td>Float64</td></tr><tr><th>5</th><td>Species</td><td></td><td>setosa</td><td></td><td>virginica</td><td>0</td><td>CategoricalValue{String,UInt8}</td></tr></tbody></table>"
            ],
            "text/plain": [
              "\u001b[1m5×7 DataFrame\u001b[0m\n",
              "\u001b[1m Row \u001b[0m│\u001b[1m variable    \u001b[0m\u001b[1m mean    \u001b[0m\u001b[1m min    \u001b[0m\u001b[1m median \u001b[0m\u001b[1m max       \u001b[0m\u001b[1m nmissing \u001b[0m\u001b[1m eltype      \u001b[0m ⋯\n",
              "\u001b[1m     \u001b[0m│\u001b[90m Symbol      \u001b[0m\u001b[90m Union…  \u001b[0m\u001b[90m Any    \u001b[0m\u001b[90m Union… \u001b[0m\u001b[90m Any       \u001b[0m\u001b[90m Int64    \u001b[0m\u001b[90m DataType    \u001b[0m ⋯\n",
              "─────┼──────────────────────────────────────────────────────────────────────────\n",
              "   1 │ SepalLength  5.84333  4.3     5.8     7.9               0  Float64      ⋯\n",
              "   2 │ SepalWidth   3.05733  2.0     3.0     4.4               0  Float64\n",
              "   3 │ PetalLength  3.758    1.0     4.35    6.9               0  Float64\n",
              "   4 │ PetalWidth   1.19933  0.1     1.3     2.5               0  Float64\n",
              "   5 │ Species     \u001b[90m         \u001b[0m setosa \u001b[90m        \u001b[0m virginica         0  CategoricalV ⋯\n",
              "\u001b[31m                                                                1 column omitted\u001b[0m"
            ]
          },
          "metadata": {
            "tags": []
          },
          "execution_count": 209
        }
      ]
    },
    {
      "cell_type": "code",
      "metadata": {
        "id": "9QbwyyBmOx7s"
      },
      "source": [
        "#describe(iris, stats=[:q25, :q75, :first, :last])"
      ],
      "execution_count": 213,
      "outputs": []
    },
    {
      "cell_type": "code",
      "metadata": {
        "id": "rnU_r_RROx7s"
      },
      "source": [
        "#describe(iris, stats=:all)"
      ],
      "execution_count": 215,
      "outputs": []
    },
    {
      "cell_type": "code",
      "metadata": {
        "id": "6rwroW1zOx7s",
        "colab": {
          "base_uri": "https://localhost:8080/"
        },
        "outputId": "9e811f62-c9e8-43f1-d2b1-2c897360acf4"
      },
      "source": [
        "using Statistics\n",
        "mean(iris[!,:SepalLength])"
      ],
      "execution_count": 217,
      "outputs": [
        {
          "output_type": "execute_result",
          "data": {
            "text/plain": [
              "5.843333333333334"
            ]
          },
          "metadata": {
            "tags": []
          },
          "execution_count": 217
        }
      ]
    },
    {
      "cell_type": "code",
      "metadata": {
        "id": "Mbr2Lb3OOx7t"
      },
      "source": [
        "median(iris[:SepalLength])"
      ],
      "execution_count": null,
      "outputs": []
    },
    {
      "cell_type": "code",
      "metadata": {
        "id": "ayCyuNASOx7t"
      },
      "source": [
        "std(iris[:SepalLength])"
      ],
      "execution_count": null,
      "outputs": []
    },
    {
      "cell_type": "code",
      "metadata": {
        "id": "qUJZVa7sOx7t"
      },
      "source": [
        "for x in names(iris)[1:end-1]   \n",
        "\t    for y in names(iris)[1:end-1]\n",
        "\t      println(\"$x \\t $y \\t $(cor(iris[x], iris[y]))\")\n",
        "\t    end\n",
        "\t    println(\"-------------------------------------------\")\n",
        "\t  end"
      ],
      "execution_count": null,
      "outputs": []
    },
    {
      "cell_type": "code",
      "metadata": {
        "id": "Jk--fHPUOx7t"
      },
      "source": [
        "for x in names(iris)[1:end-1]\n",
        "         for y in names(iris)[1:end-1]\n",
        "           println(\"$x \\t $y \\t $(cov(iris[x], iris[y]))\")\n",
        "         end\n",
        "         println(\"--------------------------------------------\")\n",
        "       end"
      ],
      "execution_count": null,
      "outputs": []
    },
    {
      "cell_type": "code",
      "metadata": {
        "id": "jlTshxiWOx7t"
      },
      "source": [
        "rand(iris[:SepalLength])"
      ],
      "execution_count": null,
      "outputs": []
    },
    {
      "cell_type": "code",
      "metadata": {
        "id": "293IpAPcOx7u"
      },
      "source": [
        "rand(iris[:SepalLength], 5)"
      ],
      "execution_count": null,
      "outputs": []
    },
    {
      "cell_type": "code",
      "metadata": {
        "id": "343Xiw5rOx7u"
      },
      "source": [
        "sepallength = Array(iris[:SepalLength])"
      ],
      "execution_count": null,
      "outputs": []
    },
    {
      "cell_type": "code",
      "metadata": {
        "id": "FW0Ki6rJOx7u"
      },
      "source": [
        "irisarr = convert(Array, iris[:,:])"
      ],
      "execution_count": null,
      "outputs": []
    },
    {
      "cell_type": "code",
      "metadata": {
        "scrolled": true,
        "id": "fXNbpPJBOx7u"
      },
      "source": [
        "pkg\"add Compose#master\"\n",
        "pkg\"add Gadfly#master\"\n",
        "pkg\"add Hexagons\"\n",
        "# pkg\"add Gadfly\"\n",
        "using Gadfly"
      ],
      "execution_count": null,
      "outputs": []
    },
    {
      "cell_type": "code",
      "metadata": {
        "id": "r_KPsvfXOx7u"
      },
      "source": [
        "plot(iris, x=:SepalLength, y=:PetalLength, color=:Species)"
      ],
      "execution_count": null,
      "outputs": []
    },
    {
      "cell_type": "code",
      "metadata": {
        "id": "X2gldj_cOx7v"
      },
      "source": [
        "plot(iris, x=:Species, y=:PetalLength, Geom.boxplot)"
      ],
      "execution_count": null,
      "outputs": []
    },
    {
      "cell_type": "code",
      "metadata": {
        "id": "S0qyVGTXOx7v"
      },
      "source": [
        "plot(iris, x=:PetalLength, color=:Species, Geom.histogram)"
      ],
      "execution_count": null,
      "outputs": []
    },
    {
      "cell_type": "code",
      "metadata": {
        "id": "3V65yLSsOx7v"
      },
      "source": [
        "plot(iris, x=:PetalWidth, color=:Species, Geom.histogram)"
      ],
      "execution_count": null,
      "outputs": []
    },
    {
      "cell_type": "code",
      "metadata": {
        "id": "0V2Z0SrWOx7w"
      },
      "source": [
        "plot(iris, x=:PetalWidth, y=:PetalLength, color=:Species)"
      ],
      "execution_count": null,
      "outputs": []
    },
    {
      "cell_type": "code",
      "metadata": {
        "id": "q02xzISXOx7w"
      },
      "source": [
        "iris[1:3, [:PetalLength, :PetalWidth]]"
      ],
      "execution_count": null,
      "outputs": []
    },
    {
      "cell_type": "code",
      "metadata": {
        "id": "52uRYeEBOx7w"
      },
      "source": [
        "iris[trues(150), [:PetalLength, :PetalWidth]]"
      ],
      "execution_count": null,
      "outputs": []
    },
    {
      "cell_type": "code",
      "metadata": {
        "scrolled": true,
        "id": "O7cg_3OeOx7w"
      },
      "source": [
        "test_data = iris[rand(150) .<= 0.1, [:PetalLength, :PetalWidth, :Species]]"
      ],
      "execution_count": null,
      "outputs": []
    },
    {
      "cell_type": "code",
      "metadata": {
        "id": "MCeGJAKgOx7w"
      },
      "source": [
        "pkg\"add CSV\""
      ],
      "execution_count": null,
      "outputs": []
    },
    {
      "cell_type": "code",
      "metadata": {
        "id": "FV70Wp6pOx7x"
      },
      "source": [
        "using CSV"
      ],
      "execution_count": null,
      "outputs": []
    },
    {
      "cell_type": "code",
      "metadata": {
        "id": "T94zBx51Ox7x"
      },
      "source": [
        "CSV.write(\"test_data.csv\", test_data)"
      ],
      "execution_count": null,
      "outputs": []
    },
    {
      "cell_type": "code",
      "metadata": {
        "id": "2-jfkmxsOx7x"
      },
      "source": [
        "pkg\"add Feather\""
      ],
      "execution_count": null,
      "outputs": []
    },
    {
      "cell_type": "code",
      "metadata": {
        "id": "TAofC5nhOx7x"
      },
      "source": [
        "using Feather"
      ],
      "execution_count": null,
      "outputs": []
    },
    {
      "cell_type": "code",
      "metadata": {
        "id": "Gpk1GY-jOx7x"
      },
      "source": [
        "Feather.write(\"test_data.feather\", test_data)"
      ],
      "execution_count": null,
      "outputs": []
    },
    {
      "cell_type": "code",
      "metadata": {
        "id": "6-uZ5fxaOx7y"
      },
      "source": [
        "Feather.read(\"test_data.feather\")"
      ],
      "execution_count": null,
      "outputs": []
    },
    {
      "cell_type": "code",
      "metadata": {
        "id": "8GPBga-ROx7y"
      },
      "source": [
        ""
      ],
      "execution_count": null,
      "outputs": []
    }
  ]
}