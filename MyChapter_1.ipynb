{
  "nbformat": 4,
  "nbformat_minor": 0,
  "metadata": {
    "kernelspec": {
      "display_name": "Julia 1.0.1",
      "language": "julia",
      "name": "julia-1.0"
    },
    "language_info": {
      "file_extension": ".jl",
      "mimetype": "application/julia",
      "name": "julia",
      "version": "1.0.2"
    },
    "colab": {
      "name": "MyChapter 1.ipynb",
      "provenance": [],
      "collapsed_sections": [],
      "include_colab_link": true
    }
  },
  "cells": [
    {
      "cell_type": "markdown",
      "metadata": {
        "id": "view-in-github",
        "colab_type": "text"
      },
      "source": [
        "<a href=\"https://colab.research.google.com/github/elevit/JuliaTest/blob/main/MyChapter_1.ipynb\" target=\"_parent\"><img src=\"https://colab.research.google.com/assets/colab-badge.svg\" alt=\"Open In Colab\"/></a>"
      ]
    },
    {
      "cell_type": "code",
      "metadata": {
        "id": "MzCBqKOQzXzZ"
      },
      "source": [
        "%%shell\r\n",
        "set -e\r\n",
        "\r\n",
        "#---------------------------------------------------#\r\n",
        "JULIA_VERSION=\"1.5.3\" # any version ≥ 0.7.0\r\n",
        "JULIA_PACKAGES=\"IJulia BenchmarkTools PyCall PyPlot\"\r\n",
        "JULIA_PACKAGES_IF_GPU=\"CUDA\"\r\n",
        "JULIA_NUM_THREADS=4\r\n",
        "#---------------------------------------------------#\r\n",
        "\r\n",
        "if [ -n \"$COLAB_GPU\" ] && [ -z `which julia` ]; then\r\n",
        "  # Install Julia\r\n",
        "  JULIA_VER=`cut -d '.' -f -2 <<< \"$JULIA_VERSION\"`\r\n",
        "  echo \"Installing Julia $JULIA_VERSION on the current Colab Runtime...\"\r\n",
        "  BASE_URL=\"https://julialang-s3.julialang.org/bin/linux/x64\"\r\n",
        "  URL=\"$BASE_URL/$JULIA_VER/julia-$JULIA_VERSION-linux-x86_64.tar.gz\"\r\n",
        "  wget -nv $URL -O /tmp/julia.tar.gz # -nv means \"not verbose\"\r\n",
        "  tar -x -f /tmp/julia.tar.gz -C /usr/local --strip-components 1\r\n",
        "  rm /tmp/julia.tar.gz\r\n",
        "\r\n",
        "  # Install Packages\r\n",
        "  if [ \"$COLAB_GPU\" = \"1\" ]; then\r\n",
        "      JULIA_PACKAGES=\"$JULIA_PACKAGES $JULIA_PACKAGES_IF_GPU\"\r\n",
        "  fi\r\n",
        "  for PKG in `echo $JULIA_PACKAGES`; do\r\n",
        "    echo \"Installing Julia package $PKG...\"\r\n",
        "    julia -e 'using Pkg; pkg\"add '$PKG'; precompile;\"'\r\n",
        "  done\r\n",
        "\r\n",
        "  # Install kernel and rename it to \"julia\"\r\n",
        "  echo \"Installing IJulia kernel...\"\r\n",
        "  julia -e 'using IJulia; IJulia.installkernel(\"julia\", env=Dict(\r\n",
        "      \"JULIA_NUM_THREADS\"=>\"'\"$JULIA_NUM_THREADS\"'\"))'\r\n",
        "  KERNEL_DIR=`julia -e \"using IJulia; print(IJulia.kerneldir())\"`\r\n",
        "  KERNEL_NAME=`ls -d \"$KERNEL_DIR\"/julia*`\r\n",
        "  mv -f $KERNEL_NAME \"$KERNEL_DIR\"/julia  \r\n",
        "\r\n",
        "  echo ''\r\n",
        "  echo \"Successfully installed `julia -v`!\"\r\n",
        "  echo \"Please reload this page (press Ctrl+R, ⌘+R, or the F5 key) then\"\r\n",
        "  echo \"jump to the 'Checking the Installation' section.\"\r\n",
        "fi"
      ],
      "execution_count": null,
      "outputs": []
    },
    {
      "cell_type": "code",
      "metadata": {
        "id": "Yf5gzl500JXe",
        "colab": {
          "base_uri": "https://localhost:8080/",
          "height": 166
        },
        "outputId": "24194a50-336f-4800-9e0b-6986d46cd7c1"
      },
      "source": [
        "versioninfo()"
      ],
      "execution_count": null,
      "outputs": [
        {
          "output_type": "error",
          "ename": "NameError",
          "evalue": "ignored",
          "traceback": [
            "\u001b[0;31m---------------------------------------------------------------------------\u001b[0m",
            "\u001b[0;31mNameError\u001b[0m                                 Traceback (most recent call last)",
            "\u001b[0;32m<ipython-input-4-a67619e8ecad>\u001b[0m in \u001b[0;36m<module>\u001b[0;34m()\u001b[0m\n\u001b[0;32m----> 1\u001b[0;31m \u001b[0mversioninfo\u001b[0m\u001b[0;34m(\u001b[0m\u001b[0;34m)\u001b[0m\u001b[0;34m\u001b[0m\u001b[0;34m\u001b[0m\u001b[0m\n\u001b[0m",
            "\u001b[0;31mNameError\u001b[0m: name 'versioninfo' is not defined"
          ]
        }
      ]
    },
    {
      "cell_type": "code",
      "metadata": {
        "id": "YUMZa1D8zRON"
      },
      "source": [
        "using Pkg\n",
        "pkg\"activate .\""
      ],
      "execution_count": null,
      "outputs": []
    },
    {
      "cell_type": "code",
      "metadata": {
        "id": "a-ALs_v9zROU"
      },
      "source": [
        "# Run this cell in order to download all the package dependencies with the exact versions used in the book\n",
        "# This is necessary if (some of) the packages have been updated and have introduced breaking changes\n",
        "pkg\"instantiate\""
      ],
      "execution_count": null,
      "outputs": []
    },
    {
      "cell_type": "code",
      "metadata": {
        "id": "qELsWvXmzROV"
      },
      "source": [
        "2+2"
      ],
      "execution_count": null,
      "outputs": []
    },
    {
      "cell_type": "code",
      "metadata": {
        "id": "LIXKUQ_ZzROW"
      },
      "source": [
        "2^3"
      ],
      "execution_count": null,
      "outputs": []
    },
    {
      "cell_type": "code",
      "metadata": {
        "id": "3JKj_LkpzROW"
      },
      "source": [
        "println(\"Welcome to Julia\")"
      ],
      "execution_count": null,
      "outputs": []
    },
    {
      "cell_type": "code",
      "metadata": {
        "id": "BBVNlqe8zROW"
      },
      "source": [
        "greeting = \"Hello\""
      ],
      "execution_count": null,
      "outputs": []
    },
    {
      "cell_type": "code",
      "metadata": {
        "id": "CK9fzIgLzROX"
      },
      "source": [
        "# Oops, typo!\n",
        "println(greting)"
      ],
      "execution_count": null,
      "outputs": []
    },
    {
      "cell_type": "code",
      "metadata": {
        "id": "lk0aACZ0zROX"
      },
      "source": [
        "println(greeting)"
      ],
      "execution_count": null,
      "outputs": []
    },
    {
      "cell_type": "code",
      "metadata": {
        "id": "j6jHb3xXzROX"
      },
      "source": [
        "2^3"
      ],
      "execution_count": null,
      "outputs": []
    },
    {
      "cell_type": "code",
      "metadata": {
        "id": "g5eR0UiLzROX"
      },
      "source": [
        "ans"
      ],
      "execution_count": null,
      "outputs": []
    },
    {
      "cell_type": "code",
      "metadata": {
        "scrolled": true,
        "id": "7HlowEXEzROY"
      },
      "source": [
        "?println"
      ],
      "execution_count": null,
      "outputs": []
    },
    {
      "cell_type": "code",
      "metadata": {
        "id": "kNjx0MAezROY"
      },
      "source": [
        "?@time"
      ],
      "execution_count": null,
      "outputs": []
    },
    {
      "cell_type": "code",
      "metadata": {
        "id": "Mu-W0aI6zROY"
      },
      "source": [
        ";tail -n 10 \\~/.julia/logs/repl_history.jl"
      ],
      "execution_count": null,
      "outputs": []
    },
    {
      "cell_type": "code",
      "metadata": {
        "id": "-a1Ne6EyzROY"
      },
      "source": [
        "using REPL\n",
        "REPL.find_hist_file()"
      ],
      "execution_count": null,
      "outputs": []
    },
    {
      "cell_type": "code",
      "metadata": {
        "scrolled": true,
        "id": "gp2QBpOlzROZ"
      },
      "source": [
        "# run commands through Julia\n",
        "`mkdir $(dirname(REPL.find_hist_file()))/../config`\n",
        "`cd $(dirname(REPL.find_hist_file()))/../config`\n",
        "`touch startup.jl`"
      ],
      "execution_count": null,
      "outputs": []
    },
    {
      "cell_type": "code",
      "metadata": {
        "id": "Alo-UYDYzROZ"
      },
      "source": [
        "write(\"startup.jl\", \"println(\\\"Welcome to Julia!\\\")\")"
      ],
      "execution_count": null,
      "outputs": []
    },
    {
      "cell_type": "code",
      "metadata": {
        "id": "vRhBVzbRzROZ"
      },
      "source": [
        "using Pkg\n",
        "pkg\"add OhMyREPL\""
      ],
      "execution_count": null,
      "outputs": []
    },
    {
      "cell_type": "code",
      "metadata": {
        "id": "RJG-wimbzROZ"
      },
      "source": [
        "pkg\"add https://github.com/JuliaLang/Example.jl.git\""
      ],
      "execution_count": null,
      "outputs": []
    },
    {
      "cell_type": "code",
      "metadata": {
        "id": "LcSX95-3zROa"
      },
      "source": [
        "pkg\"add OhMyREPL#master\""
      ],
      "execution_count": null,
      "outputs": []
    },
    {
      "cell_type": "code",
      "metadata": {
        "id": "80W_k2qHzROa"
      },
      "source": [
        "pkg\"add https://github.com/JuliaLang/Example.jl.git#master\""
      ],
      "execution_count": null,
      "outputs": []
    },
    {
      "cell_type": "code",
      "metadata": {
        "id": "bawGxO47zROa"
      },
      "source": [
        "pkg\"free OhMyREPL\""
      ],
      "execution_count": null,
      "outputs": []
    },
    {
      "cell_type": "code",
      "metadata": {
        "id": "Q_2nxoF2zROa"
      },
      "source": [
        "pkg\"add Revise\""
      ],
      "execution_count": null,
      "outputs": []
    },
    {
      "cell_type": "code",
      "metadata": {
        "id": "l8z8NzuBzROb"
      },
      "source": [
        "pkg\"status\""
      ],
      "execution_count": null,
      "outputs": []
    },
    {
      "cell_type": "code",
      "metadata": {
        "id": "D4OldIPvzROb"
      },
      "source": [
        "pkg\"st\""
      ],
      "execution_count": null,
      "outputs": []
    },
    {
      "cell_type": "code",
      "metadata": {
        "id": "zkEKWyGczROb"
      },
      "source": [
        "pkg\"update\""
      ],
      "execution_count": null,
      "outputs": []
    },
    {
      "cell_type": "code",
      "metadata": {
        "id": "RuZ9XTW0zROb"
      },
      "source": [
        "pkg\"update OhMyREPL Revise\""
      ],
      "execution_count": null,
      "outputs": []
    },
    {
      "cell_type": "code",
      "metadata": {
        "id": "53bxalhczROb"
      },
      "source": [
        "pkg\"preview update OhMyREPL\""
      ],
      "execution_count": null,
      "outputs": []
    },
    {
      "cell_type": "code",
      "metadata": {
        "id": "Gr2pOzLYzROc"
      },
      "source": [
        "pkg\"preview add HTTP\""
      ],
      "execution_count": null,
      "outputs": []
    },
    {
      "cell_type": "code",
      "metadata": {
        "id": "pvGpzopuzROc"
      },
      "source": [
        "pkg\"pin OhMyREPL\""
      ],
      "execution_count": null,
      "outputs": []
    },
    {
      "cell_type": "code",
      "metadata": {
        "id": "xh5apFs0zROc"
      },
      "source": [
        "pkg\"free OhMyREPL\""
      ],
      "execution_count": null,
      "outputs": []
    },
    {
      "cell_type": "code",
      "metadata": {
        "id": "DSbIDBiwzROc"
      },
      "source": [
        "pkg\"st\""
      ],
      "execution_count": null,
      "outputs": []
    },
    {
      "cell_type": "code",
      "metadata": {
        "id": "ceHr4wtdzROc"
      },
      "source": [
        "pkg\"remove Example\""
      ],
      "execution_count": null,
      "outputs": []
    },
    {
      "cell_type": "code",
      "metadata": {
        "scrolled": true,
        "id": "kWOlCaH9zROd"
      },
      "source": [
        "pkg\"gc\""
      ],
      "execution_count": null,
      "outputs": []
    },
    {
      "cell_type": "code",
      "metadata": {
        "id": "3Eb7NdiwzROd"
      },
      "source": [
        ""
      ],
      "execution_count": null,
      "outputs": []
    }
  ]
}